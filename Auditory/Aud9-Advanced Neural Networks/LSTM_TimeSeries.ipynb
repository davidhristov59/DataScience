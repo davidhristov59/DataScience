{
 "cells": [
  {
   "cell_type": "code",
   "execution_count": 26,
   "id": "cc92e6b5-8107-4e49-b376-e6924ba94945",
   "metadata": {},
   "outputs": [],
   "source": [
    "import pandas as pd\n",
    "import seaborn as sns\n",
    "import numpy as np \n",
    "\n",
    "from keras.models import Sequential\n",
    "from keras.layers import Dense, Dropout, LSTM"
   ]
  },
  {
   "cell_type": "code",
   "execution_count": 2,
   "id": "28a2786e-358a-4b61-b380-b97d3159a515",
   "metadata": {},
   "outputs": [],
   "source": [
    "df = pd.read_csv('datasets-1/BTC-USD.csv')"
   ]
  },
  {
   "cell_type": "code",
   "execution_count": 3,
   "id": "12098d70-3b4a-4ee2-bbc9-c2e32505d38c",
   "metadata": {},
   "outputs": [
    {
     "data": {
      "text/html": [
       "<div>\n",
       "<style scoped>\n",
       "    .dataframe tbody tr th:only-of-type {\n",
       "        vertical-align: middle;\n",
       "    }\n",
       "\n",
       "    .dataframe tbody tr th {\n",
       "        vertical-align: top;\n",
       "    }\n",
       "\n",
       "    .dataframe thead th {\n",
       "        text-align: right;\n",
       "    }\n",
       "</style>\n",
       "<table border=\"1\" class=\"dataframe\">\n",
       "  <thead>\n",
       "    <tr style=\"text-align: right;\">\n",
       "      <th></th>\n",
       "      <th>Date</th>\n",
       "      <th>Open</th>\n",
       "      <th>High</th>\n",
       "      <th>Low</th>\n",
       "      <th>Close</th>\n",
       "      <th>Adj Close</th>\n",
       "      <th>Volume</th>\n",
       "    </tr>\n",
       "  </thead>\n",
       "  <tbody>\n",
       "    <tr>\n",
       "      <th>0</th>\n",
       "      <td>2016-12-14</td>\n",
       "      <td>780.005005</td>\n",
       "      <td>782.033997</td>\n",
       "      <td>776.838989</td>\n",
       "      <td>781.481018</td>\n",
       "      <td>781.481018</td>\n",
       "      <td>75979000</td>\n",
       "    </tr>\n",
       "    <tr>\n",
       "      <th>1</th>\n",
       "      <td>2016-12-15</td>\n",
       "      <td>780.070007</td>\n",
       "      <td>781.434998</td>\n",
       "      <td>777.802002</td>\n",
       "      <td>778.088013</td>\n",
       "      <td>778.088013</td>\n",
       "      <td>81580096</td>\n",
       "    </tr>\n",
       "    <tr>\n",
       "      <th>2</th>\n",
       "      <td>2016-12-16</td>\n",
       "      <td>778.963013</td>\n",
       "      <td>785.031982</td>\n",
       "      <td>778.963013</td>\n",
       "      <td>784.906982</td>\n",
       "      <td>784.906982</td>\n",
       "      <td>83608200</td>\n",
       "    </tr>\n",
       "    <tr>\n",
       "      <th>3</th>\n",
       "      <td>2016-12-17</td>\n",
       "      <td>785.166016</td>\n",
       "      <td>792.508972</td>\n",
       "      <td>784.864014</td>\n",
       "      <td>790.828979</td>\n",
       "      <td>790.828979</td>\n",
       "      <td>78989800</td>\n",
       "    </tr>\n",
       "    <tr>\n",
       "      <th>4</th>\n",
       "      <td>2016-12-18</td>\n",
       "      <td>791.007996</td>\n",
       "      <td>794.737000</td>\n",
       "      <td>788.026001</td>\n",
       "      <td>790.530029</td>\n",
       "      <td>790.530029</td>\n",
       "      <td>60524400</td>\n",
       "    </tr>\n",
       "    <tr>\n",
       "      <th>...</th>\n",
       "      <td>...</td>\n",
       "      <td>...</td>\n",
       "      <td>...</td>\n",
       "      <td>...</td>\n",
       "      <td>...</td>\n",
       "      <td>...</td>\n",
       "      <td>...</td>\n",
       "    </tr>\n",
       "    <tr>\n",
       "      <th>1457</th>\n",
       "      <td>2020-12-10</td>\n",
       "      <td>18553.298828</td>\n",
       "      <td>18553.298828</td>\n",
       "      <td>17957.064453</td>\n",
       "      <td>18264.992188</td>\n",
       "      <td>18264.992188</td>\n",
       "      <td>25547132265</td>\n",
       "    </tr>\n",
       "    <tr>\n",
       "      <th>1458</th>\n",
       "      <td>2020-12-11</td>\n",
       "      <td>18263.929688</td>\n",
       "      <td>18268.453125</td>\n",
       "      <td>17619.533203</td>\n",
       "      <td>18058.904297</td>\n",
       "      <td>18058.904297</td>\n",
       "      <td>27919640985</td>\n",
       "    </tr>\n",
       "    <tr>\n",
       "      <th>1459</th>\n",
       "      <td>2020-12-12</td>\n",
       "      <td>18051.320313</td>\n",
       "      <td>18919.550781</td>\n",
       "      <td>18046.041016</td>\n",
       "      <td>18803.656250</td>\n",
       "      <td>18803.656250</td>\n",
       "      <td>21752580802</td>\n",
       "    </tr>\n",
       "    <tr>\n",
       "      <th>1460</th>\n",
       "      <td>2020-12-13</td>\n",
       "      <td>18806.765625</td>\n",
       "      <td>19381.535156</td>\n",
       "      <td>18734.332031</td>\n",
       "      <td>19142.382813</td>\n",
       "      <td>19142.382813</td>\n",
       "      <td>25450468637</td>\n",
       "    </tr>\n",
       "    <tr>\n",
       "      <th>1461</th>\n",
       "      <td>2020-12-14</td>\n",
       "      <td>19206.101563</td>\n",
       "      <td>19290.531250</td>\n",
       "      <td>19012.708984</td>\n",
       "      <td>19111.828125</td>\n",
       "      <td>19111.828125</td>\n",
       "      <td>23253690368</td>\n",
       "    </tr>\n",
       "  </tbody>\n",
       "</table>\n",
       "<p>1462 rows × 7 columns</p>\n",
       "</div>"
      ],
      "text/plain": [
       "            Date          Open          High           Low         Close  \\\n",
       "0     2016-12-14    780.005005    782.033997    776.838989    781.481018   \n",
       "1     2016-12-15    780.070007    781.434998    777.802002    778.088013   \n",
       "2     2016-12-16    778.963013    785.031982    778.963013    784.906982   \n",
       "3     2016-12-17    785.166016    792.508972    784.864014    790.828979   \n",
       "4     2016-12-18    791.007996    794.737000    788.026001    790.530029   \n",
       "...          ...           ...           ...           ...           ...   \n",
       "1457  2020-12-10  18553.298828  18553.298828  17957.064453  18264.992188   \n",
       "1458  2020-12-11  18263.929688  18268.453125  17619.533203  18058.904297   \n",
       "1459  2020-12-12  18051.320313  18919.550781  18046.041016  18803.656250   \n",
       "1460  2020-12-13  18806.765625  19381.535156  18734.332031  19142.382813   \n",
       "1461  2020-12-14  19206.101563  19290.531250  19012.708984  19111.828125   \n",
       "\n",
       "         Adj Close       Volume  \n",
       "0       781.481018     75979000  \n",
       "1       778.088013     81580096  \n",
       "2       784.906982     83608200  \n",
       "3       790.828979     78989800  \n",
       "4       790.530029     60524400  \n",
       "...            ...          ...  \n",
       "1457  18264.992188  25547132265  \n",
       "1458  18058.904297  27919640985  \n",
       "1459  18803.656250  21752580802  \n",
       "1460  19142.382813  25450468637  \n",
       "1461  19111.828125  23253690368  \n",
       "\n",
       "[1462 rows x 7 columns]"
      ]
     },
     "execution_count": 3,
     "metadata": {},
     "output_type": "execute_result"
    }
   ],
   "source": [
    "df"
   ]
  },
  {
   "cell_type": "code",
   "execution_count": 14,
   "id": "af34dd66-cbba-4d4c-ab4d-c5b8e2d56447",
   "metadata": {},
   "outputs": [],
   "source": [
    "#ne smeeme da gi delime random podatocite - shuffle=False\n",
    "\n",
    "train = df.iloc[0:int(len(df)*0.8),:] #prvite 80% od redicite gi zimam za treniranje\n",
    "test = df.iloc[int(len(df)*0.8):,:] # ostanatite 20% za testiranje "
   ]
  },
  {
   "cell_type": "code",
   "execution_count": 15,
   "id": "059bec63-42f5-46cd-9adc-5335bfae5ce6",
   "metadata": {},
   "outputs": [
    {
     "data": {
      "text/plain": [
       "(293, 7)"
      ]
     },
     "execution_count": 15,
     "metadata": {},
     "output_type": "execute_result"
    }
   ],
   "source": [
    "test.shape"
   ]
  },
  {
   "cell_type": "code",
   "execution_count": 20,
   "id": "3b805fd4-168c-4622-b60c-2e270afce150",
   "metadata": {},
   "outputs": [
    {
     "name": "stdout",
     "output_type": "stream",
     "text": [
      "1166\n"
     ]
    }
   ],
   "source": [
    "x_train = [] #input features for training \n",
    "y_train = []\n",
    "\n",
    "# 3 dena nanazad - sakame da zememe za posledni 3 dena \n",
    "for i in range(len(train) - 3): \n",
    "    x = train.iloc[i:(i+3), 4] # gi zima vrednostite od 4ta kolona(target) za poslednite 3 dena do sega \n",
    "    y = train.iloc[i+3, 4] # ja zima vrednosta od 4ta kolona za sledniot den (i+3) koja e target vrednosta - Close\n",
    "\n",
    "    x_train.append(x)\n",
    "    y_train.append(y)\n",
    "\n",
    "print(len(y_train))"
   ]
  },
  {
   "cell_type": "code",
   "execution_count": 22,
   "id": "e55bb6f2-0a88-4158-bcf6-39a619926a2a",
   "metadata": {},
   "outputs": [
    {
     "name": "stdout",
     "output_type": "stream",
     "text": [
      "290\n"
     ]
    }
   ],
   "source": [
    "x_test = []\n",
    "y_test = []\n",
    "\n",
    "for i in range(len(test) - 3):\n",
    "    x = test.iloc[i : (i+3), 4]\n",
    "    y = test.iloc[i+3, 4]\n",
    "\n",
    "    x_test.append(x)\n",
    "    y_test.append(y)\n",
    "\n",
    "print(len(y_test))"
   ]
  },
  {
   "cell_type": "code",
   "execution_count": 24,
   "id": "fdfad6a4-4c15-42ee-b226-e5396b5756d2",
   "metadata": {},
   "outputs": [],
   "source": [
    "x_train = np.array(x_train)\n",
    "x_test = np.array(x_test)\n",
    "y_train = np.array(y_train)\n",
    "y_test = np.array(y_test)\n",
    "\n",
    "x_train = np.reshape(x_train, (x_train.shape[0], 1, x_train.shape[1]))\n",
    "x_test = np.reshape(x_test, (x_test.shape[0], 1, x_test.shape[1]))"
   ]
  },
  {
   "cell_type": "code",
   "execution_count": null,
   "id": "7b7ca91f-9a1a-40e9-9bd0-b02847e6572f",
   "metadata": {},
   "outputs": [],
   "source": []
  },
  {
   "cell_type": "code",
   "execution_count": 29,
   "id": "de3421ec-a0d9-4818-b991-72ffcf207d81",
   "metadata": {},
   "outputs": [
    {
     "data": {
      "text/plain": [
       "array([[[ 781.481018,  778.088013,  784.906982]],\n",
       "\n",
       "       [[ 778.088013,  784.906982,  790.828979]],\n",
       "\n",
       "       [[ 784.906982,  790.828979,  790.530029]],\n",
       "\n",
       "       ...,\n",
       "\n",
       "       [[9608.475586, 9686.441406, 9663.181641]],\n",
       "\n",
       "       [[9686.441406, 9663.181641, 9924.515625]],\n",
       "\n",
       "       [[9663.181641, 9924.515625, 9650.174805]]])"
      ]
     },
     "execution_count": 29,
     "metadata": {},
     "output_type": "execute_result"
    }
   ],
   "source": [
    "x_train #3 dimenzionalen prostor - moram vo matrica da go pretvroam za LSTM "
   ]
  },
  {
   "cell_type": "code",
   "execution_count": null,
   "id": "814706bc-3402-4c11-829f-6464dc416a2d",
   "metadata": {},
   "outputs": [],
   "source": []
  },
  {
   "cell_type": "code",
   "execution_count": 31,
   "id": "ca8c6c4f-1951-4cbe-999b-252b97711c67",
   "metadata": {},
   "outputs": [
    {
     "data": {
      "text/plain": [
       "(1166, 1, 3)"
      ]
     },
     "execution_count": 31,
     "metadata": {},
     "output_type": "execute_result"
    }
   ],
   "source": [
    "x_train.shape # kolku vkupno ima, koja e prvata dimenzionalnost - 1 vektor e i vo toj vektor ima 3 vrednosti , "
   ]
  },
  {
   "cell_type": "code",
   "execution_count": 40,
   "id": "1c3f2a49-6581-4d04-ba3f-b0be276a917e",
   "metadata": {},
   "outputs": [
    {
     "name": "stderr",
     "output_type": "stream",
     "text": [
      "/Library/Frameworks/Python.framework/Versions/3.12/lib/python3.12/site-packages/keras/src/layers/rnn/rnn.py:200: UserWarning: Do not pass an `input_shape`/`input_dim` argument to a layer. When using Sequential models, prefer using an `Input(shape)` object as the first layer in the model instead.\n",
      "  super().__init__(**kwargs)\n"
     ]
    }
   ],
   "source": [
    "model = Sequential()\n",
    "\n",
    "#vlezen sloj\n",
    "model.add(LSTM(100, activation='relu', input_shape = (x_train.shape[1], x_train.shape[2]), return_sequences=True )) \n",
    "\n",
    "# input,_shape stavam koga LSTM ni e vlezen sloj samo \n",
    "#100 nevroni, pa gi zimam od .shape po indeks , return_sequences - da ni ja vrati sekvencata = sakame LSTM da odi vo sleden sloj "
   ]
  },
  {
   "cell_type": "code",
   "execution_count": 38,
   "id": "f8e09d3f-4a6a-4fe4-90ce-a5488ed3c98b",
   "metadata": {},
   "outputs": [
    {
     "data": {
      "text/plain": [
       "array([ 790.828979,  790.530029,  792.713989, ..., 9924.515625,\n",
       "       9650.174805, 9341.705078])"
      ]
     },
     "execution_count": 38,
     "metadata": {},
     "output_type": "execute_result"
    }
   ],
   "source": [
    "y_train #go gledam izlezot - ima po 1 vrednost "
   ]
  },
  {
   "cell_type": "code",
   "execution_count": 41,
   "id": "42b41eb6-8803-49b2-a344-e46c0591d23d",
   "metadata": {},
   "outputs": [],
   "source": [
    "#hidden sloj \n",
    "\n",
    "model.add(LSTM(64, activation='relu'))"
   ]
  },
  {
   "cell_type": "code",
   "execution_count": 43,
   "id": "e047cb47-8485-4100-8035-a2329caa29b5",
   "metadata": {},
   "outputs": [],
   "source": [
    "#output sloj \n",
    "\n",
    "model.add(Dense(1,activation='linear')) #izlezot od y_train i linear zosto e realen broj - linearna "
   ]
  },
  {
   "cell_type": "code",
   "execution_count": 44,
   "id": "95ceb46c-d8ad-447d-aca0-e48ada604f3e",
   "metadata": {},
   "outputs": [],
   "source": [
    "model.compile(loss='mse',optimizer = 'adam')"
   ]
  },
  {
   "cell_type": "code",
   "execution_count": 45,
   "id": "012484d8-a1a5-4d52-b77a-735593c9ed21",
   "metadata": {},
   "outputs": [
    {
     "name": "stdout",
     "output_type": "stream",
     "text": [
      "Epoch 1/30\n",
      "15/15 - 1s - 70ms/step - loss: 44583796.0000 - val_loss: 82242008.0000\n",
      "Epoch 2/30\n",
      "15/15 - 0s - 3ms/step - loss: 43083208.0000 - val_loss: 78471944.0000\n",
      "Epoch 3/30\n",
      "15/15 - 0s - 3ms/step - loss: 40862892.0000 - val_loss: 73660032.0000\n",
      "Epoch 4/30\n",
      "15/15 - 0s - 3ms/step - loss: 37861732.0000 - val_loss: 66483344.0000\n",
      "Epoch 5/30\n",
      "15/15 - 0s - 3ms/step - loss: 33190314.0000 - val_loss: 55799396.0000\n",
      "Epoch 6/30\n",
      "15/15 - 0s - 3ms/step - loss: 26570708.0000 - val_loss: 41540948.0000\n",
      "Epoch 7/30\n",
      "15/15 - 0s - 3ms/step - loss: 18324782.0000 - val_loss: 25277618.0000\n",
      "Epoch 8/30\n",
      "15/15 - 0s - 3ms/step - loss: 9829923.0000 - val_loss: 10742956.0000\n",
      "Epoch 9/30\n",
      "15/15 - 0s - 3ms/step - loss: 3393535.2500 - val_loss: 2267356.0000\n",
      "Epoch 10/30\n",
      "15/15 - 0s - 3ms/step - loss: 599322.6875 - val_loss: 181293.2812\n",
      "Epoch 11/30\n",
      "15/15 - 0s - 3ms/step - loss: 249258.2969 - val_loss: 215812.0625\n",
      "Epoch 12/30\n",
      "15/15 - 0s - 3ms/step - loss: 269345.1250 - val_loss: 180874.5781\n",
      "Epoch 13/30\n",
      "15/15 - 0s - 3ms/step - loss: 244644.2344 - val_loss: 152685.8906\n",
      "Epoch 14/30\n",
      "15/15 - 0s - 3ms/step - loss: 240301.6250 - val_loss: 150852.6250\n",
      "Epoch 15/30\n",
      "15/15 - 0s - 4ms/step - loss: 240141.5312 - val_loss: 151145.5312\n",
      "Epoch 16/30\n",
      "15/15 - 0s - 4ms/step - loss: 239992.2344 - val_loss: 151745.7812\n",
      "Epoch 17/30\n",
      "15/15 - 0s - 4ms/step - loss: 311075.9688 - val_loss: 1613418.1250\n",
      "Epoch 18/30\n",
      "15/15 - 0s - 4ms/step - loss: 567776.1875 - val_loss: 344099.0625\n",
      "Epoch 19/30\n",
      "15/15 - 0s - 4ms/step - loss: 291498.3750 - val_loss: 164218.5469\n",
      "Epoch 20/30\n",
      "15/15 - 0s - 3ms/step - loss: 242529.9531 - val_loss: 152613.9688\n",
      "Epoch 21/30\n",
      "15/15 - 0s - 3ms/step - loss: 243232.3125 - val_loss: 151143.6562\n",
      "Epoch 22/30\n",
      "15/15 - 0s - 3ms/step - loss: 241902.9688 - val_loss: 152536.7344\n",
      "Epoch 23/30\n",
      "15/15 - 0s - 4ms/step - loss: 242168.5469 - val_loss: 152389.0625\n",
      "Epoch 24/30\n",
      "15/15 - 0s - 3ms/step - loss: 241870.3750 - val_loss: 151750.1094\n",
      "Epoch 25/30\n",
      "15/15 - 0s - 3ms/step - loss: 241677.7500 - val_loss: 151617.5312\n",
      "Epoch 26/30\n",
      "15/15 - 0s - 3ms/step - loss: 241596.4062 - val_loss: 151628.8750\n",
      "Epoch 27/30\n",
      "15/15 - 0s - 3ms/step - loss: 241517.6250 - val_loss: 151563.4844\n",
      "Epoch 28/30\n",
      "15/15 - 0s - 3ms/step - loss: 241412.3594 - val_loss: 151458.1094\n",
      "Epoch 29/30\n",
      "15/15 - 0s - 3ms/step - loss: 241301.8594 - val_loss: 151365.6094\n",
      "Epoch 30/30\n",
      "15/15 - 0s - 4ms/step - loss: 241193.9219 - val_loss: 151280.4688\n"
     ]
    }
   ],
   "source": [
    "history = model.fit(x_train, y_train, batch_size=64, epochs = 30, validation_split=0.2, shuffle=False, verbose = 2) # ne treba da gi mesa podatocite, sakame da se podredeni "
   ]
  },
  {
   "cell_type": "code",
   "execution_count": 46,
   "id": "cdba5b2c-fa5c-4306-9200-fa2de880a693",
   "metadata": {},
   "outputs": [
    {
     "data": {
      "text/plain": [
       "(290, 1, 3)"
      ]
     },
     "execution_count": 46,
     "metadata": {},
     "output_type": "execute_result"
    }
   ],
   "source": [
    "x_test.shape"
   ]
  },
  {
   "cell_type": "code",
   "execution_count": 47,
   "id": "5bc2eb79-b5de-4b11-8816-b82bdcd421db",
   "metadata": {},
   "outputs": [
    {
     "name": "stdout",
     "output_type": "stream",
     "text": [
      "\u001b[1m10/10\u001b[0m \u001b[32m━━━━━━━━━━━━━━━━━━━━\u001b[0m\u001b[37m\u001b[0m \u001b[1m0s\u001b[0m 12ms/step\n"
     ]
    }
   ],
   "source": [
    "y_pred = model.predict(x_test)"
   ]
  },
  {
   "cell_type": "code",
   "execution_count": 48,
   "id": "07627741-dc89-4a74-aff9-2fdaf184d086",
   "metadata": {},
   "outputs": [
    {
     "data": {
      "image/png": "[encoded data removed]",
      "text/plain": [
       "<Figure size 640x480 with 1 Axes>"
      ]
     },
     "metadata": {},
     "output_type": "display_data"
    }
   ],
   "source": [
    "import matplotlib.pyplot as plt\n",
    "\n",
    "# \"Loss\"\n",
    "plt.plot(history.history['loss'])\n",
    "plt.plot(history.history['val_loss'])\n",
    "plt.title('model loss')\n",
    "plt.ylabel('loss')\n",
    "plt.xlabel('epoch')\n",
    "plt.legend(['train', 'validation'], loc='upper left')\n",
    "plt.show()"
   ]
  },
  {
   "cell_type": "code",
   "execution_count": 51,
   "id": "76a6e11a-9777-46eb-95a1-06e690d7a41d",
   "metadata": {},
   "outputs": [
    {
     "name": "stdout",
     "output_type": "stream",
     "text": [
      "0.9805039887410207\n",
      "302.6716241324354\n",
      "218274.52239606844\n"
     ]
    }
   ],
   "source": [
    "from sklearn.metrics import r2_score, mean_absolute_error, mean_squared_error\n",
    "\n",
    "print(r2_score(y_test, y_pred))\n",
    "print(mean_absolute_error(y_test, y_pred))\n",
    "print(mean_squared_error(y_test, y_pred))"
   ]
  }
 ],
 "metadata": {
  "kernelspec": {
   "display_name": "Python (myenv)",
   "language": "python",
   "name": "myenv"
  },
  "language_info": {
   "codemirror_mode": {
    "name": "ipython",
    "version": 3
   },
   "file_extension": ".py",
   "mimetype": "text/x-python",
   "name": "python",
   "nbconvert_exporter": "python",
   "pygments_lexer": "ipython3",
   "version": "3.12.2"
  }
 },
 "nbformat": 4,
 "nbformat_minor": 5
}
