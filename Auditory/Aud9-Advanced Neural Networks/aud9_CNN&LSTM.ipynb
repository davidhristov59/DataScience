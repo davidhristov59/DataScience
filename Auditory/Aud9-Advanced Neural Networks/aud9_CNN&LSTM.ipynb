{
 "cells": [
  {
   "cell_type": "code",
   "id": "2b8f97dd-450e-45f3-b7ac-60a9c0356e48",
   "metadata": {
    "ExecuteTime": {
     "end_time": "2024-12-30T03:31:32.246456Z",
     "start_time": "2024-12-30T03:31:32.234585Z"
    }
   },
   "source": [
    "import pandas as pd\n",
    "import numpy as np\n",
    "import seaborn as sns\n",
    "import matplotlib.pyplot as plt\n",
    "from sklearn.model_selection import train_test_split\n",
    "from sklearn.metrics import r2_score\n",
    "from sklearn.preprocessing import MinMaxScaler\n",
    "from keras.models import Sequential\n",
    "from keras.layers import Input, LSTM, Dense"
   ],
   "outputs": [],
   "execution_count": 42
  },
  {
   "cell_type": "code",
   "id": "81cad3da-1dd7-4ba8-9d96-f268fcc2ae4a",
   "metadata": {
    "ExecuteTime": {
     "end_time": "2024-12-30T03:32:26.379702Z",
     "start_time": "2024-12-30T03:31:32.260521Z"
    }
   },
   "source": [
    "!gdown 10xd_Zk0Ld_GlonTOFLNpuLyThOyi-hvq"
   ],
   "outputs": [
    {
     "name": "stdout",
     "output_type": "stream",
     "text": [
      "Downloading...\r\n",
      "From (original): https://drive.google.com/uc?id=10xd_Zk0Ld_GlonTOFLNpuLyThOyi-hvq\r\n",
      "From (redirected): https://drive.google.com/uc?id=10xd_Zk0Ld_GlonTOFLNpuLyThOyi-hvq&confirm=t&uuid=499d5c12-750c-4eba-9d9a-b08aa2634c4e\r\n",
      "To: /Users/davidhristov/Desktop/Intro to Data Science/DataScience/Auditory/Aud9-Advanced Neural Networks/bitstampUSD_1-min_data_2012-01-01_to_2021-03-31.csv\r\n",
      "100%|████████████████████████████████████████| 318M/318M [00:49<00:00, 6.46MB/s]\r\n"
     ]
    }
   ],
   "execution_count": 43
  },
  {
   "cell_type": "code",
   "id": "8933cc9d-f4ab-4488-9444-8060de25cf2e",
   "metadata": {
    "ExecuteTime": {
     "end_time": "2024-12-30T03:32:28.184518Z",
     "start_time": "2024-12-30T03:32:26.449682Z"
    }
   },
   "source": "df = pd.read_csv('bitstampUSD_1-min_data_2012-01-01_to_2021-03-31.csv')",
   "outputs": [],
   "execution_count": 44
  },
  {
   "cell_type": "code",
   "id": "cd425fee-aa3b-4195-92ff-a50197a42345",
   "metadata": {
    "ExecuteTime": {
     "end_time": "2024-12-30T03:32:28.319762Z",
     "start_time": "2024-12-30T03:32:28.275398Z"
    }
   },
   "source": [
    "df"
   ],
   "outputs": [
    {
     "data": {
      "text/plain": [
       "          Timestamp      Open      High       Low     Close  Volume_(BTC)  \\\n",
       "0        1325317920      4.39      4.39      4.39      4.39      0.455581   \n",
       "1        1325317980       NaN       NaN       NaN       NaN           NaN   \n",
       "2        1325318040       NaN       NaN       NaN       NaN           NaN   \n",
       "3        1325318100       NaN       NaN       NaN       NaN           NaN   \n",
       "4        1325318160       NaN       NaN       NaN       NaN           NaN   \n",
       "...             ...       ...       ...       ...       ...           ...   \n",
       "4857372  1617148560  58714.31  58714.31  58686.00  58686.00      1.384487   \n",
       "4857373  1617148620  58683.97  58693.43  58683.97  58685.81      7.294848   \n",
       "4857374  1617148680  58693.43  58723.84  58693.43  58723.84      1.705682   \n",
       "4857375  1617148740  58742.18  58770.38  58742.18  58760.59      0.720415   \n",
       "4857376  1617148800  58767.75  58778.18  58755.97  58778.18      2.712831   \n",
       "\n",
       "         Volume_(Currency)  Weighted_Price  \n",
       "0                 2.000000        4.390000  \n",
       "1                      NaN             NaN  \n",
       "2                      NaN             NaN  \n",
       "3                      NaN             NaN  \n",
       "4                      NaN             NaN  \n",
       "...                    ...             ...  \n",
       "4857372       81259.372187    58692.753339  \n",
       "4857373      428158.146640    58693.226508  \n",
       "4857374      100117.070370    58696.198496  \n",
       "4857375       42332.958633    58761.866202  \n",
       "4857376      159417.751000    58764.349363  \n",
       "\n",
       "[4857377 rows x 8 columns]"
      ],
      "text/html": [
       "<div>\n",
       "<style scoped>\n",
       "    .dataframe tbody tr th:only-of-type {\n",
       "        vertical-align: middle;\n",
       "    }\n",
       "\n",
       "    .dataframe tbody tr th {\n",
       "        vertical-align: top;\n",
       "    }\n",
       "\n",
       "    .dataframe thead th {\n",
       "        text-align: right;\n",
       "    }\n",
       "</style>\n",
       "<table border=\"1\" class=\"dataframe\">\n",
       "  <thead>\n",
       "    <tr style=\"text-align: right;\">\n",
       "      <th></th>\n",
       "      <th>Timestamp</th>\n",
       "      <th>Open</th>\n",
       "      <th>High</th>\n",
       "      <th>Low</th>\n",
       "      <th>Close</th>\n",
       "      <th>Volume_(BTC)</th>\n",
       "      <th>Volume_(Currency)</th>\n",
       "      <th>Weighted_Price</th>\n",
       "    </tr>\n",
       "  </thead>\n",
       "  <tbody>\n",
       "    <tr>\n",
       "      <th>0</th>\n",
       "      <td>1325317920</td>\n",
       "      <td>4.39</td>\n",
       "      <td>4.39</td>\n",
       "      <td>4.39</td>\n",
       "      <td>4.39</td>\n",
       "      <td>0.455581</td>\n",
       "      <td>2.000000</td>\n",
       "      <td>4.390000</td>\n",
       "    </tr>\n",
       "    <tr>\n",
       "      <th>1</th>\n",
       "      <td>1325317980</td>\n",
       "      <td>NaN</td>\n",
       "      <td>NaN</td>\n",
       "      <td>NaN</td>\n",
       "      <td>NaN</td>\n",
       "      <td>NaN</td>\n",
       "      <td>NaN</td>\n",
       "      <td>NaN</td>\n",
       "    </tr>\n",
       "    <tr>\n",
       "      <th>2</th>\n",
       "      <td>1325318040</td>\n",
       "      <td>NaN</td>\n",
       "      <td>NaN</td>\n",
       "      <td>NaN</td>\n",
       "      <td>NaN</td>\n",
       "      <td>NaN</td>\n",
       "      <td>NaN</td>\n",
       "      <td>NaN</td>\n",
       "    </tr>\n",
       "    <tr>\n",
       "      <th>3</th>\n",
       "      <td>1325318100</td>\n",
       "      <td>NaN</td>\n",
       "      <td>NaN</td>\n",
       "      <td>NaN</td>\n",
       "      <td>NaN</td>\n",
       "      <td>NaN</td>\n",
       "      <td>NaN</td>\n",
       "      <td>NaN</td>\n",
       "    </tr>\n",
       "    <tr>\n",
       "      <th>4</th>\n",
       "      <td>1325318160</td>\n",
       "      <td>NaN</td>\n",
       "      <td>NaN</td>\n",
       "      <td>NaN</td>\n",
       "      <td>NaN</td>\n",
       "      <td>NaN</td>\n",
       "      <td>NaN</td>\n",
       "      <td>NaN</td>\n",
       "    </tr>\n",
       "    <tr>\n",
       "      <th>...</th>\n",
       "      <td>...</td>\n",
       "      <td>...</td>\n",
       "      <td>...</td>\n",
       "      <td>...</td>\n",
       "      <td>...</td>\n",
       "      <td>...</td>\n",
       "      <td>...</td>\n",
       "      <td>...</td>\n",
       "    </tr>\n",
       "    <tr>\n",
       "      <th>4857372</th>\n",
       "      <td>1617148560</td>\n",
       "      <td>58714.31</td>\n",
       "      <td>58714.31</td>\n",
       "      <td>58686.00</td>\n",
       "      <td>58686.00</td>\n",
       "      <td>1.384487</td>\n",
       "      <td>81259.372187</td>\n",
       "      <td>58692.753339</td>\n",
       "    </tr>\n",
       "    <tr>\n",
       "      <th>4857373</th>\n",
       "      <td>1617148620</td>\n",
       "      <td>58683.97</td>\n",
       "      <td>58693.43</td>\n",
       "      <td>58683.97</td>\n",
       "      <td>58685.81</td>\n",
       "      <td>7.294848</td>\n",
       "      <td>428158.146640</td>\n",
       "      <td>58693.226508</td>\n",
       "    </tr>\n",
       "    <tr>\n",
       "      <th>4857374</th>\n",
       "      <td>1617148680</td>\n",
       "      <td>58693.43</td>\n",
       "      <td>58723.84</td>\n",
       "      <td>58693.43</td>\n",
       "      <td>58723.84</td>\n",
       "      <td>1.705682</td>\n",
       "      <td>100117.070370</td>\n",
       "      <td>58696.198496</td>\n",
       "    </tr>\n",
       "    <tr>\n",
       "      <th>4857375</th>\n",
       "      <td>1617148740</td>\n",
       "      <td>58742.18</td>\n",
       "      <td>58770.38</td>\n",
       "      <td>58742.18</td>\n",
       "      <td>58760.59</td>\n",
       "      <td>0.720415</td>\n",
       "      <td>42332.958633</td>\n",
       "      <td>58761.866202</td>\n",
       "    </tr>\n",
       "    <tr>\n",
       "      <th>4857376</th>\n",
       "      <td>1617148800</td>\n",
       "      <td>58767.75</td>\n",
       "      <td>58778.18</td>\n",
       "      <td>58755.97</td>\n",
       "      <td>58778.18</td>\n",
       "      <td>2.712831</td>\n",
       "      <td>159417.751000</td>\n",
       "      <td>58764.349363</td>\n",
       "    </tr>\n",
       "  </tbody>\n",
       "</table>\n",
       "<p>4857377 rows × 8 columns</p>\n",
       "</div>"
      ]
     },
     "execution_count": 45,
     "metadata": {},
     "output_type": "execute_result"
    }
   ],
   "execution_count": 45
  },
  {
   "cell_type": "code",
   "id": "7304f855-5b79-436d-85c3-e89ac6675a49",
   "metadata": {
    "ExecuteTime": {
     "end_time": "2024-12-30T03:32:28.836483Z",
     "start_time": "2024-12-30T03:32:28.599060Z"
    }
   },
   "source": [
    "df['Timestamp'] = pd.to_datetime(df['Timestamp'], unit='s')"
   ],
   "outputs": [],
   "execution_count": 46
  },
  {
   "cell_type": "code",
   "id": "fa8e22e8-bb11-47ca-9ff4-23599fc96704",
   "metadata": {
    "ExecuteTime": {
     "end_time": "2024-12-30T03:32:28.860056Z",
     "start_time": "2024-12-30T03:32:28.856005Z"
    }
   },
   "source": [
    "df.set_index(keys=['Timestamp'], inplace=True)"
   ],
   "outputs": [],
   "execution_count": 47
  },
  {
   "cell_type": "code",
   "id": "ba959928-e654-4975-bbdd-52486fefed00",
   "metadata": {
    "ExecuteTime": {
     "end_time": "2024-12-30T03:32:28.876963Z",
     "start_time": "2024-12-30T03:32:28.865780Z"
    }
   },
   "source": [
    "df.sort_index(inplace=True)"
   ],
   "outputs": [],
   "execution_count": 48
  },
  {
   "cell_type": "code",
   "id": "2d6eeb6f-2232-450a-96d8-ed8db46a33da",
   "metadata": {
    "ExecuteTime": {
     "end_time": "2024-12-30T03:32:28.914789Z",
     "start_time": "2024-12-30T03:32:28.895447Z"
    }
   },
   "source": [
    "df = df[\"2021-03-20 00:00:00\":].copy(deep=True)"
   ],
   "outputs": [],
   "execution_count": 49
  },
  {
   "cell_type": "code",
   "id": "577b733f-69c5-4914-9569-a8304d3791f9",
   "metadata": {
    "ExecuteTime": {
     "end_time": "2024-12-30T03:32:28.953654Z",
     "start_time": "2024-12-30T03:32:28.948938Z"
    }
   },
   "source": [
    "df.ffill(inplace=True)"
   ],
   "outputs": [],
   "execution_count": 50
  },
  {
   "cell_type": "code",
   "id": "cdda6adb-5385-45f2-bf31-70d4d15cb811",
   "metadata": {
    "ExecuteTime": {
     "end_time": "2024-12-30T03:32:28.978187Z",
     "start_time": "2024-12-30T03:32:28.969114Z"
    }
   },
   "source": [
    "df.head(20) #po 1 minuta odi"
   ],
   "outputs": [
    {
     "data": {
      "text/plain": [
       "                         Open      High       Low     Close  Volume_(BTC)  \\\n",
       "Timestamp                                                                   \n",
       "2021-03-20 00:00:00  58029.94  58056.38  57984.41  57984.41      0.586071   \n",
       "2021-03-20 00:01:00  57984.41  58018.74  57850.00  57898.50     11.624454   \n",
       "2021-03-20 00:02:00  57898.49  57923.95  57815.61  57902.49      7.170489   \n",
       "2021-03-20 00:03:00  57971.49  58183.82  57971.49  58093.58     42.251243   \n",
       "2021-03-20 00:04:00  58077.09  58137.00  58020.43  58020.43      6.994187   \n",
       "2021-03-20 00:05:00  58035.10  58038.57  57942.98  57942.98      1.028374   \n",
       "2021-03-20 00:06:00  57930.81  57989.83  57930.81  57970.36      1.639792   \n",
       "2021-03-20 00:07:00  57966.69  57966.69  57903.37  57944.74      1.918871   \n",
       "2021-03-20 00:08:00  57993.07  58063.10  57978.19  58062.11      0.538043   \n",
       "2021-03-20 00:09:00  58065.08  58080.07  58041.05  58080.07      0.340030   \n",
       "2021-03-20 00:10:00  58033.67  58035.36  57923.00  57943.71      3.225099   \n",
       "2021-03-20 00:11:00  57902.29  57917.14  57897.54  57917.04      0.313574   \n",
       "2021-03-20 00:12:00  57900.00  57973.38  57900.00  57973.38      0.457188   \n",
       "2021-03-20 00:13:00  57964.31  58316.44  57958.53  58294.52    106.112598   \n",
       "2021-03-20 00:14:00  58294.52  58300.00  58172.58  58201.70     35.208842   \n",
       "2021-03-20 00:15:00  58205.96  58276.61  58155.80  58262.94      1.299537   \n",
       "2021-03-20 00:16:00  58248.33  58300.01  58238.40  58256.54      1.907565   \n",
       "2021-03-20 00:17:00  58235.43  58235.43  58198.52  58231.83      1.070878   \n",
       "2021-03-20 00:18:00  58201.35  58303.54  58195.10  58255.36      0.858727   \n",
       "2021-03-20 00:19:00  58278.86  58355.10  58239.96  58355.10      2.032543   \n",
       "\n",
       "                     Volume_(Currency)  Weighted_Price  \n",
       "Timestamp                                               \n",
       "2021-03-20 00:00:00       3.401285e+04    58035.397366  \n",
       "2021-03-20 00:01:00       6.737002e+05    57955.426395  \n",
       "2021-03-20 00:02:00       4.149455e+05    57868.515170  \n",
       "2021-03-20 00:03:00       2.456207e+06    58133.373299  \n",
       "2021-03-20 00:04:00       4.066059e+05    58134.832915  \n",
       "2021-03-20 00:05:00       5.964346e+04    57997.809090  \n",
       "2021-03-20 00:06:00       9.503422e+04    57955.063951  \n",
       "2021-03-20 00:07:00       1.111673e+05    57933.706854  \n",
       "2021-03-20 00:08:00       3.119902e+04    57986.095548  \n",
       "2021-03-20 00:09:00       1.974621e+04    58071.983221  \n",
       "2021-03-20 00:10:00       1.870845e+05    58008.909801  \n",
       "2021-03-20 00:11:00       1.815847e+04    57908.007282  \n",
       "2021-03-20 00:12:00       2.648409e+04    57928.174745  \n",
       "2021-03-20 00:13:00       6.169953e+06    58145.335588  \n",
       "2021-03-20 00:14:00       2.051796e+06    58275.034315  \n",
       "2021-03-20 00:15:00       7.565866e+04    58219.719227  \n",
       "2021-03-20 00:16:00       1.111353e+05    58260.273927  \n",
       "2021-03-20 00:17:00       6.234850e+04    58221.823765  \n",
       "2021-03-20 00:18:00       5.001772e+04    58246.342418  \n",
       "2021-03-20 00:19:00       1.184842e+05    58293.589059  "
      ],
      "text/html": [
       "<div>\n",
       "<style scoped>\n",
       "    .dataframe tbody tr th:only-of-type {\n",
       "        vertical-align: middle;\n",
       "    }\n",
       "\n",
       "    .dataframe tbody tr th {\n",
       "        vertical-align: top;\n",
       "    }\n",
       "\n",
       "    .dataframe thead th {\n",
       "        text-align: right;\n",
       "    }\n",
       "</style>\n",
       "<table border=\"1\" class=\"dataframe\">\n",
       "  <thead>\n",
       "    <tr style=\"text-align: right;\">\n",
       "      <th></th>\n",
       "      <th>Open</th>\n",
       "      <th>High</th>\n",
       "      <th>Low</th>\n",
       "      <th>Close</th>\n",
       "      <th>Volume_(BTC)</th>\n",
       "      <th>Volume_(Currency)</th>\n",
       "      <th>Weighted_Price</th>\n",
       "    </tr>\n",
       "    <tr>\n",
       "      <th>Timestamp</th>\n",
       "      <th></th>\n",
       "      <th></th>\n",
       "      <th></th>\n",
       "      <th></th>\n",
       "      <th></th>\n",
       "      <th></th>\n",
       "      <th></th>\n",
       "    </tr>\n",
       "  </thead>\n",
       "  <tbody>\n",
       "    <tr>\n",
       "      <th>2021-03-20 00:00:00</th>\n",
       "      <td>58029.94</td>\n",
       "      <td>58056.38</td>\n",
       "      <td>57984.41</td>\n",
       "      <td>57984.41</td>\n",
       "      <td>0.586071</td>\n",
       "      <td>3.401285e+04</td>\n",
       "      <td>58035.397366</td>\n",
       "    </tr>\n",
       "    <tr>\n",
       "      <th>2021-03-20 00:01:00</th>\n",
       "      <td>57984.41</td>\n",
       "      <td>58018.74</td>\n",
       "      <td>57850.00</td>\n",
       "      <td>57898.50</td>\n",
       "      <td>11.624454</td>\n",
       "      <td>6.737002e+05</td>\n",
       "      <td>57955.426395</td>\n",
       "    </tr>\n",
       "    <tr>\n",
       "      <th>2021-03-20 00:02:00</th>\n",
       "      <td>57898.49</td>\n",
       "      <td>57923.95</td>\n",
       "      <td>57815.61</td>\n",
       "      <td>57902.49</td>\n",
       "      <td>7.170489</td>\n",
       "      <td>4.149455e+05</td>\n",
       "      <td>57868.515170</td>\n",
       "    </tr>\n",
       "    <tr>\n",
       "      <th>2021-03-20 00:03:00</th>\n",
       "      <td>57971.49</td>\n",
       "      <td>58183.82</td>\n",
       "      <td>57971.49</td>\n",
       "      <td>58093.58</td>\n",
       "      <td>42.251243</td>\n",
       "      <td>2.456207e+06</td>\n",
       "      <td>58133.373299</td>\n",
       "    </tr>\n",
       "    <tr>\n",
       "      <th>2021-03-20 00:04:00</th>\n",
       "      <td>58077.09</td>\n",
       "      <td>58137.00</td>\n",
       "      <td>58020.43</td>\n",
       "      <td>58020.43</td>\n",
       "      <td>6.994187</td>\n",
       "      <td>4.066059e+05</td>\n",
       "      <td>58134.832915</td>\n",
       "    </tr>\n",
       "    <tr>\n",
       "      <th>2021-03-20 00:05:00</th>\n",
       "      <td>58035.10</td>\n",
       "      <td>58038.57</td>\n",
       "      <td>57942.98</td>\n",
       "      <td>57942.98</td>\n",
       "      <td>1.028374</td>\n",
       "      <td>5.964346e+04</td>\n",
       "      <td>57997.809090</td>\n",
       "    </tr>\n",
       "    <tr>\n",
       "      <th>2021-03-20 00:06:00</th>\n",
       "      <td>57930.81</td>\n",
       "      <td>57989.83</td>\n",
       "      <td>57930.81</td>\n",
       "      <td>57970.36</td>\n",
       "      <td>1.639792</td>\n",
       "      <td>9.503422e+04</td>\n",
       "      <td>57955.063951</td>\n",
       "    </tr>\n",
       "    <tr>\n",
       "      <th>2021-03-20 00:07:00</th>\n",
       "      <td>57966.69</td>\n",
       "      <td>57966.69</td>\n",
       "      <td>57903.37</td>\n",
       "      <td>57944.74</td>\n",
       "      <td>1.918871</td>\n",
       "      <td>1.111673e+05</td>\n",
       "      <td>57933.706854</td>\n",
       "    </tr>\n",
       "    <tr>\n",
       "      <th>2021-03-20 00:08:00</th>\n",
       "      <td>57993.07</td>\n",
       "      <td>58063.10</td>\n",
       "      <td>57978.19</td>\n",
       "      <td>58062.11</td>\n",
       "      <td>0.538043</td>\n",
       "      <td>3.119902e+04</td>\n",
       "      <td>57986.095548</td>\n",
       "    </tr>\n",
       "    <tr>\n",
       "      <th>2021-03-20 00:09:00</th>\n",
       "      <td>58065.08</td>\n",
       "      <td>58080.07</td>\n",
       "      <td>58041.05</td>\n",
       "      <td>58080.07</td>\n",
       "      <td>0.340030</td>\n",
       "      <td>1.974621e+04</td>\n",
       "      <td>58071.983221</td>\n",
       "    </tr>\n",
       "    <tr>\n",
       "      <th>2021-03-20 00:10:00</th>\n",
       "      <td>58033.67</td>\n",
       "      <td>58035.36</td>\n",
       "      <td>57923.00</td>\n",
       "      <td>57943.71</td>\n",
       "      <td>3.225099</td>\n",
       "      <td>1.870845e+05</td>\n",
       "      <td>58008.909801</td>\n",
       "    </tr>\n",
       "    <tr>\n",
       "      <th>2021-03-20 00:11:00</th>\n",
       "      <td>57902.29</td>\n",
       "      <td>57917.14</td>\n",
       "      <td>57897.54</td>\n",
       "      <td>57917.04</td>\n",
       "      <td>0.313574</td>\n",
       "      <td>1.815847e+04</td>\n",
       "      <td>57908.007282</td>\n",
       "    </tr>\n",
       "    <tr>\n",
       "      <th>2021-03-20 00:12:00</th>\n",
       "      <td>57900.00</td>\n",
       "      <td>57973.38</td>\n",
       "      <td>57900.00</td>\n",
       "      <td>57973.38</td>\n",
       "      <td>0.457188</td>\n",
       "      <td>2.648409e+04</td>\n",
       "      <td>57928.174745</td>\n",
       "    </tr>\n",
       "    <tr>\n",
       "      <th>2021-03-20 00:13:00</th>\n",
       "      <td>57964.31</td>\n",
       "      <td>58316.44</td>\n",
       "      <td>57958.53</td>\n",
       "      <td>58294.52</td>\n",
       "      <td>106.112598</td>\n",
       "      <td>6.169953e+06</td>\n",
       "      <td>58145.335588</td>\n",
       "    </tr>\n",
       "    <tr>\n",
       "      <th>2021-03-20 00:14:00</th>\n",
       "      <td>58294.52</td>\n",
       "      <td>58300.00</td>\n",
       "      <td>58172.58</td>\n",
       "      <td>58201.70</td>\n",
       "      <td>35.208842</td>\n",
       "      <td>2.051796e+06</td>\n",
       "      <td>58275.034315</td>\n",
       "    </tr>\n",
       "    <tr>\n",
       "      <th>2021-03-20 00:15:00</th>\n",
       "      <td>58205.96</td>\n",
       "      <td>58276.61</td>\n",
       "      <td>58155.80</td>\n",
       "      <td>58262.94</td>\n",
       "      <td>1.299537</td>\n",
       "      <td>7.565866e+04</td>\n",
       "      <td>58219.719227</td>\n",
       "    </tr>\n",
       "    <tr>\n",
       "      <th>2021-03-20 00:16:00</th>\n",
       "      <td>58248.33</td>\n",
       "      <td>58300.01</td>\n",
       "      <td>58238.40</td>\n",
       "      <td>58256.54</td>\n",
       "      <td>1.907565</td>\n",
       "      <td>1.111353e+05</td>\n",
       "      <td>58260.273927</td>\n",
       "    </tr>\n",
       "    <tr>\n",
       "      <th>2021-03-20 00:17:00</th>\n",
       "      <td>58235.43</td>\n",
       "      <td>58235.43</td>\n",
       "      <td>58198.52</td>\n",
       "      <td>58231.83</td>\n",
       "      <td>1.070878</td>\n",
       "      <td>6.234850e+04</td>\n",
       "      <td>58221.823765</td>\n",
       "    </tr>\n",
       "    <tr>\n",
       "      <th>2021-03-20 00:18:00</th>\n",
       "      <td>58201.35</td>\n",
       "      <td>58303.54</td>\n",
       "      <td>58195.10</td>\n",
       "      <td>58255.36</td>\n",
       "      <td>0.858727</td>\n",
       "      <td>5.001772e+04</td>\n",
       "      <td>58246.342418</td>\n",
       "    </tr>\n",
       "    <tr>\n",
       "      <th>2021-03-20 00:19:00</th>\n",
       "      <td>58278.86</td>\n",
       "      <td>58355.10</td>\n",
       "      <td>58239.96</td>\n",
       "      <td>58355.10</td>\n",
       "      <td>2.032543</td>\n",
       "      <td>1.184842e+05</td>\n",
       "      <td>58293.589059</td>\n",
       "    </tr>\n",
       "  </tbody>\n",
       "</table>\n",
       "</div>"
      ]
     },
     "execution_count": 51,
     "metadata": {},
     "output_type": "execute_result"
    }
   ],
   "execution_count": 51
  },
  {
   "cell_type": "code",
   "id": "ed4f23e2-92e6-4c3a-9ce2-2525e8ac107c",
   "metadata": {
    "ExecuteTime": {
     "end_time": "2024-12-30T03:32:29.391819Z",
     "start_time": "2024-12-30T03:32:29.033903Z"
    }
   },
   "source": [
    "plt.figure(figsize=(8, 6))\n",
    "sns.heatmap(df.corr(), annot=True, fmt='.2f', linewidths=2)\n",
    "plt.show()"
   ],
   "outputs": [
    {
     "data": {
      "text/plain": [
       "<Figure size 800x600 with 2 Axes>"
      ],
      "image/png": "[encoded data removed]"
     },
     "metadata": {},
     "output_type": "display_data"
    }
   ],
   "execution_count": 52
  },
  {
   "cell_type": "code",
   "id": "917ff1e9-cf48-4d63-acc9-661b72fb763b",
   "metadata": {
    "ExecuteTime": {
     "end_time": "2024-12-30T03:32:29.437138Z",
     "start_time": "2024-12-30T03:32:29.417857Z"
    }
   },
   "source": [
    "df = df[['Close']].copy()"
   ],
   "outputs": [],
   "execution_count": 53
  },
  {
   "cell_type": "code",
   "id": "4fcc5125-e062-40d2-a321-7e1b7ed8af46",
   "metadata": {
    "ExecuteTime": {
     "end_time": "2024-12-30T03:32:29.526206Z",
     "start_time": "2024-12-30T03:32:29.516530Z"
    }
   },
   "source": [
    "#1 opcija \n",
    "\n",
    "for i in range(3,0,-1):   # Start at 3, stop at 0 (exclusive), step -1\n",
    "    df[f'Close_lag{i}'] = df['Close'].shift(i)"
   ],
   "outputs": [],
   "execution_count": 54
  },
  {
   "cell_type": "code",
   "id": "e83d0b96-309f-44fb-bd3f-209477e7eb09",
   "metadata": {
    "ExecuteTime": {
     "end_time": "2024-12-30T03:32:29.649021Z",
     "start_time": "2024-12-30T03:32:29.646414Z"
    }
   },
   "source": [
    "#2 opcija \n",
    "\n",
    "#lag = 3\n",
    "\n",
    "#periods = range(lag, 0, -1) \n",
    "\n",
    "#df.shift(periods=periods)"
   ],
   "outputs": [],
   "execution_count": 55
  },
  {
   "cell_type": "code",
   "id": "b5b966f4-3643-4117-a386-7855b8728caa",
   "metadata": {
    "ExecuteTime": {
     "end_time": "2024-12-30T03:32:30.821649Z",
     "start_time": "2024-12-30T03:32:30.806808Z"
    }
   },
   "source": [
    "df"
   ],
   "outputs": [
    {
     "data": {
      "text/plain": [
       "                        Close  Close_lag3  Close_lag2  Close_lag1\n",
       "Timestamp                                                        \n",
       "2021-03-20 00:00:00  57984.41         NaN         NaN         NaN\n",
       "2021-03-20 00:01:00  57898.50         NaN         NaN    57984.41\n",
       "2021-03-20 00:02:00  57902.49         NaN    57984.41    57898.50\n",
       "2021-03-20 00:03:00  58093.58    57984.41    57898.50    57902.49\n",
       "2021-03-20 00:04:00  58020.43    57898.50    57902.49    58093.58\n",
       "...                       ...         ...         ...         ...\n",
       "2021-03-30 23:56:00  58686.00    58698.50    58739.95    58714.31\n",
       "2021-03-30 23:57:00  58685.81    58739.95    58714.31    58686.00\n",
       "2021-03-30 23:58:00  58723.84    58714.31    58686.00    58685.81\n",
       "2021-03-30 23:59:00  58760.59    58686.00    58685.81    58723.84\n",
       "2021-03-31 00:00:00  58778.18    58685.81    58723.84    58760.59\n",
       "\n",
       "[15841 rows x 4 columns]"
      ],
      "text/html": [
       "<div>\n",
       "<style scoped>\n",
       "    .dataframe tbody tr th:only-of-type {\n",
       "        vertical-align: middle;\n",
       "    }\n",
       "\n",
       "    .dataframe tbody tr th {\n",
       "        vertical-align: top;\n",
       "    }\n",
       "\n",
       "    .dataframe thead th {\n",
       "        text-align: right;\n",
       "    }\n",
       "</style>\n",
       "<table border=\"1\" class=\"dataframe\">\n",
       "  <thead>\n",
       "    <tr style=\"text-align: right;\">\n",
       "      <th></th>\n",
       "      <th>Close</th>\n",
       "      <th>Close_lag3</th>\n",
       "      <th>Close_lag2</th>\n",
       "      <th>Close_lag1</th>\n",
       "    </tr>\n",
       "    <tr>\n",
       "      <th>Timestamp</th>\n",
       "      <th></th>\n",
       "      <th></th>\n",
       "      <th></th>\n",
       "      <th></th>\n",
       "    </tr>\n",
       "  </thead>\n",
       "  <tbody>\n",
       "    <tr>\n",
       "      <th>2021-03-20 00:00:00</th>\n",
       "      <td>57984.41</td>\n",
       "      <td>NaN</td>\n",
       "      <td>NaN</td>\n",
       "      <td>NaN</td>\n",
       "    </tr>\n",
       "    <tr>\n",
       "      <th>2021-03-20 00:01:00</th>\n",
       "      <td>57898.50</td>\n",
       "      <td>NaN</td>\n",
       "      <td>NaN</td>\n",
       "      <td>57984.41</td>\n",
       "    </tr>\n",
       "    <tr>\n",
       "      <th>2021-03-20 00:02:00</th>\n",
       "      <td>57902.49</td>\n",
       "      <td>NaN</td>\n",
       "      <td>57984.41</td>\n",
       "      <td>57898.50</td>\n",
       "    </tr>\n",
       "    <tr>\n",
       "      <th>2021-03-20 00:03:00</th>\n",
       "      <td>58093.58</td>\n",
       "      <td>57984.41</td>\n",
       "      <td>57898.50</td>\n",
       "      <td>57902.49</td>\n",
       "    </tr>\n",
       "    <tr>\n",
       "      <th>2021-03-20 00:04:00</th>\n",
       "      <td>58020.43</td>\n",
       "      <td>57898.50</td>\n",
       "      <td>57902.49</td>\n",
       "      <td>58093.58</td>\n",
       "    </tr>\n",
       "    <tr>\n",
       "      <th>...</th>\n",
       "      <td>...</td>\n",
       "      <td>...</td>\n",
       "      <td>...</td>\n",
       "      <td>...</td>\n",
       "    </tr>\n",
       "    <tr>\n",
       "      <th>2021-03-30 23:56:00</th>\n",
       "      <td>58686.00</td>\n",
       "      <td>58698.50</td>\n",
       "      <td>58739.95</td>\n",
       "      <td>58714.31</td>\n",
       "    </tr>\n",
       "    <tr>\n",
       "      <th>2021-03-30 23:57:00</th>\n",
       "      <td>58685.81</td>\n",
       "      <td>58739.95</td>\n",
       "      <td>58714.31</td>\n",
       "      <td>58686.00</td>\n",
       "    </tr>\n",
       "    <tr>\n",
       "      <th>2021-03-30 23:58:00</th>\n",
       "      <td>58723.84</td>\n",
       "      <td>58714.31</td>\n",
       "      <td>58686.00</td>\n",
       "      <td>58685.81</td>\n",
       "    </tr>\n",
       "    <tr>\n",
       "      <th>2021-03-30 23:59:00</th>\n",
       "      <td>58760.59</td>\n",
       "      <td>58686.00</td>\n",
       "      <td>58685.81</td>\n",
       "      <td>58723.84</td>\n",
       "    </tr>\n",
       "    <tr>\n",
       "      <th>2021-03-31 00:00:00</th>\n",
       "      <td>58778.18</td>\n",
       "      <td>58685.81</td>\n",
       "      <td>58723.84</td>\n",
       "      <td>58760.59</td>\n",
       "    </tr>\n",
       "  </tbody>\n",
       "</table>\n",
       "<p>15841 rows × 4 columns</p>\n",
       "</div>"
      ]
     },
     "execution_count": 56,
     "metadata": {},
     "output_type": "execute_result"
    }
   ],
   "execution_count": 56
  },
  {
   "cell_type": "code",
   "id": "6a20d77d-451f-4dbe-9710-f9209d8e9c0e",
   "metadata": {
    "ExecuteTime": {
     "end_time": "2024-12-30T03:32:30.876243Z",
     "start_time": "2024-12-30T03:32:30.871754Z"
    }
   },
   "source": [
    "df.dropna(axis=0, inplace=True) #drop rows with null values "
   ],
   "outputs": [],
   "execution_count": 57
  },
  {
   "cell_type": "code",
   "id": "df98c625-da7d-45ca-9635-94dcb31f6add",
   "metadata": {
    "ExecuteTime": {
     "end_time": "2024-12-30T03:32:30.970449Z",
     "start_time": "2024-12-30T03:32:30.966259Z"
    }
   },
   "source": [
    "df.head()"
   ],
   "outputs": [
    {
     "data": {
      "text/plain": [
       "                        Close  Close_lag3  Close_lag2  Close_lag1\n",
       "Timestamp                                                        \n",
       "2021-03-20 00:03:00  58093.58    57984.41    57898.50    57902.49\n",
       "2021-03-20 00:04:00  58020.43    57898.50    57902.49    58093.58\n",
       "2021-03-20 00:05:00  57942.98    57902.49    58093.58    58020.43\n",
       "2021-03-20 00:06:00  57970.36    58093.58    58020.43    57942.98\n",
       "2021-03-20 00:07:00  57944.74    58020.43    57942.98    57970.36"
      ],
      "text/html": [
       "<div>\n",
       "<style scoped>\n",
       "    .dataframe tbody tr th:only-of-type {\n",
       "        vertical-align: middle;\n",
       "    }\n",
       "\n",
       "    .dataframe tbody tr th {\n",
       "        vertical-align: top;\n",
       "    }\n",
       "\n",
       "    .dataframe thead th {\n",
       "        text-align: right;\n",
       "    }\n",
       "</style>\n",
       "<table border=\"1\" class=\"dataframe\">\n",
       "  <thead>\n",
       "    <tr style=\"text-align: right;\">\n",
       "      <th></th>\n",
       "      <th>Close</th>\n",
       "      <th>Close_lag3</th>\n",
       "      <th>Close_lag2</th>\n",
       "      <th>Close_lag1</th>\n",
       "    </tr>\n",
       "    <tr>\n",
       "      <th>Timestamp</th>\n",
       "      <th></th>\n",
       "      <th></th>\n",
       "      <th></th>\n",
       "      <th></th>\n",
       "    </tr>\n",
       "  </thead>\n",
       "  <tbody>\n",
       "    <tr>\n",
       "      <th>2021-03-20 00:03:00</th>\n",
       "      <td>58093.58</td>\n",
       "      <td>57984.41</td>\n",
       "      <td>57898.50</td>\n",
       "      <td>57902.49</td>\n",
       "    </tr>\n",
       "    <tr>\n",
       "      <th>2021-03-20 00:04:00</th>\n",
       "      <td>58020.43</td>\n",
       "      <td>57898.50</td>\n",
       "      <td>57902.49</td>\n",
       "      <td>58093.58</td>\n",
       "    </tr>\n",
       "    <tr>\n",
       "      <th>2021-03-20 00:05:00</th>\n",
       "      <td>57942.98</td>\n",
       "      <td>57902.49</td>\n",
       "      <td>58093.58</td>\n",
       "      <td>58020.43</td>\n",
       "    </tr>\n",
       "    <tr>\n",
       "      <th>2021-03-20 00:06:00</th>\n",
       "      <td>57970.36</td>\n",
       "      <td>58093.58</td>\n",
       "      <td>58020.43</td>\n",
       "      <td>57942.98</td>\n",
       "    </tr>\n",
       "    <tr>\n",
       "      <th>2021-03-20 00:07:00</th>\n",
       "      <td>57944.74</td>\n",
       "      <td>58020.43</td>\n",
       "      <td>57942.98</td>\n",
       "      <td>57970.36</td>\n",
       "    </tr>\n",
       "  </tbody>\n",
       "</table>\n",
       "</div>"
      ]
     },
     "execution_count": 58,
     "metadata": {},
     "output_type": "execute_result"
    }
   ],
   "execution_count": 58
  },
  {
   "cell_type": "code",
   "id": "fc7c87cc-1afa-42fc-a6c3-4e9eca2fab9e",
   "metadata": {
    "ExecuteTime": {
     "end_time": "2024-12-30T03:32:31.059398Z",
     "start_time": "2024-12-30T03:32:31.052262Z"
    }
   },
   "source": [
    "x = df.drop(columns='Close')\n",
    "y = df['Close']"
   ],
   "outputs": [],
   "execution_count": 59
  },
  {
   "cell_type": "code",
   "id": "c92c5d00-c063-439c-a876-ecc0f74b662e",
   "metadata": {
    "ExecuteTime": {
     "end_time": "2024-12-30T03:32:31.177734Z",
     "start_time": "2024-12-30T03:32:31.170752Z"
    }
   },
   "source": [
    "x_train, x_test, y_train, y_test = train_test_split(x, y, test_size=0.2, shuffle=False) # obavezno da ne se mesaat podatocite"
   ],
   "outputs": [],
   "execution_count": 60
  },
  {
   "cell_type": "code",
   "id": "042dc95f-7b50-4efa-8474-af8f8f153773",
   "metadata": {
    "ExecuteTime": {
     "end_time": "2024-12-30T03:32:31.201389Z",
     "start_time": "2024-12-30T03:32:31.193242Z"
    }
   },
   "source": [
    "scaler = MinMaxScaler()\n",
    "\n",
    "x_train = scaler.fit_transform(x_train)\n",
    "x_test = scaler.transform(x_test)\n",
    "\n",
    "y_train = scaler.fit_transform(y_train.values.reshape(-1,1))"
   ],
   "outputs": [],
   "execution_count": 61
  },
  {
   "cell_type": "code",
   "id": "d8621f34-c6e8-437c-b193-ae4dddd63153",
   "metadata": {
    "ExecuteTime": {
     "end_time": "2024-12-30T03:32:31.261065Z",
     "start_time": "2024-12-30T03:32:31.257975Z"
    }
   },
   "source": [
    "len(x_train[0])"
   ],
   "outputs": [
    {
     "data": {
      "text/plain": [
       "3"
      ]
     },
     "execution_count": 62,
     "metadata": {},
     "output_type": "execute_result"
    }
   ],
   "execution_count": 62
  },
  {
   "cell_type": "code",
   "id": "bc5a1023-d4a9-4a94-8dc2-426451ee3857",
   "metadata": {
    "ExecuteTime": {
     "end_time": "2024-12-30T03:32:31.295178Z",
     "start_time": "2024-12-30T03:32:31.291500Z"
    }
   },
   "source": [
    "x_train.shape"
   ],
   "outputs": [
    {
     "data": {
      "text/plain": [
       "(12670, 3)"
      ]
     },
     "execution_count": 63,
     "metadata": {},
     "output_type": "execute_result"
    }
   ],
   "execution_count": 63
  },
  {
   "cell_type": "code",
   "id": "0655b296-29db-489d-b82e-06e0929a273c",
   "metadata": {
    "ExecuteTime": {
     "end_time": "2024-12-30T03:32:31.349750Z",
     "start_time": "2024-12-30T03:32:31.346321Z"
    }
   },
   "source": [
    "x_train"
   ],
   "outputs": [
    {
     "data": {
      "text/plain": [
       "array([[0.80185157, 0.7927609 , 0.7931831 ],\n",
       "       [0.7927609 , 0.7931831 , 0.81340354],\n",
       "       [0.7931831 , 0.81340354, 0.80566308],\n",
       "       ...,\n",
       "       [0.49047547, 0.48998449, 0.49409545],\n",
       "       [0.48998449, 0.49409545, 0.48912949],\n",
       "       [0.49409545, 0.48912949, 0.48770732]])"
      ]
     },
     "execution_count": 64,
     "metadata": {},
     "output_type": "execute_result"
    }
   ],
   "execution_count": 64
  },
  {
   "cell_type": "code",
   "id": "1577543c-af00-4df8-a502-18dacc08af3e",
   "metadata": {
    "ExecuteTime": {
     "end_time": "2024-12-30T03:32:31.391220Z",
     "start_time": "2024-12-30T03:32:31.388237Z"
    }
   },
   "source": [
    "#To reshape x_train from (12670, 3) to (12670, 3, 1), you need to add a third dimension. \n",
    "# This is commonly done when preparing data for models like RNNs, LSTMs, or CNNs, which expect 3D input (samples, timesteps, features).\n",
    "\n",
    "x_train = np.reshape(x_train, (x_train.shape[0], x_train.shape[1], 1))\n",
    "x_test = np.reshape(x_test, (x_test.shape[0], x_test.shape[1], 1))\n",
    "\n",
    "# x_train.shape[0] = number of samples (12670)\n",
    "# x_train.shape[1] = timesteps (3)\n",
    "# 1 = the number of features"
   ],
   "outputs": [],
   "execution_count": 65
  },
  {
   "cell_type": "code",
   "id": "242e9f19-d6b8-4122-87ed-baca726aeb68",
   "metadata": {
    "ExecuteTime": {
     "end_time": "2024-12-30T03:32:31.453742Z",
     "start_time": "2024-12-30T03:32:31.446412Z"
    }
   },
   "source": [
    "x_train.shape \n",
    "\n",
    "# The 3D shape (samples, timesteps, features) - 3d shape is used for RNNs\n",
    "\n",
    "# ima 12670 vrednosti (Redici),\n",
    "# 3 columns: Each sample uses 3 time steps (e.g., the last 3 days) i \n",
    "# 1 feature per time step: Each time step contains 1 value (e.g., the Close value for that day)."
   ],
   "outputs": [
    {
     "data": {
      "text/plain": [
       "(12670, 3, 1)"
      ]
     },
     "execution_count": 66,
     "metadata": {},
     "output_type": "execute_result"
    }
   ],
   "execution_count": 66
  },
  {
   "cell_type": "code",
   "id": "0ca9cd41-fe5e-4483-920b-c1cedf7606f8",
   "metadata": {
    "ExecuteTime": {
     "end_time": "2024-12-30T03:32:31.540020Z",
     "start_time": "2024-12-30T03:32:31.537139Z"
    }
   },
   "source": [
    "x_train"
   ],
   "outputs": [
    {
     "data": {
      "text/plain": [
       "array([[[0.80185157],\n",
       "        [0.7927609 ],\n",
       "        [0.7931831 ]],\n",
       "\n",
       "       [[0.7927609 ],\n",
       "        [0.7931831 ],\n",
       "        [0.81340354]],\n",
       "\n",
       "       [[0.7931831 ],\n",
       "        [0.81340354],\n",
       "        [0.80566308]],\n",
       "\n",
       "       ...,\n",
       "\n",
       "       [[0.49047547],\n",
       "        [0.48998449],\n",
       "        [0.49409545]],\n",
       "\n",
       "       [[0.48998449],\n",
       "        [0.49409545],\n",
       "        [0.48912949]],\n",
       "\n",
       "       [[0.49409545],\n",
       "        [0.48912949],\n",
       "        [0.48770732]]])"
      ]
     },
     "execution_count": 67,
     "metadata": {},
     "output_type": "execute_result"
    }
   ],
   "execution_count": 67
  },
  {
   "cell_type": "code",
   "id": "243051b6-b420-44e6-9e17-cc0dfcfea713",
   "metadata": {
    "ExecuteTime": {
     "end_time": "2024-12-30T03:32:31.806835Z",
     "start_time": "2024-12-30T03:32:31.592971Z"
    }
   },
   "source": [
    "model = Sequential()\n",
    "\n",
    "#vlezen sloj - imam input_Shape obavezno \n",
    "model.add(LSTM(8, \n",
    "                input_shape=(x_train.shape[1], x_train.shape[2]),     \n",
    "               return_sequences=True, \n",
    "               activation='relu'))\n",
    "\n",
    "#hidden sloj \n",
    "model.add(LSTM(4,activation='relu'))\n",
    "\n",
    "#output sloj\n",
    "model.add(Dense(1, activation='linear')) #1 izlez iamme - realen broj i linearna aktivaciska funkcija "
   ],
   "outputs": [
    {
     "name": "stderr",
     "output_type": "stream",
     "text": [
      "/Library/Frameworks/Python.framework/Versions/3.12/lib/python3.12/site-packages/keras/src/layers/rnn/rnn.py:200: UserWarning: Do not pass an `input_shape`/`input_dim` argument to a layer. When using Sequential models, prefer using an `Input(shape)` object as the first layer in the model instead.\n",
      "  super().__init__(**kwargs)\n"
     ]
    }
   ],
   "execution_count": 68
  },
  {
   "cell_type": "code",
   "id": "3c935706-3dab-49ce-903d-fe946cd6e15d",
   "metadata": {
    "ExecuteTime": {
     "end_time": "2024-12-30T03:32:31.860830Z",
     "start_time": "2024-12-30T03:32:31.846323Z"
    }
   },
   "source": [
    "model.compile(loss='mean_squared_error', optimizer='adam', metrics=['mean_squared_error'])"
   ],
   "outputs": [],
   "execution_count": 69
  },
  {
   "cell_type": "code",
   "id": "d9be9fea-f44d-45d8-b27f-5366b40d5746",
   "metadata": {
    "ExecuteTime": {
     "end_time": "2024-12-30T03:32:54.299322Z",
     "start_time": "2024-12-30T03:32:31.880239Z"
    }
   },
   "source": "history = model.fit(x_train, y_train, batch_size=16 , epochs = 30, validation_split=0.2, shuffle=False) #probaj so epochs=10, batch_size = 16",
   "outputs": [
    {
     "name": "stdout",
     "output_type": "stream",
     "text": [
      "Epoch 1/30\n",
      "\u001B[1m634/634\u001B[0m \u001B[32m━━━━━━━━━━━━━━━━━━━━\u001B[0m\u001B[37m\u001B[0m \u001B[1m2s\u001B[0m 1ms/step - loss: 0.2907 - mean_squared_error: 0.2907 - val_loss: 0.0262 - val_mean_squared_error: 0.0262\n",
      "Epoch 2/30\n",
      "\u001B[1m634/634\u001B[0m \u001B[32m━━━━━━━━━━━━━━━━━━━━\u001B[0m\u001B[37m\u001B[0m \u001B[1m1s\u001B[0m 874us/step - loss: 0.0110 - mean_squared_error: 0.0110 - val_loss: 0.0072 - val_mean_squared_error: 0.0072\n",
      "Epoch 3/30\n",
      "\u001B[1m634/634\u001B[0m \u001B[32m━━━━━━━━━━━━━━━━━━━━\u001B[0m\u001B[37m\u001B[0m \u001B[1m1s\u001B[0m 900us/step - loss: 0.0030 - mean_squared_error: 0.0030 - val_loss: 0.0029 - val_mean_squared_error: 0.0029\n",
      "Epoch 4/30\n",
      "\u001B[1m634/634\u001B[0m \u001B[32m━━━━━━━━━━━━━━━━━━━━\u001B[0m\u001B[37m\u001B[0m \u001B[1m1s\u001B[0m 1ms/step - loss: 0.0012 - mean_squared_error: 0.0012 - val_loss: 0.0016 - val_mean_squared_error: 0.0016\n",
      "Epoch 5/30\n",
      "\u001B[1m634/634\u001B[0m \u001B[32m━━━━━━━━━━━━━━━━━━━━\u001B[0m\u001B[37m\u001B[0m \u001B[1m1s\u001B[0m 1ms/step - loss: 6.2387e-04 - mean_squared_error: 6.2387e-04 - val_loss: 8.9759e-04 - val_mean_squared_error: 8.9759e-04\n",
      "Epoch 6/30\n",
      "\u001B[1m634/634\u001B[0m \u001B[32m━━━━━━━━━━━━━━━━━━━━\u001B[0m\u001B[37m\u001B[0m \u001B[1m1s\u001B[0m 933us/step - loss: 3.7524e-04 - mean_squared_error: 3.7524e-04 - val_loss: 5.8233e-04 - val_mean_squared_error: 5.8233e-04\n",
      "Epoch 7/30\n",
      "\u001B[1m634/634\u001B[0m \u001B[32m━━━━━━━━━━━━━━━━━━━━\u001B[0m\u001B[37m\u001B[0m \u001B[1m1s\u001B[0m 880us/step - loss: 2.7663e-04 - mean_squared_error: 2.7663e-04 - val_loss: 4.9827e-04 - val_mean_squared_error: 4.9827e-04\n",
      "Epoch 8/30\n",
      "\u001B[1m634/634\u001B[0m \u001B[32m━━━━━━━━━━━━━━━━━━━━\u001B[0m\u001B[37m\u001B[0m \u001B[1m1s\u001B[0m 972us/step - loss: 2.3803e-04 - mean_squared_error: 2.3803e-04 - val_loss: 4.6901e-04 - val_mean_squared_error: 4.6901e-04\n",
      "Epoch 9/30\n",
      "\u001B[1m634/634\u001B[0m \u001B[32m━━━━━━━━━━━━━━━━━━━━\u001B[0m\u001B[37m\u001B[0m \u001B[1m1s\u001B[0m 936us/step - loss: 2.1561e-04 - mean_squared_error: 2.1561e-04 - val_loss: 4.1146e-04 - val_mean_squared_error: 4.1146e-04\n",
      "Epoch 10/30\n",
      "\u001B[1m634/634\u001B[0m \u001B[32m━━━━━━━━━━━━━━━━━━━━\u001B[0m\u001B[37m\u001B[0m \u001B[1m1s\u001B[0m 2ms/step - loss: 2.0249e-04 - mean_squared_error: 2.0249e-04 - val_loss: 3.7645e-04 - val_mean_squared_error: 3.7645e-04\n",
      "Epoch 11/30\n",
      "\u001B[1m634/634\u001B[0m \u001B[32m━━━━━━━━━━━━━━━━━━━━\u001B[0m\u001B[37m\u001B[0m \u001B[1m1s\u001B[0m 1ms/step - loss: 1.9854e-04 - mean_squared_error: 1.9854e-04 - val_loss: 3.6654e-04 - val_mean_squared_error: 3.6654e-04\n",
      "Epoch 12/30\n",
      "\u001B[1m634/634\u001B[0m \u001B[32m━━━━━━━━━━━━━━━━━━━━\u001B[0m\u001B[37m\u001B[0m \u001B[1m1s\u001B[0m 999us/step - loss: 2.0161e-04 - mean_squared_error: 2.0161e-04 - val_loss: 3.8076e-04 - val_mean_squared_error: 3.8076e-04\n",
      "Epoch 13/30\n",
      "\u001B[1m634/634\u001B[0m \u001B[32m━━━━━━━━━━━━━━━━━━━━\u001B[0m\u001B[37m\u001B[0m \u001B[1m1s\u001B[0m 1ms/step - loss: 2.0978e-04 - mean_squared_error: 2.0978e-04 - val_loss: 4.1545e-04 - val_mean_squared_error: 4.1545e-04\n",
      "Epoch 14/30\n",
      "\u001B[1m634/634\u001B[0m \u001B[32m━━━━━━━━━━━━━━━━━━━━\u001B[0m\u001B[37m\u001B[0m \u001B[1m1s\u001B[0m 986us/step - loss: 2.2234e-04 - mean_squared_error: 2.2234e-04 - val_loss: 4.5659e-04 - val_mean_squared_error: 4.5659e-04\n",
      "Epoch 15/30\n",
      "\u001B[1m634/634\u001B[0m \u001B[32m━━━━━━━━━━━━━━━━━━━━\u001B[0m\u001B[37m\u001B[0m \u001B[1m1s\u001B[0m 995us/step - loss: 2.3545e-04 - mean_squared_error: 2.3545e-04 - val_loss: 5.3386e-04 - val_mean_squared_error: 5.3386e-04\n",
      "Epoch 16/30\n",
      "\u001B[1m634/634\u001B[0m \u001B[32m━━━━━━━━━━━━━━━━━━━━\u001B[0m\u001B[37m\u001B[0m \u001B[1m1s\u001B[0m 998us/step - loss: 2.6632e-04 - mean_squared_error: 2.6632e-04 - val_loss: 5.6786e-04 - val_mean_squared_error: 5.6786e-04\n",
      "Epoch 17/30\n",
      "\u001B[1m634/634\u001B[0m \u001B[32m━━━━━━━━━━━━━━━━━━━━\u001B[0m\u001B[37m\u001B[0m \u001B[1m1s\u001B[0m 965us/step - loss: 2.8390e-04 - mean_squared_error: 2.8390e-04 - val_loss: 6.0974e-04 - val_mean_squared_error: 6.0974e-04\n",
      "Epoch 18/30\n",
      "\u001B[1m634/634\u001B[0m \u001B[32m━━━━━━━━━━━━━━━━━━━━\u001B[0m\u001B[37m\u001B[0m \u001B[1m1s\u001B[0m 943us/step - loss: 3.0000e-04 - mean_squared_error: 3.0000e-04 - val_loss: 6.4169e-04 - val_mean_squared_error: 6.4169e-04\n",
      "Epoch 19/30\n",
      "\u001B[1m634/634\u001B[0m \u001B[32m━━━━━━━━━━━━━━━━━━━━\u001B[0m\u001B[37m\u001B[0m \u001B[1m1s\u001B[0m 952us/step - loss: 3.1307e-04 - mean_squared_error: 3.1307e-04 - val_loss: 6.8945e-04 - val_mean_squared_error: 6.8945e-04\n",
      "Epoch 20/30\n",
      "\u001B[1m634/634\u001B[0m \u001B[32m━━━━━━━━━━━━━━━━━━━━\u001B[0m\u001B[37m\u001B[0m \u001B[1m1s\u001B[0m 996us/step - loss: 3.3196e-04 - mean_squared_error: 3.3196e-04 - val_loss: 7.3005e-04 - val_mean_squared_error: 7.3005e-04\n",
      "Epoch 21/30\n",
      "\u001B[1m634/634\u001B[0m \u001B[32m━━━━━━━━━━━━━━━━━━━━\u001B[0m\u001B[37m\u001B[0m \u001B[1m1s\u001B[0m 1ms/step - loss: 3.5182e-04 - mean_squared_error: 3.5182e-04 - val_loss: 7.8566e-04 - val_mean_squared_error: 7.8566e-04\n",
      "Epoch 22/30\n",
      "\u001B[1m634/634\u001B[0m \u001B[32m━━━━━━━━━━━━━━━━━━━━\u001B[0m\u001B[37m\u001B[0m \u001B[1m1s\u001B[0m 2ms/step - loss: 3.7963e-04 - mean_squared_error: 3.7963e-04 - val_loss: 8.1950e-04 - val_mean_squared_error: 8.1950e-04\n",
      "Epoch 23/30\n",
      "\u001B[1m634/634\u001B[0m \u001B[32m━━━━━━━━━━━━━━━━━━━━\u001B[0m\u001B[37m\u001B[0m \u001B[1m1s\u001B[0m 1ms/step - loss: 3.9472e-04 - mean_squared_error: 3.9472e-04 - val_loss: 8.6824e-04 - val_mean_squared_error: 8.6824e-04\n",
      "Epoch 24/30\n",
      "\u001B[1m634/634\u001B[0m \u001B[32m━━━━━━━━━━━━━━━━━━━━\u001B[0m\u001B[37m\u001B[0m \u001B[1m1s\u001B[0m 1ms/step - loss: 4.2217e-04 - mean_squared_error: 4.2217e-04 - val_loss: 8.9439e-04 - val_mean_squared_error: 8.9439e-04\n",
      "Epoch 25/30\n",
      "\u001B[1m634/634\u001B[0m \u001B[32m━━━━━━━━━━━━━━━━━━━━\u001B[0m\u001B[37m\u001B[0m \u001B[1m1s\u001B[0m 933us/step - loss: 4.3701e-04 - mean_squared_error: 4.3701e-04 - val_loss: 9.1198e-04 - val_mean_squared_error: 9.1198e-04\n",
      "Epoch 26/30\n",
      "\u001B[1m634/634\u001B[0m \u001B[32m━━━━━━━━━━━━━━━━━━━━\u001B[0m\u001B[37m\u001B[0m \u001B[1m1s\u001B[0m 948us/step - loss: 4.4965e-04 - mean_squared_error: 4.4965e-04 - val_loss: 9.2513e-04 - val_mean_squared_error: 9.2513e-04\n",
      "Epoch 27/30\n",
      "\u001B[1m634/634\u001B[0m \u001B[32m━━━━━━━━━━━━━━━━━━━━\u001B[0m\u001B[37m\u001B[0m \u001B[1m1s\u001B[0m 948us/step - loss: 4.5994e-04 - mean_squared_error: 4.5994e-04 - val_loss: 9.3878e-04 - val_mean_squared_error: 9.3878e-04\n",
      "Epoch 28/30\n",
      "\u001B[1m634/634\u001B[0m \u001B[32m━━━━━━━━━━━━━━━━━━━━\u001B[0m\u001B[37m\u001B[0m \u001B[1m1s\u001B[0m 1ms/step - loss: 4.6845e-04 - mean_squared_error: 4.6845e-04 - val_loss: 9.4307e-04 - val_mean_squared_error: 9.4307e-04\n",
      "Epoch 29/30\n",
      "\u001B[1m634/634\u001B[0m \u001B[32m━━━━━━━━━━━━━━━━━━━━\u001B[0m\u001B[37m\u001B[0m \u001B[1m1s\u001B[0m 977us/step - loss: 4.7415e-04 - mean_squared_error: 4.7415e-04 - val_loss: 9.4772e-04 - val_mean_squared_error: 9.4772e-04\n",
      "Epoch 30/30\n",
      "\u001B[1m634/634\u001B[0m \u001B[32m━━━━━━━━━━━━━━━━━━━━\u001B[0m\u001B[37m\u001B[0m \u001B[1m1s\u001B[0m 1ms/step - loss: 4.7972e-04 - mean_squared_error: 4.7972e-04 - val_loss: 9.5051e-04 - val_mean_squared_error: 9.5051e-04\n"
     ]
    }
   ],
   "execution_count": 70
  },
  {
   "cell_type": "code",
   "id": "1b1b32a7-01b0-444d-8c55-576424c743c0",
   "metadata": {
    "ExecuteTime": {
     "end_time": "2024-12-30T03:32:54.553378Z",
     "start_time": "2024-12-30T03:32:54.364771Z"
    }
   },
   "source": [
    "sns.lineplot(history.history['loss'], label='loss')\n",
    "sns.lineplot(history.history['val_loss'], label='val_loss')"
   ],
   "outputs": [
    {
     "data": {
      "text/plain": [
       "<Axes: >"
      ]
     },
     "execution_count": 71,
     "metadata": {},
     "output_type": "execute_result"
    },
    {
     "data": {
      "text/plain": [
       "<Figure size 640x480 with 1 Axes>"
      ],
      "image/png": "[encoded data removed]"
     },
     "metadata": {},
     "output_type": "display_data"
    }
   ],
   "execution_count": 71
  },
  {
   "cell_type": "code",
   "id": "a30aa2cb-f2aa-4b1e-8e16-bce865b2142d",
   "metadata": {
    "ExecuteTime": {
     "end_time": "2024-12-30T03:32:54.789559Z",
     "start_time": "2024-12-30T03:32:54.568634Z"
    }
   },
   "source": [
    "y_pred = model.predict(x_test)"
   ],
   "outputs": [
    {
     "name": "stdout",
     "output_type": "stream",
     "text": [
      "\u001B[1m99/99\u001B[0m \u001B[32m━━━━━━━━━━━━━━━━━━━━\u001B[0m\u001B[37m\u001B[0m \u001B[1m0s\u001B[0m 418us/step \n"
     ]
    }
   ],
   "execution_count": 72
  },
  {
   "cell_type": "code",
   "id": "62943a28-d51b-4eee-a2ea-fbb520e8d31b",
   "metadata": {
    "ExecuteTime": {
     "end_time": "2024-12-30T03:32:54.803533Z",
     "start_time": "2024-12-30T03:32:54.801205Z"
    }
   },
   "source": [
    "y_pred"
   ],
   "outputs": [
    {
     "data": {
      "text/plain": [
       "array([[0.48683763],\n",
       "       [0.48524815],\n",
       "       [0.48203027],\n",
       "       ...,\n",
       "       [0.7928368 ],\n",
       "       [0.79262704],\n",
       "       [0.7949678 ]], dtype=float32)"
      ]
     },
     "execution_count": 73,
     "metadata": {},
     "output_type": "execute_result"
    }
   ],
   "execution_count": 73
  },
  {
   "cell_type": "code",
   "id": "61e04797-4ad2-498a-9d44-ca9f5cf5121b",
   "metadata": {
    "ExecuteTime": {
     "end_time": "2024-12-30T03:32:54.845386Z",
     "start_time": "2024-12-30T03:32:54.841686Z"
    }
   },
   "source": [
    "y_pred = scaler.inverse_transform(y_pred)"
   ],
   "outputs": [],
   "execution_count": 74
  },
  {
   "cell_type": "code",
   "id": "7cc4b86f-52fa-4782-8372-703844565985",
   "metadata": {
    "ExecuteTime": {
     "end_time": "2024-12-30T03:32:54.886023Z",
     "start_time": "2024-12-30T03:32:54.880825Z"
    }
   },
   "source": [
    "r2_score(y_test, y_pred)"
   ],
   "outputs": [
    {
     "data": {
      "text/plain": [
       "0.7536503649101025"
      ]
     },
     "execution_count": 75,
     "metadata": {},
     "output_type": "execute_result"
    }
   ],
   "execution_count": 75
  }
 ],
 "metadata": {
  "kernelspec": {
   "display_name": "Python (myenv)",
   "language": "python",
   "name": "myenv"
  },
  "language_info": {
   "codemirror_mode": {
    "name": "ipython",
    "version": 3
   },
   "file_extension": ".py",
   "mimetype": "text/x-python",
   "name": "python",
   "nbconvert_exporter": "python",
   "pygments_lexer": "ipython3",
   "version": "3.12.2"
  }
 },
 "nbformat": 4,
 "nbformat_minor": 5
}
