{
 "cells": [
  {
   "cell_type": "code",
   "execution_count": 419,
   "id": "43008d15-59a1-4b46-901b-8559d1b022e6",
   "metadata": {},
   "outputs": [],
   "source": [
    "import pandas as pd \n",
    "from sklearn.preprocessing import LabelEncoder, OneHotEncoder, MinMaxScaler, StandardScaler\n",
    "from sklearn.model_selection import train_test_split\n",
    "from tensorflow.keras.models import Sequential\n",
    "from tensorflow.keras.layers import Dense, Input, Dropout\n",
    "import numpy as np\n",
    "import seaborn as sns\n",
    "from tensorflow.keras.utils import to_categorical"
   ]
  },
  {
   "cell_type": "code",
   "execution_count": 471,
   "id": "52016e71-eb2a-43e1-bc58-666e633d1c24",
   "metadata": {},
   "outputs": [],
   "source": [
    "df = pd.read_csv('datasets/pollution_dataset.csv')"
   ]
  },
  {
   "cell_type": "code",
   "execution_count": 429,
   "id": "58585d41-658b-46dd-9196-b5b0ef21811d",
   "metadata": {},
   "outputs": [
    {
     "data": {
      "text/html": [
       "<div>\n",
       "<style scoped>\n",
       "    .dataframe tbody tr th:only-of-type {\n",
       "        vertical-align: middle;\n",
       "    }\n",
       "\n",
       "    .dataframe tbody tr th {\n",
       "        vertical-align: top;\n",
       "    }\n",
       "\n",
       "    .dataframe thead th {\n",
       "        text-align: right;\n",
       "    }\n",
       "</style>\n",
       "<table border=\"1\" class=\"dataframe\">\n",
       "  <thead>\n",
       "    <tr style=\"text-align: right;\">\n",
       "      <th></th>\n",
       "      <th>Temperature</th>\n",
       "      <th>Humidity</th>\n",
       "      <th>PM2.5</th>\n",
       "      <th>PM10</th>\n",
       "      <th>NO2</th>\n",
       "      <th>SO2</th>\n",
       "      <th>CO</th>\n",
       "      <th>Proximity_to_Industrial_Areas</th>\n",
       "      <th>Population_Density</th>\n",
       "      <th>Air Quality</th>\n",
       "    </tr>\n",
       "  </thead>\n",
       "  <tbody>\n",
       "    <tr>\n",
       "      <th>0</th>\n",
       "      <td>29.8</td>\n",
       "      <td>59.1</td>\n",
       "      <td>5.2</td>\n",
       "      <td>17.9</td>\n",
       "      <td>18.9</td>\n",
       "      <td>9.2</td>\n",
       "      <td>1.72</td>\n",
       "      <td>6.3</td>\n",
       "      <td>319</td>\n",
       "      <td>Moderate</td>\n",
       "    </tr>\n",
       "    <tr>\n",
       "      <th>1</th>\n",
       "      <td>28.3</td>\n",
       "      <td>75.6</td>\n",
       "      <td>2.3</td>\n",
       "      <td>12.2</td>\n",
       "      <td>30.8</td>\n",
       "      <td>9.7</td>\n",
       "      <td>1.64</td>\n",
       "      <td>6.0</td>\n",
       "      <td>611</td>\n",
       "      <td>Moderate</td>\n",
       "    </tr>\n",
       "    <tr>\n",
       "      <th>2</th>\n",
       "      <td>23.1</td>\n",
       "      <td>74.7</td>\n",
       "      <td>26.7</td>\n",
       "      <td>33.8</td>\n",
       "      <td>24.4</td>\n",
       "      <td>12.6</td>\n",
       "      <td>1.63</td>\n",
       "      <td>5.2</td>\n",
       "      <td>619</td>\n",
       "      <td>Moderate</td>\n",
       "    </tr>\n",
       "    <tr>\n",
       "      <th>3</th>\n",
       "      <td>27.1</td>\n",
       "      <td>39.1</td>\n",
       "      <td>6.1</td>\n",
       "      <td>6.3</td>\n",
       "      <td>13.5</td>\n",
       "      <td>5.3</td>\n",
       "      <td>1.15</td>\n",
       "      <td>11.1</td>\n",
       "      <td>551</td>\n",
       "      <td>Good</td>\n",
       "    </tr>\n",
       "    <tr>\n",
       "      <th>4</th>\n",
       "      <td>26.5</td>\n",
       "      <td>70.7</td>\n",
       "      <td>6.9</td>\n",
       "      <td>16.0</td>\n",
       "      <td>21.9</td>\n",
       "      <td>5.6</td>\n",
       "      <td>1.01</td>\n",
       "      <td>12.7</td>\n",
       "      <td>303</td>\n",
       "      <td>Good</td>\n",
       "    </tr>\n",
       "    <tr>\n",
       "      <th>...</th>\n",
       "      <td>...</td>\n",
       "      <td>...</td>\n",
       "      <td>...</td>\n",
       "      <td>...</td>\n",
       "      <td>...</td>\n",
       "      <td>...</td>\n",
       "      <td>...</td>\n",
       "      <td>...</td>\n",
       "      <td>...</td>\n",
       "      <td>...</td>\n",
       "    </tr>\n",
       "    <tr>\n",
       "      <th>4995</th>\n",
       "      <td>40.6</td>\n",
       "      <td>74.1</td>\n",
       "      <td>116.0</td>\n",
       "      <td>126.7</td>\n",
       "      <td>45.5</td>\n",
       "      <td>25.7</td>\n",
       "      <td>2.11</td>\n",
       "      <td>2.8</td>\n",
       "      <td>765</td>\n",
       "      <td>Hazardous</td>\n",
       "    </tr>\n",
       "    <tr>\n",
       "      <th>4996</th>\n",
       "      <td>28.1</td>\n",
       "      <td>96.9</td>\n",
       "      <td>6.9</td>\n",
       "      <td>25.0</td>\n",
       "      <td>25.3</td>\n",
       "      <td>10.8</td>\n",
       "      <td>1.54</td>\n",
       "      <td>5.7</td>\n",
       "      <td>709</td>\n",
       "      <td>Moderate</td>\n",
       "    </tr>\n",
       "    <tr>\n",
       "      <th>4997</th>\n",
       "      <td>25.9</td>\n",
       "      <td>78.2</td>\n",
       "      <td>14.2</td>\n",
       "      <td>22.1</td>\n",
       "      <td>34.8</td>\n",
       "      <td>7.8</td>\n",
       "      <td>1.63</td>\n",
       "      <td>9.6</td>\n",
       "      <td>379</td>\n",
       "      <td>Moderate</td>\n",
       "    </tr>\n",
       "    <tr>\n",
       "      <th>4998</th>\n",
       "      <td>25.3</td>\n",
       "      <td>44.4</td>\n",
       "      <td>21.4</td>\n",
       "      <td>29.0</td>\n",
       "      <td>23.7</td>\n",
       "      <td>5.7</td>\n",
       "      <td>0.89</td>\n",
       "      <td>11.6</td>\n",
       "      <td>241</td>\n",
       "      <td>Good</td>\n",
       "    </tr>\n",
       "    <tr>\n",
       "      <th>4999</th>\n",
       "      <td>24.1</td>\n",
       "      <td>77.9</td>\n",
       "      <td>81.7</td>\n",
       "      <td>94.3</td>\n",
       "      <td>23.2</td>\n",
       "      <td>10.5</td>\n",
       "      <td>1.38</td>\n",
       "      <td>8.3</td>\n",
       "      <td>461</td>\n",
       "      <td>Moderate</td>\n",
       "    </tr>\n",
       "  </tbody>\n",
       "</table>\n",
       "<p>5000 rows × 10 columns</p>\n",
       "</div>"
      ],
      "text/plain": [
       "      Temperature  Humidity  PM2.5   PM10   NO2   SO2    CO  \\\n",
       "0            29.8      59.1    5.2   17.9  18.9   9.2  1.72   \n",
       "1            28.3      75.6    2.3   12.2  30.8   9.7  1.64   \n",
       "2            23.1      74.7   26.7   33.8  24.4  12.6  1.63   \n",
       "3            27.1      39.1    6.1    6.3  13.5   5.3  1.15   \n",
       "4            26.5      70.7    6.9   16.0  21.9   5.6  1.01   \n",
       "...           ...       ...    ...    ...   ...   ...   ...   \n",
       "4995         40.6      74.1  116.0  126.7  45.5  25.7  2.11   \n",
       "4996         28.1      96.9    6.9   25.0  25.3  10.8  1.54   \n",
       "4997         25.9      78.2   14.2   22.1  34.8   7.8  1.63   \n",
       "4998         25.3      44.4   21.4   29.0  23.7   5.7  0.89   \n",
       "4999         24.1      77.9   81.7   94.3  23.2  10.5  1.38   \n",
       "\n",
       "      Proximity_to_Industrial_Areas  Population_Density Air Quality  \n",
       "0                               6.3                 319    Moderate  \n",
       "1                               6.0                 611    Moderate  \n",
       "2                               5.2                 619    Moderate  \n",
       "3                              11.1                 551        Good  \n",
       "4                              12.7                 303        Good  \n",
       "...                             ...                 ...         ...  \n",
       "4995                            2.8                 765   Hazardous  \n",
       "4996                            5.7                 709    Moderate  \n",
       "4997                            9.6                 379    Moderate  \n",
       "4998                           11.6                 241        Good  \n",
       "4999                            8.3                 461    Moderate  \n",
       "\n",
       "[5000 rows x 10 columns]"
      ]
     },
     "execution_count": 429,
     "metadata": {},
     "output_type": "execute_result"
    }
   ],
   "source": [
    "df"
   ]
  },
  {
   "cell_type": "code",
   "execution_count": 343,
   "id": "8797f4d4-d1d0-4ba8-9c1a-4a6bad4b36c0",
   "metadata": {},
   "outputs": [
    {
     "data": {
      "text/plain": [
       "array(['Moderate', 'Good', 'Hazardous', 'Poor'], dtype=object)"
      ]
     },
     "execution_count": 343,
     "metadata": {},
     "output_type": "execute_result"
    }
   ],
   "source": [
    "df['Air Quality'].unique()"
   ]
  },
  {
   "cell_type": "code",
   "execution_count": 473,
   "id": "e81b7471-5ff9-42fe-85cb-d7d5582e3e79",
   "metadata": {},
   "outputs": [],
   "source": [
    "encoder = LabelEncoder()\n",
    "\n",
    "df['Air Quality'] = encoder.fit_transform(df['Air Quality'])"
   ]
  },
  {
   "cell_type": "code",
   "execution_count": 291,
   "id": "1212afa1-7233-4564-80cd-68f9ad1acfc4",
   "metadata": {},
   "outputs": [
    {
     "data": {
      "text/html": [
       "<div>\n",
       "<style scoped>\n",
       "    .dataframe tbody tr th:only-of-type {\n",
       "        vertical-align: middle;\n",
       "    }\n",
       "\n",
       "    .dataframe tbody tr th {\n",
       "        vertical-align: top;\n",
       "    }\n",
       "\n",
       "    .dataframe thead th {\n",
       "        text-align: right;\n",
       "    }\n",
       "</style>\n",
       "<table border=\"1\" class=\"dataframe\">\n",
       "  <thead>\n",
       "    <tr style=\"text-align: right;\">\n",
       "      <th></th>\n",
       "      <th>Temperature</th>\n",
       "      <th>Humidity</th>\n",
       "      <th>PM2.5</th>\n",
       "      <th>PM10</th>\n",
       "      <th>NO2</th>\n",
       "      <th>SO2</th>\n",
       "      <th>CO</th>\n",
       "      <th>Proximity_to_Industrial_Areas</th>\n",
       "      <th>Population_Density</th>\n",
       "      <th>Air Quality</th>\n",
       "    </tr>\n",
       "  </thead>\n",
       "  <tbody>\n",
       "    <tr>\n",
       "      <th>0</th>\n",
       "      <td>29.8</td>\n",
       "      <td>59.1</td>\n",
       "      <td>5.2</td>\n",
       "      <td>17.9</td>\n",
       "      <td>18.9</td>\n",
       "      <td>9.2</td>\n",
       "      <td>1.72</td>\n",
       "      <td>6.3</td>\n",
       "      <td>319</td>\n",
       "      <td>2</td>\n",
       "    </tr>\n",
       "    <tr>\n",
       "      <th>1</th>\n",
       "      <td>28.3</td>\n",
       "      <td>75.6</td>\n",
       "      <td>2.3</td>\n",
       "      <td>12.2</td>\n",
       "      <td>30.8</td>\n",
       "      <td>9.7</td>\n",
       "      <td>1.64</td>\n",
       "      <td>6.0</td>\n",
       "      <td>611</td>\n",
       "      <td>2</td>\n",
       "    </tr>\n",
       "    <tr>\n",
       "      <th>2</th>\n",
       "      <td>23.1</td>\n",
       "      <td>74.7</td>\n",
       "      <td>26.7</td>\n",
       "      <td>33.8</td>\n",
       "      <td>24.4</td>\n",
       "      <td>12.6</td>\n",
       "      <td>1.63</td>\n",
       "      <td>5.2</td>\n",
       "      <td>619</td>\n",
       "      <td>2</td>\n",
       "    </tr>\n",
       "    <tr>\n",
       "      <th>3</th>\n",
       "      <td>27.1</td>\n",
       "      <td>39.1</td>\n",
       "      <td>6.1</td>\n",
       "      <td>6.3</td>\n",
       "      <td>13.5</td>\n",
       "      <td>5.3</td>\n",
       "      <td>1.15</td>\n",
       "      <td>11.1</td>\n",
       "      <td>551</td>\n",
       "      <td>0</td>\n",
       "    </tr>\n",
       "    <tr>\n",
       "      <th>4</th>\n",
       "      <td>26.5</td>\n",
       "      <td>70.7</td>\n",
       "      <td>6.9</td>\n",
       "      <td>16.0</td>\n",
       "      <td>21.9</td>\n",
       "      <td>5.6</td>\n",
       "      <td>1.01</td>\n",
       "      <td>12.7</td>\n",
       "      <td>303</td>\n",
       "      <td>0</td>\n",
       "    </tr>\n",
       "    <tr>\n",
       "      <th>...</th>\n",
       "      <td>...</td>\n",
       "      <td>...</td>\n",
       "      <td>...</td>\n",
       "      <td>...</td>\n",
       "      <td>...</td>\n",
       "      <td>...</td>\n",
       "      <td>...</td>\n",
       "      <td>...</td>\n",
       "      <td>...</td>\n",
       "      <td>...</td>\n",
       "    </tr>\n",
       "    <tr>\n",
       "      <th>4995</th>\n",
       "      <td>40.6</td>\n",
       "      <td>74.1</td>\n",
       "      <td>116.0</td>\n",
       "      <td>126.7</td>\n",
       "      <td>45.5</td>\n",
       "      <td>25.7</td>\n",
       "      <td>2.11</td>\n",
       "      <td>2.8</td>\n",
       "      <td>765</td>\n",
       "      <td>1</td>\n",
       "    </tr>\n",
       "    <tr>\n",
       "      <th>4996</th>\n",
       "      <td>28.1</td>\n",
       "      <td>96.9</td>\n",
       "      <td>6.9</td>\n",
       "      <td>25.0</td>\n",
       "      <td>25.3</td>\n",
       "      <td>10.8</td>\n",
       "      <td>1.54</td>\n",
       "      <td>5.7</td>\n",
       "      <td>709</td>\n",
       "      <td>2</td>\n",
       "    </tr>\n",
       "    <tr>\n",
       "      <th>4997</th>\n",
       "      <td>25.9</td>\n",
       "      <td>78.2</td>\n",
       "      <td>14.2</td>\n",
       "      <td>22.1</td>\n",
       "      <td>34.8</td>\n",
       "      <td>7.8</td>\n",
       "      <td>1.63</td>\n",
       "      <td>9.6</td>\n",
       "      <td>379</td>\n",
       "      <td>2</td>\n",
       "    </tr>\n",
       "    <tr>\n",
       "      <th>4998</th>\n",
       "      <td>25.3</td>\n",
       "      <td>44.4</td>\n",
       "      <td>21.4</td>\n",
       "      <td>29.0</td>\n",
       "      <td>23.7</td>\n",
       "      <td>5.7</td>\n",
       "      <td>0.89</td>\n",
       "      <td>11.6</td>\n",
       "      <td>241</td>\n",
       "      <td>0</td>\n",
       "    </tr>\n",
       "    <tr>\n",
       "      <th>4999</th>\n",
       "      <td>24.1</td>\n",
       "      <td>77.9</td>\n",
       "      <td>81.7</td>\n",
       "      <td>94.3</td>\n",
       "      <td>23.2</td>\n",
       "      <td>10.5</td>\n",
       "      <td>1.38</td>\n",
       "      <td>8.3</td>\n",
       "      <td>461</td>\n",
       "      <td>2</td>\n",
       "    </tr>\n",
       "  </tbody>\n",
       "</table>\n",
       "<p>5000 rows × 10 columns</p>\n",
       "</div>"
      ],
      "text/plain": [
       "      Temperature  Humidity  PM2.5   PM10   NO2   SO2    CO  \\\n",
       "0            29.8      59.1    5.2   17.9  18.9   9.2  1.72   \n",
       "1            28.3      75.6    2.3   12.2  30.8   9.7  1.64   \n",
       "2            23.1      74.7   26.7   33.8  24.4  12.6  1.63   \n",
       "3            27.1      39.1    6.1    6.3  13.5   5.3  1.15   \n",
       "4            26.5      70.7    6.9   16.0  21.9   5.6  1.01   \n",
       "...           ...       ...    ...    ...   ...   ...   ...   \n",
       "4995         40.6      74.1  116.0  126.7  45.5  25.7  2.11   \n",
       "4996         28.1      96.9    6.9   25.0  25.3  10.8  1.54   \n",
       "4997         25.9      78.2   14.2   22.1  34.8   7.8  1.63   \n",
       "4998         25.3      44.4   21.4   29.0  23.7   5.7  0.89   \n",
       "4999         24.1      77.9   81.7   94.3  23.2  10.5  1.38   \n",
       "\n",
       "      Proximity_to_Industrial_Areas  Population_Density  Air Quality  \n",
       "0                               6.3                 319            2  \n",
       "1                               6.0                 611            2  \n",
       "2                               5.2                 619            2  \n",
       "3                              11.1                 551            0  \n",
       "4                              12.7                 303            0  \n",
       "...                             ...                 ...          ...  \n",
       "4995                            2.8                 765            1  \n",
       "4996                            5.7                 709            2  \n",
       "4997                            9.6                 379            2  \n",
       "4998                           11.6                 241            0  \n",
       "4999                            8.3                 461            2  \n",
       "\n",
       "[5000 rows x 10 columns]"
      ]
     },
     "execution_count": 291,
     "metadata": {},
     "output_type": "execute_result"
    }
   ],
   "source": [
    "df"
   ]
  },
  {
   "cell_type": "code",
   "execution_count": 293,
   "id": "4e520593-4014-4e96-bd73-af502632931a",
   "metadata": {},
   "outputs": [
    {
     "data": {
      "text/plain": [
       "<Axes: xlabel='Air Quality', ylabel='count'>"
      ]
     },
     "execution_count": 293,
     "metadata": {},
     "output_type": "execute_result"
    },
    {
     "data": {
      "image/png": "[encoded data removed]",
      "text/plain": [
       "<Figure size 640x480 with 1 Axes>"
      ]
     },
     "metadata": {},
     "output_type": "display_data"
    }
   ],
   "source": [
    "sns.countplot(df, x='Air Quality')"
   ]
  },
  {
   "cell_type": "code",
   "execution_count": 65,
   "id": "f57531aa-ba92-4cbb-8c81-1e9f2645f266",
   "metadata": {},
   "outputs": [
    {
     "data": {
      "text/plain": [
       "Temperature                      0\n",
       "Humidity                         0\n",
       "PM2.5                            0\n",
       "PM10                             0\n",
       "NO2                              0\n",
       "SO2                              0\n",
       "CO                               0\n",
       "Proximity_to_Industrial_Areas    0\n",
       "Population_Density               0\n",
       "Air Quality                      0\n",
       "dtype: int64"
      ]
     },
     "execution_count": 65,
     "metadata": {},
     "output_type": "execute_result"
    }
   ],
   "source": [
    "df.isnull().sum()"
   ]
  },
  {
   "cell_type": "code",
   "execution_count": 257,
   "id": "a330b92c-efd8-49fa-9db8-786fc7b242ea",
   "metadata": {},
   "outputs": [
    {
     "data": {
      "text/html": [
       "<div>\n",
       "<style scoped>\n",
       "    .dataframe tbody tr th:only-of-type {\n",
       "        vertical-align: middle;\n",
       "    }\n",
       "\n",
       "    .dataframe tbody tr th {\n",
       "        vertical-align: top;\n",
       "    }\n",
       "\n",
       "    .dataframe thead th {\n",
       "        text-align: right;\n",
       "    }\n",
       "</style>\n",
       "<table border=\"1\" class=\"dataframe\">\n",
       "  <thead>\n",
       "    <tr style=\"text-align: right;\">\n",
       "      <th></th>\n",
       "      <th>Temperature</th>\n",
       "      <th>Humidity</th>\n",
       "      <th>PM2.5</th>\n",
       "      <th>PM10</th>\n",
       "      <th>NO2</th>\n",
       "      <th>SO2</th>\n",
       "      <th>CO</th>\n",
       "      <th>Proximity_to_Industrial_Areas</th>\n",
       "      <th>Population_Density</th>\n",
       "      <th>Air Quality</th>\n",
       "    </tr>\n",
       "  </thead>\n",
       "  <tbody>\n",
       "    <tr>\n",
       "      <th>0</th>\n",
       "      <td>29.8</td>\n",
       "      <td>59.1</td>\n",
       "      <td>5.2</td>\n",
       "      <td>17.9</td>\n",
       "      <td>18.9</td>\n",
       "      <td>9.2</td>\n",
       "      <td>1.72</td>\n",
       "      <td>6.3</td>\n",
       "      <td>319</td>\n",
       "      <td>0.0</td>\n",
       "    </tr>\n",
       "    <tr>\n",
       "      <th>1</th>\n",
       "      <td>28.3</td>\n",
       "      <td>75.6</td>\n",
       "      <td>2.3</td>\n",
       "      <td>12.2</td>\n",
       "      <td>30.8</td>\n",
       "      <td>9.7</td>\n",
       "      <td>1.64</td>\n",
       "      <td>6.0</td>\n",
       "      <td>611</td>\n",
       "      <td>0.0</td>\n",
       "    </tr>\n",
       "    <tr>\n",
       "      <th>2</th>\n",
       "      <td>23.1</td>\n",
       "      <td>74.7</td>\n",
       "      <td>26.7</td>\n",
       "      <td>33.8</td>\n",
       "      <td>24.4</td>\n",
       "      <td>12.6</td>\n",
       "      <td>1.63</td>\n",
       "      <td>5.2</td>\n",
       "      <td>619</td>\n",
       "      <td>0.0</td>\n",
       "    </tr>\n",
       "    <tr>\n",
       "      <th>3</th>\n",
       "      <td>27.1</td>\n",
       "      <td>39.1</td>\n",
       "      <td>6.1</td>\n",
       "      <td>6.3</td>\n",
       "      <td>13.5</td>\n",
       "      <td>5.3</td>\n",
       "      <td>1.15</td>\n",
       "      <td>11.1</td>\n",
       "      <td>551</td>\n",
       "      <td>1.0</td>\n",
       "    </tr>\n",
       "    <tr>\n",
       "      <th>4</th>\n",
       "      <td>26.5</td>\n",
       "      <td>70.7</td>\n",
       "      <td>6.9</td>\n",
       "      <td>16.0</td>\n",
       "      <td>21.9</td>\n",
       "      <td>5.6</td>\n",
       "      <td>1.01</td>\n",
       "      <td>12.7</td>\n",
       "      <td>303</td>\n",
       "      <td>1.0</td>\n",
       "    </tr>\n",
       "    <tr>\n",
       "      <th>...</th>\n",
       "      <td>...</td>\n",
       "      <td>...</td>\n",
       "      <td>...</td>\n",
       "      <td>...</td>\n",
       "      <td>...</td>\n",
       "      <td>...</td>\n",
       "      <td>...</td>\n",
       "      <td>...</td>\n",
       "      <td>...</td>\n",
       "      <td>...</td>\n",
       "    </tr>\n",
       "    <tr>\n",
       "      <th>4995</th>\n",
       "      <td>40.6</td>\n",
       "      <td>74.1</td>\n",
       "      <td>116.0</td>\n",
       "      <td>126.7</td>\n",
       "      <td>45.5</td>\n",
       "      <td>25.7</td>\n",
       "      <td>2.11</td>\n",
       "      <td>2.8</td>\n",
       "      <td>765</td>\n",
       "      <td>0.0</td>\n",
       "    </tr>\n",
       "    <tr>\n",
       "      <th>4996</th>\n",
       "      <td>28.1</td>\n",
       "      <td>96.9</td>\n",
       "      <td>6.9</td>\n",
       "      <td>25.0</td>\n",
       "      <td>25.3</td>\n",
       "      <td>10.8</td>\n",
       "      <td>1.54</td>\n",
       "      <td>5.7</td>\n",
       "      <td>709</td>\n",
       "      <td>0.0</td>\n",
       "    </tr>\n",
       "    <tr>\n",
       "      <th>4997</th>\n",
       "      <td>25.9</td>\n",
       "      <td>78.2</td>\n",
       "      <td>14.2</td>\n",
       "      <td>22.1</td>\n",
       "      <td>34.8</td>\n",
       "      <td>7.8</td>\n",
       "      <td>1.63</td>\n",
       "      <td>9.6</td>\n",
       "      <td>379</td>\n",
       "      <td>0.0</td>\n",
       "    </tr>\n",
       "    <tr>\n",
       "      <th>4998</th>\n",
       "      <td>25.3</td>\n",
       "      <td>44.4</td>\n",
       "      <td>21.4</td>\n",
       "      <td>29.0</td>\n",
       "      <td>23.7</td>\n",
       "      <td>5.7</td>\n",
       "      <td>0.89</td>\n",
       "      <td>11.6</td>\n",
       "      <td>241</td>\n",
       "      <td>1.0</td>\n",
       "    </tr>\n",
       "    <tr>\n",
       "      <th>4999</th>\n",
       "      <td>24.1</td>\n",
       "      <td>77.9</td>\n",
       "      <td>81.7</td>\n",
       "      <td>94.3</td>\n",
       "      <td>23.2</td>\n",
       "      <td>10.5</td>\n",
       "      <td>1.38</td>\n",
       "      <td>8.3</td>\n",
       "      <td>461</td>\n",
       "      <td>0.0</td>\n",
       "    </tr>\n",
       "  </tbody>\n",
       "</table>\n",
       "<p>5000 rows × 10 columns</p>\n",
       "</div>"
      ],
      "text/plain": [
       "      Temperature  Humidity  PM2.5   PM10   NO2   SO2    CO  \\\n",
       "0            29.8      59.1    5.2   17.9  18.9   9.2  1.72   \n",
       "1            28.3      75.6    2.3   12.2  30.8   9.7  1.64   \n",
       "2            23.1      74.7   26.7   33.8  24.4  12.6  1.63   \n",
       "3            27.1      39.1    6.1    6.3  13.5   5.3  1.15   \n",
       "4            26.5      70.7    6.9   16.0  21.9   5.6  1.01   \n",
       "...           ...       ...    ...    ...   ...   ...   ...   \n",
       "4995         40.6      74.1  116.0  126.7  45.5  25.7  2.11   \n",
       "4996         28.1      96.9    6.9   25.0  25.3  10.8  1.54   \n",
       "4997         25.9      78.2   14.2   22.1  34.8   7.8  1.63   \n",
       "4998         25.3      44.4   21.4   29.0  23.7   5.7  0.89   \n",
       "4999         24.1      77.9   81.7   94.3  23.2  10.5  1.38   \n",
       "\n",
       "      Proximity_to_Industrial_Areas  Population_Density  Air Quality  \n",
       "0                               6.3                 319          0.0  \n",
       "1                               6.0                 611          0.0  \n",
       "2                               5.2                 619          0.0  \n",
       "3                              11.1                 551          1.0  \n",
       "4                              12.7                 303          1.0  \n",
       "...                             ...                 ...          ...  \n",
       "4995                            2.8                 765          0.0  \n",
       "4996                            5.7                 709          0.0  \n",
       "4997                            9.6                 379          0.0  \n",
       "4998                           11.6                 241          1.0  \n",
       "4999                            8.3                 461          0.0  \n",
       "\n",
       "[5000 rows x 10 columns]"
      ]
     },
     "execution_count": 257,
     "metadata": {},
     "output_type": "execute_result"
    }
   ],
   "source": [
    "df"
   ]
  },
  {
   "cell_type": "code",
   "execution_count": 475,
   "id": "7b33de93-edf1-4b2f-b716-2e4b6ee038b0",
   "metadata": {},
   "outputs": [],
   "source": [
    "x = df.drop(columns='Air Quality')\n",
    "y = df['Air Quality']"
   ]
  },
  {
   "cell_type": "code",
   "execution_count": 297,
   "id": "8dc529aa-eead-4a16-bd8c-2b81a0e05da5",
   "metadata": {},
   "outputs": [
    {
     "data": {
      "text/html": [
       "<div>\n",
       "<style scoped>\n",
       "    .dataframe tbody tr th:only-of-type {\n",
       "        vertical-align: middle;\n",
       "    }\n",
       "\n",
       "    .dataframe tbody tr th {\n",
       "        vertical-align: top;\n",
       "    }\n",
       "\n",
       "    .dataframe thead th {\n",
       "        text-align: right;\n",
       "    }\n",
       "</style>\n",
       "<table border=\"1\" class=\"dataframe\">\n",
       "  <thead>\n",
       "    <tr style=\"text-align: right;\">\n",
       "      <th></th>\n",
       "      <th>Temperature</th>\n",
       "      <th>Humidity</th>\n",
       "      <th>PM2.5</th>\n",
       "      <th>PM10</th>\n",
       "      <th>NO2</th>\n",
       "      <th>SO2</th>\n",
       "      <th>CO</th>\n",
       "      <th>Proximity_to_Industrial_Areas</th>\n",
       "      <th>Population_Density</th>\n",
       "    </tr>\n",
       "  </thead>\n",
       "  <tbody>\n",
       "    <tr>\n",
       "      <th>0</th>\n",
       "      <td>29.8</td>\n",
       "      <td>59.1</td>\n",
       "      <td>5.2</td>\n",
       "      <td>17.9</td>\n",
       "      <td>18.9</td>\n",
       "      <td>9.2</td>\n",
       "      <td>1.72</td>\n",
       "      <td>6.3</td>\n",
       "      <td>319</td>\n",
       "    </tr>\n",
       "    <tr>\n",
       "      <th>1</th>\n",
       "      <td>28.3</td>\n",
       "      <td>75.6</td>\n",
       "      <td>2.3</td>\n",
       "      <td>12.2</td>\n",
       "      <td>30.8</td>\n",
       "      <td>9.7</td>\n",
       "      <td>1.64</td>\n",
       "      <td>6.0</td>\n",
       "      <td>611</td>\n",
       "    </tr>\n",
       "    <tr>\n",
       "      <th>2</th>\n",
       "      <td>23.1</td>\n",
       "      <td>74.7</td>\n",
       "      <td>26.7</td>\n",
       "      <td>33.8</td>\n",
       "      <td>24.4</td>\n",
       "      <td>12.6</td>\n",
       "      <td>1.63</td>\n",
       "      <td>5.2</td>\n",
       "      <td>619</td>\n",
       "    </tr>\n",
       "    <tr>\n",
       "      <th>3</th>\n",
       "      <td>27.1</td>\n",
       "      <td>39.1</td>\n",
       "      <td>6.1</td>\n",
       "      <td>6.3</td>\n",
       "      <td>13.5</td>\n",
       "      <td>5.3</td>\n",
       "      <td>1.15</td>\n",
       "      <td>11.1</td>\n",
       "      <td>551</td>\n",
       "    </tr>\n",
       "    <tr>\n",
       "      <th>4</th>\n",
       "      <td>26.5</td>\n",
       "      <td>70.7</td>\n",
       "      <td>6.9</td>\n",
       "      <td>16.0</td>\n",
       "      <td>21.9</td>\n",
       "      <td>5.6</td>\n",
       "      <td>1.01</td>\n",
       "      <td>12.7</td>\n",
       "      <td>303</td>\n",
       "    </tr>\n",
       "    <tr>\n",
       "      <th>...</th>\n",
       "      <td>...</td>\n",
       "      <td>...</td>\n",
       "      <td>...</td>\n",
       "      <td>...</td>\n",
       "      <td>...</td>\n",
       "      <td>...</td>\n",
       "      <td>...</td>\n",
       "      <td>...</td>\n",
       "      <td>...</td>\n",
       "    </tr>\n",
       "    <tr>\n",
       "      <th>4995</th>\n",
       "      <td>40.6</td>\n",
       "      <td>74.1</td>\n",
       "      <td>116.0</td>\n",
       "      <td>126.7</td>\n",
       "      <td>45.5</td>\n",
       "      <td>25.7</td>\n",
       "      <td>2.11</td>\n",
       "      <td>2.8</td>\n",
       "      <td>765</td>\n",
       "    </tr>\n",
       "    <tr>\n",
       "      <th>4996</th>\n",
       "      <td>28.1</td>\n",
       "      <td>96.9</td>\n",
       "      <td>6.9</td>\n",
       "      <td>25.0</td>\n",
       "      <td>25.3</td>\n",
       "      <td>10.8</td>\n",
       "      <td>1.54</td>\n",
       "      <td>5.7</td>\n",
       "      <td>709</td>\n",
       "    </tr>\n",
       "    <tr>\n",
       "      <th>4997</th>\n",
       "      <td>25.9</td>\n",
       "      <td>78.2</td>\n",
       "      <td>14.2</td>\n",
       "      <td>22.1</td>\n",
       "      <td>34.8</td>\n",
       "      <td>7.8</td>\n",
       "      <td>1.63</td>\n",
       "      <td>9.6</td>\n",
       "      <td>379</td>\n",
       "    </tr>\n",
       "    <tr>\n",
       "      <th>4998</th>\n",
       "      <td>25.3</td>\n",
       "      <td>44.4</td>\n",
       "      <td>21.4</td>\n",
       "      <td>29.0</td>\n",
       "      <td>23.7</td>\n",
       "      <td>5.7</td>\n",
       "      <td>0.89</td>\n",
       "      <td>11.6</td>\n",
       "      <td>241</td>\n",
       "    </tr>\n",
       "    <tr>\n",
       "      <th>4999</th>\n",
       "      <td>24.1</td>\n",
       "      <td>77.9</td>\n",
       "      <td>81.7</td>\n",
       "      <td>94.3</td>\n",
       "      <td>23.2</td>\n",
       "      <td>10.5</td>\n",
       "      <td>1.38</td>\n",
       "      <td>8.3</td>\n",
       "      <td>461</td>\n",
       "    </tr>\n",
       "  </tbody>\n",
       "</table>\n",
       "<p>5000 rows × 9 columns</p>\n",
       "</div>"
      ],
      "text/plain": [
       "      Temperature  Humidity  PM2.5   PM10   NO2   SO2    CO  \\\n",
       "0            29.8      59.1    5.2   17.9  18.9   9.2  1.72   \n",
       "1            28.3      75.6    2.3   12.2  30.8   9.7  1.64   \n",
       "2            23.1      74.7   26.7   33.8  24.4  12.6  1.63   \n",
       "3            27.1      39.1    6.1    6.3  13.5   5.3  1.15   \n",
       "4            26.5      70.7    6.9   16.0  21.9   5.6  1.01   \n",
       "...           ...       ...    ...    ...   ...   ...   ...   \n",
       "4995         40.6      74.1  116.0  126.7  45.5  25.7  2.11   \n",
       "4996         28.1      96.9    6.9   25.0  25.3  10.8  1.54   \n",
       "4997         25.9      78.2   14.2   22.1  34.8   7.8  1.63   \n",
       "4998         25.3      44.4   21.4   29.0  23.7   5.7  0.89   \n",
       "4999         24.1      77.9   81.7   94.3  23.2  10.5  1.38   \n",
       "\n",
       "      Proximity_to_Industrial_Areas  Population_Density  \n",
       "0                               6.3                 319  \n",
       "1                               6.0                 611  \n",
       "2                               5.2                 619  \n",
       "3                              11.1                 551  \n",
       "4                              12.7                 303  \n",
       "...                             ...                 ...  \n",
       "4995                            2.8                 765  \n",
       "4996                            5.7                 709  \n",
       "4997                            9.6                 379  \n",
       "4998                           11.6                 241  \n",
       "4999                            8.3                 461  \n",
       "\n",
       "[5000 rows x 9 columns]"
      ]
     },
     "execution_count": 297,
     "metadata": {},
     "output_type": "execute_result"
    }
   ],
   "source": [
    "x"
   ]
  },
  {
   "cell_type": "code",
   "execution_count": 263,
   "id": "9d865594-a32b-4a02-9498-8ec2f42a1c4d",
   "metadata": {
    "scrolled": true
   },
   "outputs": [
    {
     "data": {
      "text/plain": [
       "0       0.0\n",
       "1       0.0\n",
       "2       0.0\n",
       "3       1.0\n",
       "4       1.0\n",
       "       ... \n",
       "4995    0.0\n",
       "4996    0.0\n",
       "4997    0.0\n",
       "4998    1.0\n",
       "4999    0.0\n",
       "Name: Air Quality, Length: 5000, dtype: float64"
      ]
     },
     "execution_count": 263,
     "metadata": {},
     "output_type": "execute_result"
    }
   ],
   "source": [
    "y"
   ]
  },
  {
   "cell_type": "code",
   "execution_count": 477,
   "id": "50622708-c2e4-45b5-84db-f3fff661a967",
   "metadata": {},
   "outputs": [],
   "source": [
    "x_train, x_test, y_train, y_test = train_test_split(x, y, test_size=0.2, random_state=42)"
   ]
  },
  {
   "cell_type": "code",
   "execution_count": 479,
   "id": "0720b1f1-a040-48be-bce9-0901dff892e1",
   "metadata": {},
   "outputs": [],
   "source": [
    "scaler = StandardScaler()\n",
    "\n",
    "x_train = scaler.fit_transform(x_train)\n",
    "x_test = scaler.transform(x_test)"
   ]
  },
  {
   "cell_type": "code",
   "execution_count": 481,
   "id": "b3991189-a1df-4b7f-98d3-2cba917a91d4",
   "metadata": {},
   "outputs": [],
   "source": [
    "y_train = to_categorical(y_train)\n",
    "y_test = to_categorical(y_test)"
   ]
  },
  {
   "cell_type": "code",
   "execution_count": 441,
   "id": "0eaaa177-29d5-4160-95a8-c6ce5e339c17",
   "metadata": {},
   "outputs": [
    {
     "data": {
      "text/plain": [
       "array([[0., 1., 0., 0.],\n",
       "       [1., 0., 0., 0.],\n",
       "       [0., 0., 0., 1.],\n",
       "       ...,\n",
       "       [0., 0., 0., 1.],\n",
       "       [1., 0., 0., 0.],\n",
       "       [0., 1., 0., 0.]])"
      ]
     },
     "execution_count": 441,
     "metadata": {},
     "output_type": "execute_result"
    }
   ],
   "source": [
    "y_train"
   ]
  },
  {
   "cell_type": "code",
   "execution_count": 443,
   "id": "badc95a7-c933-4fb1-ab06-f51ec0138281",
   "metadata": {},
   "outputs": [
    {
     "data": {
      "text/plain": [
       "(4000, 9)"
      ]
     },
     "execution_count": 443,
     "metadata": {},
     "output_type": "execute_result"
    }
   ],
   "source": [
    "x_train.shape # 9 features"
   ]
  },
  {
   "cell_type": "code",
   "execution_count": 321,
   "id": "f88ef039-e603-4c28-b61b-9017ab336d03",
   "metadata": {},
   "outputs": [
    {
     "data": {
      "text/plain": [
       "(4000, 4)"
      ]
     },
     "execution_count": 321,
     "metadata": {},
     "output_type": "execute_result"
    }
   ],
   "source": [
    "y_train.shape"
   ]
  },
  {
   "cell_type": "code",
   "execution_count": 483,
   "id": "5e8225fc-8253-422e-8a1e-363621c9dc18",
   "metadata": {},
   "outputs": [],
   "source": [
    "# Model 1. Simple Neural Network \n",
    "\n",
    "#1 nacin\n",
    "# model = Sequential()\n",
    "\n",
    "# model.add(Dense(64, input_shape=(x_train_scaled_shaped.shape[1], x_train_scaled_shaped.shape[2]), activation='relu'))\n",
    "# model.add(Dense(32, activation='relu'))\n",
    "# model.add(Dense(4, activation='softmax')) #multi-class classification problem - 4 vrednosti vrakame \n",
    "\n",
    "# model.compile(optimizer='adam', loss='categorical_crossentropy', metrics=['accuracy'])\n",
    "\n",
    "\n",
    "#2 nacin \n",
    "model = Sequential([\n",
    "    Input(shape=(x_train_scaled.shape[1],)),\n",
    "    Dense(64, activation='relu'),\n",
    "    Dense(32, activation='relu'),\n",
    "    Dense(y_train.shape[1], activation='softmax') #multi-class classification problem - 4 vrednosti vrakame \n",
    "])\n",
    "\n",
    "model.compile(optimizer='adam', loss='categorical_crossentropy', metrics=['accuracy'])"
   ]
  },
  {
   "cell_type": "code",
   "execution_count": 485,
   "id": "a039887d-7efe-4f0f-8705-58def5e16034",
   "metadata": {},
   "outputs": [
    {
     "name": "stdout",
     "output_type": "stream",
     "text": [
      "Epoch 1/20\n",
      "\u001b[1m125/125\u001b[0m \u001b[32m━━━━━━━━━━━━━━━━━━━━\u001b[0m\u001b[37m\u001b[0m \u001b[1m0s\u001b[0m 924us/step - accuracy: 0.5795 - loss: 0.9958 - val_accuracy: 0.8300 - val_loss: 0.4400\n",
      "Epoch 2/20\n",
      "\u001b[1m125/125\u001b[0m \u001b[32m━━━━━━━━━━━━━━━━━━━━\u001b[0m\u001b[37m\u001b[0m \u001b[1m0s\u001b[0m 519us/step - accuracy: 0.8632 - loss: 0.3846 - val_accuracy: 0.9110 - val_loss: 0.2656\n",
      "Epoch 3/20\n",
      "\u001b[1m125/125\u001b[0m \u001b[32m━━━━━━━━━━━━━━━━━━━━\u001b[0m\u001b[37m\u001b[0m \u001b[1m0s\u001b[0m 521us/step - accuracy: 0.9092 - loss: 0.2466 - val_accuracy: 0.9180 - val_loss: 0.2185\n",
      "Epoch 4/20\n",
      "\u001b[1m125/125\u001b[0m \u001b[32m━━━━━━━━━━━━━━━━━━━━\u001b[0m\u001b[37m\u001b[0m \u001b[1m0s\u001b[0m 570us/step - accuracy: 0.9165 - loss: 0.2149 - val_accuracy: 0.9200 - val_loss: 0.1968\n",
      "Epoch 5/20\n",
      "\u001b[1m125/125\u001b[0m \u001b[32m━━━━━━━━━━━━━━━━━━━━\u001b[0m\u001b[37m\u001b[0m \u001b[1m0s\u001b[0m 531us/step - accuracy: 0.9196 - loss: 0.1978 - val_accuracy: 0.9310 - val_loss: 0.1828\n",
      "Epoch 6/20\n",
      "\u001b[1m125/125\u001b[0m \u001b[32m━━━━━━━━━━━━━━━━━━━━\u001b[0m\u001b[37m\u001b[0m \u001b[1m0s\u001b[0m 520us/step - accuracy: 0.9312 - loss: 0.1741 - val_accuracy: 0.9370 - val_loss: 0.1763\n",
      "Epoch 7/20\n",
      "\u001b[1m125/125\u001b[0m \u001b[32m━━━━━━━━━━━━━━━━━━━━\u001b[0m\u001b[37m\u001b[0m \u001b[1m0s\u001b[0m 530us/step - accuracy: 0.9238 - loss: 0.1845 - val_accuracy: 0.9390 - val_loss: 0.1683\n",
      "Epoch 8/20\n",
      "\u001b[1m125/125\u001b[0m \u001b[32m━━━━━━━━━━━━━━━━━━━━\u001b[0m\u001b[37m\u001b[0m \u001b[1m0s\u001b[0m 527us/step - accuracy: 0.9321 - loss: 0.1707 - val_accuracy: 0.9420 - val_loss: 0.1622\n",
      "Epoch 9/20\n",
      "\u001b[1m125/125\u001b[0m \u001b[32m━━━━━━━━━━━━━━━━━━━━\u001b[0m\u001b[37m\u001b[0m \u001b[1m0s\u001b[0m 521us/step - accuracy: 0.9427 - loss: 0.1433 - val_accuracy: 0.9360 - val_loss: 0.1737\n",
      "Epoch 10/20\n",
      "\u001b[1m125/125\u001b[0m \u001b[32m━━━━━━━━━━━━━━━━━━━━\u001b[0m\u001b[37m\u001b[0m \u001b[1m0s\u001b[0m 531us/step - accuracy: 0.9370 - loss: 0.1580 - val_accuracy: 0.9480 - val_loss: 0.1507\n",
      "Epoch 11/20\n",
      "\u001b[1m125/125\u001b[0m \u001b[32m━━━━━━━━━━━━━━━━━━━━\u001b[0m\u001b[37m\u001b[0m \u001b[1m0s\u001b[0m 517us/step - accuracy: 0.9443 - loss: 0.1442 - val_accuracy: 0.9410 - val_loss: 0.1519\n",
      "Epoch 12/20\n",
      "\u001b[1m125/125\u001b[0m \u001b[32m━━━━━━━━━━━━━━━━━━━━\u001b[0m\u001b[37m\u001b[0m \u001b[1m0s\u001b[0m 518us/step - accuracy: 0.9414 - loss: 0.1454 - val_accuracy: 0.9460 - val_loss: 0.1487\n",
      "Epoch 13/20\n",
      "\u001b[1m125/125\u001b[0m \u001b[32m━━━━━━━━━━━━━━━━━━━━\u001b[0m\u001b[37m\u001b[0m \u001b[1m0s\u001b[0m 519us/step - accuracy: 0.9460 - loss: 0.1370 - val_accuracy: 0.9450 - val_loss: 0.1435\n",
      "Epoch 14/20\n",
      "\u001b[1m125/125\u001b[0m \u001b[32m━━━━━━━━━━━━━━━━━━━━\u001b[0m\u001b[37m\u001b[0m \u001b[1m0s\u001b[0m 556us/step - accuracy: 0.9482 - loss: 0.1399 - val_accuracy: 0.9440 - val_loss: 0.1431\n",
      "Epoch 15/20\n",
      "\u001b[1m125/125\u001b[0m \u001b[32m━━━━━━━━━━━━━━━━━━━━\u001b[0m\u001b[37m\u001b[0m \u001b[1m0s\u001b[0m 527us/step - accuracy: 0.9537 - loss: 0.1322 - val_accuracy: 0.9510 - val_loss: 0.1380\n",
      "Epoch 16/20\n",
      "\u001b[1m125/125\u001b[0m \u001b[32m━━━━━━━━━━━━━━━━━━━━\u001b[0m\u001b[37m\u001b[0m \u001b[1m0s\u001b[0m 523us/step - accuracy: 0.9529 - loss: 0.1290 - val_accuracy: 0.9470 - val_loss: 0.1389\n",
      "Epoch 17/20\n",
      "\u001b[1m125/125\u001b[0m \u001b[32m━━━━━━━━━━━━━━━━━━━━\u001b[0m\u001b[37m\u001b[0m \u001b[1m0s\u001b[0m 520us/step - accuracy: 0.9483 - loss: 0.1324 - val_accuracy: 0.9520 - val_loss: 0.1342\n",
      "Epoch 18/20\n",
      "\u001b[1m125/125\u001b[0m \u001b[32m━━━━━━━━━━━━━━━━━━━━\u001b[0m\u001b[37m\u001b[0m \u001b[1m0s\u001b[0m 521us/step - accuracy: 0.9506 - loss: 0.1227 - val_accuracy: 0.9440 - val_loss: 0.1542\n",
      "Epoch 19/20\n",
      "\u001b[1m125/125\u001b[0m \u001b[32m━━━━━━━━━━━━━━━━━━━━\u001b[0m\u001b[37m\u001b[0m \u001b[1m0s\u001b[0m 525us/step - accuracy: 0.9455 - loss: 0.1299 - val_accuracy: 0.9480 - val_loss: 0.1405\n",
      "Epoch 20/20\n",
      "\u001b[1m125/125\u001b[0m \u001b[32m━━━━━━━━━━━━━━━━━━━━\u001b[0m\u001b[37m\u001b[0m \u001b[1m0s\u001b[0m 510us/step - accuracy: 0.9580 - loss: 0.1176 - val_accuracy: 0.9500 - val_loss: 0.1303\n"
     ]
    }
   ],
   "source": [
    "history = model.fit(x_train, y_train, batch_size=32, epochs=20, verbose=1, validation_data=(x_test, y_test))"
   ]
  },
  {
   "cell_type": "code",
   "execution_count": 487,
   "id": "4e3c211a-7868-417a-afb8-5babbb90f697",
   "metadata": {},
   "outputs": [
    {
     "data": {
      "text/plain": [
       "<Axes: >"
      ]
     },
     "execution_count": 487,
     "metadata": {},
     "output_type": "execute_result"
    },
    {
     "data": {
      "image/png": "[encoded data removed]",
      "text/plain": [
       "<Figure size 640x480 with 1 Axes>"
      ]
     },
     "metadata": {},
     "output_type": "display_data"
    }
   ],
   "source": [
    "sns.lineplot(history.history['loss'], label='loss')\n",
    "sns.lineplot(history.history['val_loss'], label='val_loss')"
   ]
  },
  {
   "cell_type": "code",
   "execution_count": 489,
   "id": "56d3613e-5fdd-4adc-8259-4f6856876b6b",
   "metadata": {},
   "outputs": [
    {
     "name": "stdout",
     "output_type": "stream",
     "text": [
      "\u001b[1m32/32\u001b[0m \u001b[32m━━━━━━━━━━━━━━━━━━━━\u001b[0m\u001b[37m\u001b[0m \u001b[1m0s\u001b[0m 851us/step\n"
     ]
    }
   ],
   "source": [
    "y_pred = model.predict(x_test)"
   ]
  },
  {
   "cell_type": "code",
   "execution_count": 491,
   "id": "b21bfadd-6fbe-4f73-9f93-7d92a81c2013",
   "metadata": {},
   "outputs": [
    {
     "name": "stdout",
     "output_type": "stream",
     "text": [
      "Model 1: Simple Neural Network - Accuracy: 95.00%\n"
     ]
    }
   ],
   "source": [
    "loss1, acc1 = model.evaluate(x_test, y_test, verbose=0)\n",
    "print(\"Model 1: Simple Neural Network - Accuracy: {:.2f}%\".format(acc1 * 100))"
   ]
  },
  {
   "cell_type": "code",
   "execution_count": 501,
   "id": "45593369-4014-4311-acf8-35eeb2b463e5",
   "metadata": {},
   "outputs": [],
   "source": [
    "# Model 2. Deep Neural Network\n",
    "\n",
    "#1 nacin \n",
    "\n",
    "# model2 = Sequential()\n",
    "\n",
    "# model2.add(Dense(128, input_shape=(x_train_scaled_shaped.shape[1], x_train_scaled_shaped.shape[2]), activation='tanh'))\n",
    "# model2.add(Dense(64, activation='tanh'))\n",
    "# model2.add(Dense(32, activation='tanh'))\n",
    "# model2.add(Dense(4, activation='softmax')) #multi-class classification problem - 4 vrednosti vrakame \n",
    "\n",
    "# model2.compile(optimizer='sgd', loss='categorical_crossentropy', metrics=['accuracy'])\n",
    "\n",
    "#2 nacin \n",
    "model2 = Sequential([\n",
    "    Input(shape=(x_train_scaled.shape[1],)),\n",
    "    Dense(128, activation='tanh'),\n",
    "    Dense(64, activation='tanh'),\n",
    "    Dense(32, activation='tanh'),\n",
    "    Dense(y_train.shape[1], activation='softmax')\n",
    "])\n",
    "\n",
    "model2.compile(optimizer='adam', loss='categorical_crossentropy', metrics=['accuracy'])"
   ]
  },
  {
   "cell_type": "code",
   "execution_count": 503,
   "id": "84efbd2e-1c35-4af4-9455-db27c1c4d8fa",
   "metadata": {},
   "outputs": [
    {
     "name": "stdout",
     "output_type": "stream",
     "text": [
      "Epoch 1/20\n",
      "\u001b[1m125/125\u001b[0m \u001b[32m━━━━━━━━━━━━━━━━━━━━\u001b[0m\u001b[37m\u001b[0m \u001b[1m0s\u001b[0m 982us/step - accuracy: 0.7290 - loss: 0.6602 - val_accuracy: 0.9130 - val_loss: 0.2782\n",
      "Epoch 2/20\n",
      "\u001b[1m125/125\u001b[0m \u001b[32m━━━━━━━━━━━━━━━━━━━━\u001b[0m\u001b[37m\u001b[0m \u001b[1m0s\u001b[0m 569us/step - accuracy: 0.9189 - loss: 0.2498 - val_accuracy: 0.9320 - val_loss: 0.1941\n",
      "Epoch 3/20\n",
      "\u001b[1m125/125\u001b[0m \u001b[32m━━━━━━━━━━━━━━━━━━━━\u001b[0m\u001b[37m\u001b[0m \u001b[1m0s\u001b[0m 580us/step - accuracy: 0.9318 - loss: 0.1958 - val_accuracy: 0.9400 - val_loss: 0.1716\n",
      "Epoch 4/20\n",
      "\u001b[1m125/125\u001b[0m \u001b[32m━━━━━━━━━━━━━━━━━━━━\u001b[0m\u001b[37m\u001b[0m \u001b[1m0s\u001b[0m 572us/step - accuracy: 0.9321 - loss: 0.1718 - val_accuracy: 0.9420 - val_loss: 0.1590\n",
      "Epoch 5/20\n",
      "\u001b[1m125/125\u001b[0m \u001b[32m━━━━━━━━━━━━━━━━━━━━\u001b[0m\u001b[37m\u001b[0m \u001b[1m0s\u001b[0m 590us/step - accuracy: 0.9343 - loss: 0.1680 - val_accuracy: 0.9370 - val_loss: 0.1607\n",
      "Epoch 6/20\n",
      "\u001b[1m125/125\u001b[0m \u001b[32m━━━━━━━━━━━━━━━━━━━━\u001b[0m\u001b[37m\u001b[0m \u001b[1m0s\u001b[0m 589us/step - accuracy: 0.9337 - loss: 0.1704 - val_accuracy: 0.9340 - val_loss: 0.1798\n",
      "Epoch 7/20\n",
      "\u001b[1m125/125\u001b[0m \u001b[32m━━━━━━━━━━━━━━━━━━━━\u001b[0m\u001b[37m\u001b[0m \u001b[1m0s\u001b[0m 660us/step - accuracy: 0.9394 - loss: 0.1537 - val_accuracy: 0.9370 - val_loss: 0.1617\n",
      "Epoch 8/20\n",
      "\u001b[1m125/125\u001b[0m \u001b[32m━━━━━━━━━━━━━━━━━━━━\u001b[0m\u001b[37m\u001b[0m \u001b[1m0s\u001b[0m 592us/step - accuracy: 0.9420 - loss: 0.1540 - val_accuracy: 0.9360 - val_loss: 0.1703\n",
      "Epoch 9/20\n",
      "\u001b[1m125/125\u001b[0m \u001b[32m━━━━━━━━━━━━━━━━━━━━\u001b[0m\u001b[37m\u001b[0m \u001b[1m0s\u001b[0m 582us/step - accuracy: 0.9459 - loss: 0.1421 - val_accuracy: 0.9500 - val_loss: 0.1398\n",
      "Epoch 10/20\n",
      "\u001b[1m125/125\u001b[0m \u001b[32m━━━━━━━━━━━━━━━━━━━━\u001b[0m\u001b[37m\u001b[0m \u001b[1m0s\u001b[0m 577us/step - accuracy: 0.9414 - loss: 0.1478 - val_accuracy: 0.9470 - val_loss: 0.1427\n",
      "Epoch 11/20\n",
      "\u001b[1m125/125\u001b[0m \u001b[32m━━━━━━━━━━━━━━━━━━━━\u001b[0m\u001b[37m\u001b[0m \u001b[1m0s\u001b[0m 582us/step - accuracy: 0.9511 - loss: 0.1326 - val_accuracy: 0.9500 - val_loss: 0.1384\n",
      "Epoch 12/20\n",
      "\u001b[1m125/125\u001b[0m \u001b[32m━━━━━━━━━━━━━━━━━━━━\u001b[0m\u001b[37m\u001b[0m \u001b[1m0s\u001b[0m 577us/step - accuracy: 0.9513 - loss: 0.1275 - val_accuracy: 0.9530 - val_loss: 0.1436\n",
      "Epoch 13/20\n",
      "\u001b[1m125/125\u001b[0m \u001b[32m━━━━━━━━━━━━━━━━━━━━\u001b[0m\u001b[37m\u001b[0m \u001b[1m0s\u001b[0m 585us/step - accuracy: 0.9487 - loss: 0.1308 - val_accuracy: 0.9540 - val_loss: 0.1371\n",
      "Epoch 14/20\n",
      "\u001b[1m125/125\u001b[0m \u001b[32m━━━━━━━━━━━━━━━━━━━━\u001b[0m\u001b[37m\u001b[0m \u001b[1m0s\u001b[0m 581us/step - accuracy: 0.9497 - loss: 0.1347 - val_accuracy: 0.9450 - val_loss: 0.1473\n",
      "Epoch 15/20\n",
      "\u001b[1m125/125\u001b[0m \u001b[32m━━━━━━━━━━━━━━━━━━━━\u001b[0m\u001b[37m\u001b[0m \u001b[1m0s\u001b[0m 583us/step - accuracy: 0.9499 - loss: 0.1275 - val_accuracy: 0.9470 - val_loss: 0.1353\n",
      "Epoch 16/20\n",
      "\u001b[1m125/125\u001b[0m \u001b[32m━━━━━━━━━━━━━━━━━━━━\u001b[0m\u001b[37m\u001b[0m \u001b[1m0s\u001b[0m 597us/step - accuracy: 0.9561 - loss: 0.1153 - val_accuracy: 0.9540 - val_loss: 0.1344\n",
      "Epoch 17/20\n",
      "\u001b[1m125/125\u001b[0m \u001b[32m━━━━━━━━━━━━━━━━━━━━\u001b[0m\u001b[37m\u001b[0m \u001b[1m0s\u001b[0m 637us/step - accuracy: 0.9476 - loss: 0.1239 - val_accuracy: 0.9490 - val_loss: 0.1444\n",
      "Epoch 18/20\n",
      "\u001b[1m125/125\u001b[0m \u001b[32m━━━━━━━━━━━━━━━━━━━━\u001b[0m\u001b[37m\u001b[0m \u001b[1m0s\u001b[0m 579us/step - accuracy: 0.9536 - loss: 0.1269 - val_accuracy: 0.9520 - val_loss: 0.1321\n",
      "Epoch 19/20\n",
      "\u001b[1m125/125\u001b[0m \u001b[32m━━━━━━━━━━━━━━━━━━━━\u001b[0m\u001b[37m\u001b[0m \u001b[1m0s\u001b[0m 578us/step - accuracy: 0.9522 - loss: 0.1200 - val_accuracy: 0.9530 - val_loss: 0.1290\n",
      "Epoch 20/20\n",
      "\u001b[1m125/125\u001b[0m \u001b[32m━━━━━━━━━━━━━━━━━━━━\u001b[0m\u001b[37m\u001b[0m \u001b[1m0s\u001b[0m 582us/step - accuracy: 0.9601 - loss: 0.1088 - val_accuracy: 0.9540 - val_loss: 0.1225\n"
     ]
    }
   ],
   "source": [
    "history2 = model2.fit(x_train, y_train, batch_size=32, epochs=20, verbose=1, validation_data=(x_test, y_test))"
   ]
  },
  {
   "cell_type": "code",
   "execution_count": 505,
   "id": "cd4e0018-68cd-412f-918c-c614b906a510",
   "metadata": {},
   "outputs": [
    {
     "data": {
      "text/plain": [
       "<Axes: >"
      ]
     },
     "execution_count": 505,
     "metadata": {},
     "output_type": "execute_result"
    },
    {
     "data": {
      "image/png": "[encoded data removed]",
      "text/plain": [
       "<Figure size 640x480 with 1 Axes>"
      ]
     },
     "metadata": {},
     "output_type": "display_data"
    }
   ],
   "source": [
    "sns.lineplot(history2.history['loss'], label='loss')\n",
    "sns.lineplot(history2.history['val_loss'], label='val_loss')"
   ]
  },
  {
   "cell_type": "code",
   "execution_count": 507,
   "id": "5c4cbaed-aeae-429d-8105-8cb35c41c002",
   "metadata": {},
   "outputs": [
    {
     "name": "stdout",
     "output_type": "stream",
     "text": [
      "\u001b[1m32/32\u001b[0m \u001b[32m━━━━━━━━━━━━━━━━━━━━\u001b[0m\u001b[37m\u001b[0m \u001b[1m0s\u001b[0m 895us/step\n"
     ]
    }
   ],
   "source": [
    "y_pred2 = model2.predict(x_test)"
   ]
  },
  {
   "cell_type": "code",
   "execution_count": 509,
   "id": "b0c8e244-060b-48b6-a9c0-19cfaaac327c",
   "metadata": {},
   "outputs": [
    {
     "name": "stdout",
     "output_type": "stream",
     "text": [
      "Model 2: Deep Neural Network - Accuracy: 95.40%\n"
     ]
    }
   ],
   "source": [
    "loss1, acc1 = model2.evaluate(x_test, y_test, verbose=0)\n",
    "print(\"Model 2: Deep Neural Network - Accuracy: {:.2f}%\".format(acc1 * 100))"
   ]
  },
  {
   "cell_type": "code",
   "execution_count": 511,
   "id": "2a2ddbc2-d508-485d-be8f-8c9ee6bc1aa4",
   "metadata": {},
   "outputs": [],
   "source": [
    "# Model 3.\n",
    "\n",
    "#1 nacin\n",
    "# model3 = Sequential()\n",
    "\n",
    "# model3.add(Dense(64, input_shape=(x_train_scaled_shaped.shape[1], x_train_scaled_shaped.shape[2]), activation='tanh'))\n",
    "# model3.add(Dropout(0.2))\n",
    "# model3.add(Dense(32, activation='tanh'))\n",
    "# model3.add(Dense(16, activation='relu'))\n",
    "# model3.add(Dense(4, activation='softmax')) #multi-class classification problem - 4 vrednosti vrakame \n",
    "\n",
    "# model3.compile(optimizer='sgd', loss='categorical_crossentropy', metrics=['accuracy'])\n",
    "\n",
    "\n",
    "#2 nacin\n",
    "model3 = Sequential([\n",
    "    Input(shape=(x_train_scaled.shape[1],)),\n",
    "    Dense(64, activation='tanh'),\n",
    "    Dropout(0.2),\n",
    "    Dense(32, activation='tanh'),\n",
    "    Dense(16, activation='relu'),\n",
    "    Dense(y_train.shape[1], activation='softmax')\n",
    "])\n",
    "\n",
    "model3.compile(optimizer='sgd', loss='categorical_crossentropy', metrics=['accuracy'])"
   ]
  },
  {
   "cell_type": "code",
   "execution_count": 513,
   "id": "731f8b4e-c433-414b-a4de-53f6c070f5bf",
   "metadata": {},
   "outputs": [
    {
     "name": "stdout",
     "output_type": "stream",
     "text": [
      "Epoch 1/20\n",
      "\u001b[1m100/100\u001b[0m \u001b[32m━━━━━━━━━━━━━━━━━━━━\u001b[0m\u001b[37m\u001b[0m \u001b[1m0s\u001b[0m 1ms/step - accuracy: 0.5107 - loss: 1.1982 - val_accuracy: 0.7750 - val_loss: 0.7575\n",
      "Epoch 2/20\n",
      "\u001b[1m100/100\u001b[0m \u001b[32m━━━━━━━━━━━━━━━━━━━━\u001b[0m\u001b[37m\u001b[0m \u001b[1m0s\u001b[0m 557us/step - accuracy: 0.7663 - loss: 0.7242 - val_accuracy: 0.8112 - val_loss: 0.5648\n",
      "Epoch 3/20\n",
      "\u001b[1m100/100\u001b[0m \u001b[32m━━━━━━━━━━━━━━━━━━━━\u001b[0m\u001b[37m\u001b[0m \u001b[1m0s\u001b[0m 552us/step - accuracy: 0.8091 - loss: 0.5537 - val_accuracy: 0.8363 - val_loss: 0.4613\n",
      "Epoch 4/20\n",
      "\u001b[1m100/100\u001b[0m \u001b[32m━━━━━━━━━━━━━━━━━━━━\u001b[0m\u001b[37m\u001b[0m \u001b[1m0s\u001b[0m 561us/step - accuracy: 0.8320 - loss: 0.4618 - val_accuracy: 0.8525 - val_loss: 0.3978\n",
      "Epoch 5/20\n",
      "\u001b[1m100/100\u001b[0m \u001b[32m━━━━━━━━━━━━━━━━━━━━\u001b[0m\u001b[37m\u001b[0m \u001b[1m0s\u001b[0m 550us/step - accuracy: 0.8528 - loss: 0.4003 - val_accuracy: 0.8562 - val_loss: 0.3549\n",
      "Epoch 6/20\n",
      "\u001b[1m100/100\u001b[0m \u001b[32m━━━━━━━━━━━━━━━━━━━━\u001b[0m\u001b[37m\u001b[0m \u001b[1m0s\u001b[0m 530us/step - accuracy: 0.8484 - loss: 0.3744 - val_accuracy: 0.8775 - val_loss: 0.3246\n",
      "Epoch 7/20\n",
      "\u001b[1m100/100\u001b[0m \u001b[32m━━━━━━━━━━━━━━━━━━━━\u001b[0m\u001b[37m\u001b[0m \u001b[1m0s\u001b[0m 534us/step - accuracy: 0.8641 - loss: 0.3466 - val_accuracy: 0.8900 - val_loss: 0.3003\n",
      "Epoch 8/20\n",
      "\u001b[1m100/100\u001b[0m \u001b[32m━━━━━━━━━━━━━━━━━━━━\u001b[0m\u001b[37m\u001b[0m \u001b[1m0s\u001b[0m 575us/step - accuracy: 0.8765 - loss: 0.3234 - val_accuracy: 0.8988 - val_loss: 0.2808\n",
      "Epoch 9/20\n",
      "\u001b[1m100/100\u001b[0m \u001b[32m━━━━━━━━━━━━━━━━━━━━\u001b[0m\u001b[37m\u001b[0m \u001b[1m0s\u001b[0m 584us/step - accuracy: 0.8931 - loss: 0.2896 - val_accuracy: 0.9200 - val_loss: 0.2655\n",
      "Epoch 10/20\n",
      "\u001b[1m100/100\u001b[0m \u001b[32m━━━━━━━━━━━━━━━━━━━━\u001b[0m\u001b[37m\u001b[0m \u001b[1m0s\u001b[0m 572us/step - accuracy: 0.9021 - loss: 0.2691 - val_accuracy: 0.9237 - val_loss: 0.2511\n",
      "Epoch 11/20\n",
      "\u001b[1m100/100\u001b[0m \u001b[32m━━━━━━━━━━━━━━━━━━━━\u001b[0m\u001b[37m\u001b[0m \u001b[1m0s\u001b[0m 535us/step - accuracy: 0.8918 - loss: 0.2722 - val_accuracy: 0.9187 - val_loss: 0.2392\n",
      "Epoch 12/20\n",
      "\u001b[1m100/100\u001b[0m \u001b[32m━━━━━━━━━━━━━━━━━━━━\u001b[0m\u001b[37m\u001b[0m \u001b[1m0s\u001b[0m 529us/step - accuracy: 0.8955 - loss: 0.2855 - val_accuracy: 0.9275 - val_loss: 0.2291\n",
      "Epoch 13/20\n",
      "\u001b[1m100/100\u001b[0m \u001b[32m━━━━━━━━━━━━━━━━━━━━\u001b[0m\u001b[37m\u001b[0m \u001b[1m0s\u001b[0m 559us/step - accuracy: 0.9029 - loss: 0.2539 - val_accuracy: 0.9337 - val_loss: 0.2200\n",
      "Epoch 14/20\n",
      "\u001b[1m100/100\u001b[0m \u001b[32m━━━━━━━━━━━━━━━━━━━━\u001b[0m\u001b[37m\u001b[0m \u001b[1m0s\u001b[0m 551us/step - accuracy: 0.9088 - loss: 0.2438 - val_accuracy: 0.9362 - val_loss: 0.2133\n",
      "Epoch 15/20\n",
      "\u001b[1m100/100\u001b[0m \u001b[32m━━━━━━━━━━━━━━━━━━━━\u001b[0m\u001b[37m\u001b[0m \u001b[1m0s\u001b[0m 537us/step - accuracy: 0.9116 - loss: 0.2326 - val_accuracy: 0.9300 - val_loss: 0.2103\n",
      "Epoch 16/20\n",
      "\u001b[1m100/100\u001b[0m \u001b[32m━━━━━━━━━━━━━━━━━━━━\u001b[0m\u001b[37m\u001b[0m \u001b[1m0s\u001b[0m 537us/step - accuracy: 0.9141 - loss: 0.2236 - val_accuracy: 0.9337 - val_loss: 0.2014\n",
      "Epoch 17/20\n",
      "\u001b[1m100/100\u001b[0m \u001b[32m━━━━━━━━━━━━━━━━━━━━\u001b[0m\u001b[37m\u001b[0m \u001b[1m0s\u001b[0m 541us/step - accuracy: 0.9234 - loss: 0.2126 - val_accuracy: 0.9350 - val_loss: 0.1956\n",
      "Epoch 18/20\n",
      "\u001b[1m100/100\u001b[0m \u001b[32m━━━━━━━━━━━━━━━━━━━━\u001b[0m\u001b[37m\u001b[0m \u001b[1m0s\u001b[0m 541us/step - accuracy: 0.9234 - loss: 0.2091 - val_accuracy: 0.9287 - val_loss: 0.1943\n",
      "Epoch 19/20\n",
      "\u001b[1m100/100\u001b[0m \u001b[32m━━━━━━━━━━━━━━━━━━━━\u001b[0m\u001b[37m\u001b[0m \u001b[1m0s\u001b[0m 558us/step - accuracy: 0.9261 - loss: 0.2057 - val_accuracy: 0.9362 - val_loss: 0.1878\n",
      "Epoch 20/20\n",
      "\u001b[1m100/100\u001b[0m \u001b[32m━━━━━━━━━━━━━━━━━━━━\u001b[0m\u001b[37m\u001b[0m \u001b[1m0s\u001b[0m 534us/step - accuracy: 0.9270 - loss: 0.2081 - val_accuracy: 0.9337 - val_loss: 0.1841\n"
     ]
    }
   ],
   "source": [
    "history3 = model3.fit(x_train_scaled, y_train, batch_size=32, epochs=20, verbose=1, validation_split=0.2)"
   ]
  },
  {
   "cell_type": "code",
   "execution_count": 515,
   "id": "4e490f54-3865-4404-a38c-12fb5cd29df6",
   "metadata": {},
   "outputs": [
    {
     "name": "stdout",
     "output_type": "stream",
     "text": [
      "\u001b[1m32/32\u001b[0m \u001b[32m━━━━━━━━━━━━━━━━━━━━\u001b[0m\u001b[37m\u001b[0m \u001b[1m0s\u001b[0m 842us/step\n"
     ]
    }
   ],
   "source": [
    "y_pred3 = model3.predict(x_test)"
   ]
  },
  {
   "cell_type": "code",
   "execution_count": 517,
   "id": "7307c476-8a4a-44f1-b641-e175dc00d9d4",
   "metadata": {},
   "outputs": [
    {
     "name": "stdout",
     "output_type": "stream",
     "text": [
      "Model 3: Deep Neural Network - Accuracy: 94.10%\n"
     ]
    }
   ],
   "source": [
    "loss1, acc1 = model3.evaluate(x_test, y_test, verbose=0)\n",
    "print(\"Model 3: Deep Neural Network - Accuracy: {:.2f}%\".format(acc1 * 100))"
   ]
  }
 ],
 "metadata": {
  "kernelspec": {
   "display_name": "Python (myenv)",
   "language": "python",
   "name": "myenv"
  },
  "language_info": {
   "codemirror_mode": {
    "name": "ipython",
    "version": 3
   },
   "file_extension": ".py",
   "mimetype": "text/x-python",
   "name": "python",
   "nbconvert_exporter": "python",
   "pygments_lexer": "ipython3",
   "version": "3.12.2"
  }
 },
 "nbformat": 4,
 "nbformat_minor": 5
}
