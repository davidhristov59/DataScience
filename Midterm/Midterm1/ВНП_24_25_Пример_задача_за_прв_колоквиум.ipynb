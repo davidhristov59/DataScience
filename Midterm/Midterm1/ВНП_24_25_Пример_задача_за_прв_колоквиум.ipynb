{
 "nbformat": 4,
 "nbformat_minor": 0,
 "metadata": {
  "colab": {
   "provenance": [],
   "authorship_tag": "ABX9TyOED2Gk8Z5EIRFcY8gzAxCu"
  },
  "kernelspec": {
   "name": "python3",
   "display_name": "Python 3 (ipykernel)",
   "language": "python"
  },
  "language_info": {
   "name": "python"
  }
 },
 "cells": [
  {
   "cell_type": "code",
   "metadata": {
    "colab": {
     "base_uri": "https://localhost:8080/"
    },
    "id": "z6u1UKF0SnIN",
    "outputId": "cb440404-89cf-4ba1-c4da-a24cb22fc33f",
    "ExecuteTime": {
     "end_time": "2024-12-26T13:56:52.479494Z",
     "start_time": "2024-12-26T13:56:52.335858Z"
    }
   },
   "source": [
    "!gdown 1YAQHOBSmpDfwYeFq1dMQv94DyYPkp7Xc"
   ],
   "outputs": [
    {
     "name": "stdout",
     "output_type": "stream",
     "text": [
      "zsh:1: command not found: gdown\r\n"
     ]
    }
   ],
   "execution_count": 4
  },
  {
   "cell_type": "code",
   "source": [
    "import pandas as pd\n",
    "import numpy as np\n",
    "from sklearn import metrics\n",
    "from xgboost import XGBClassifier\n",
    "from sklearn.impute import SimpleImputer\n",
    "from sklearn.impute import KNNImputer\n",
    "from sklearn.preprocessing import LabelEncoder\n",
    "from sklearn.tree import DecisionTreeClassifier\n",
    "from sklearn.model_selection import train_test_split\n",
    "from sklearn.metrics import classification_report, confusion_matrix"
   ],
   "metadata": {
    "id": "-6SLHhJruL2E",
    "ExecuteTime": {
     "end_time": "2024-12-26T13:56:52.845325Z",
     "start_time": "2024-12-26T13:56:52.842303Z"
    }
   },
   "outputs": [],
   "execution_count": 5
  },
  {
   "cell_type": "code",
   "source": "data = pd.read_csv('datasets/alzheimer.csv')",
   "metadata": {
    "colab": {
     "base_uri": "https://localhost:8080/",
     "height": 143
    },
    "id": "IM4_91zus77P",
    "outputId": "30c484df-1065-4163-d8b2-e00c3e7a0d2f",
    "ExecuteTime": {
     "end_time": "2024-12-26T13:56:52.932509Z",
     "start_time": "2024-12-26T13:56:52.887470Z"
    }
   },
   "outputs": [],
   "execution_count": 6
  },
  {
   "metadata": {
    "ExecuteTime": {
     "end_time": "2024-12-26T13:56:53.205608Z",
     "start_time": "2024-12-26T13:56:53.191100Z"
    }
   },
   "cell_type": "code",
   "source": "data",
   "outputs": [
    {
     "data": {
      "text/plain": [
       "      PatientID       Domain   Age    BMI  HeartRate  BloodPressure  \\\n",
       "0       P000001  Orthopedics  62.0  28.09       69.0          115.0   \n",
       "1       P000002  Orthopedics  19.0  22.83       78.0          116.0   \n",
       "2       P000003   Pediatrics  18.0  27.40       71.0          116.0   \n",
       "3       P000004   Pediatrics  47.0  27.81       78.0          105.0   \n",
       "4       P000005    Neurology  38.0  17.92       69.0          113.0   \n",
       "...         ...          ...   ...    ...        ...            ...   \n",
       "29995   P029996   Cardiology  30.0  29.28       65.0          138.0   \n",
       "29996   P029997  Orthopedics  42.0  34.00       68.0          117.0   \n",
       "29997   P029998   Pediatrics  69.0  22.87       59.0          107.0   \n",
       "29998   P029999   Pediatrics  42.0  29.74       74.0          115.0   \n",
       "29999   P030000  Dermatology  30.0  18.45       71.0          118.0   \n",
       "\n",
       "       Cholesterol  CognitiveTestScore  StressMobilityTestScore    RiskLevel  \\\n",
       "0            206.0               82.78                    59.68    High Risk   \n",
       "1            196.0               76.00                    60.13     Low Risk   \n",
       "2            200.0               58.52                    68.76     Low Risk   \n",
       "3            176.0               83.56                    70.71  Medium Risk   \n",
       "4            208.0               74.45                    76.36    High Risk   \n",
       "...            ...                 ...                      ...          ...   \n",
       "29995        286.0               80.59                    81.70  Medium Risk   \n",
       "29996        190.0               62.90                    69.58     Low Risk   \n",
       "29997        212.0               82.72                    50.81     Low Risk   \n",
       "29998        191.0               74.63                    63.08    High Risk   \n",
       "29999        252.0               82.75                    59.05  Medium Risk   \n",
       "\n",
       "      FamilyHistoryDementia TreatmentResponse  \n",
       "0                        No            Stable  \n",
       "1                        No          Improved  \n",
       "2                       Yes      Deteriorated  \n",
       "3                       Yes          Improved  \n",
       "4                        No            Stable  \n",
       "...                     ...               ...  \n",
       "29995                    No          Improved  \n",
       "29996                    No          Improved  \n",
       "29997                    No            Stable  \n",
       "29998                    No          Improved  \n",
       "29999                    No          Improved  \n",
       "\n",
       "[30000 rows x 12 columns]"
      ],
      "text/html": [
       "<div>\n",
       "<style scoped>\n",
       "    .dataframe tbody tr th:only-of-type {\n",
       "        vertical-align: middle;\n",
       "    }\n",
       "\n",
       "    .dataframe tbody tr th {\n",
       "        vertical-align: top;\n",
       "    }\n",
       "\n",
       "    .dataframe thead th {\n",
       "        text-align: right;\n",
       "    }\n",
       "</style>\n",
       "<table border=\"1\" class=\"dataframe\">\n",
       "  <thead>\n",
       "    <tr style=\"text-align: right;\">\n",
       "      <th></th>\n",
       "      <th>PatientID</th>\n",
       "      <th>Domain</th>\n",
       "      <th>Age</th>\n",
       "      <th>BMI</th>\n",
       "      <th>HeartRate</th>\n",
       "      <th>BloodPressure</th>\n",
       "      <th>Cholesterol</th>\n",
       "      <th>CognitiveTestScore</th>\n",
       "      <th>StressMobilityTestScore</th>\n",
       "      <th>RiskLevel</th>\n",
       "      <th>FamilyHistoryDementia</th>\n",
       "      <th>TreatmentResponse</th>\n",
       "    </tr>\n",
       "  </thead>\n",
       "  <tbody>\n",
       "    <tr>\n",
       "      <th>0</th>\n",
       "      <td>P000001</td>\n",
       "      <td>Orthopedics</td>\n",
       "      <td>62.0</td>\n",
       "      <td>28.09</td>\n",
       "      <td>69.0</td>\n",
       "      <td>115.0</td>\n",
       "      <td>206.0</td>\n",
       "      <td>82.78</td>\n",
       "      <td>59.68</td>\n",
       "      <td>High Risk</td>\n",
       "      <td>No</td>\n",
       "      <td>Stable</td>\n",
       "    </tr>\n",
       "    <tr>\n",
       "      <th>1</th>\n",
       "      <td>P000002</td>\n",
       "      <td>Orthopedics</td>\n",
       "      <td>19.0</td>\n",
       "      <td>22.83</td>\n",
       "      <td>78.0</td>\n",
       "      <td>116.0</td>\n",
       "      <td>196.0</td>\n",
       "      <td>76.00</td>\n",
       "      <td>60.13</td>\n",
       "      <td>Low Risk</td>\n",
       "      <td>No</td>\n",
       "      <td>Improved</td>\n",
       "    </tr>\n",
       "    <tr>\n",
       "      <th>2</th>\n",
       "      <td>P000003</td>\n",
       "      <td>Pediatrics</td>\n",
       "      <td>18.0</td>\n",
       "      <td>27.40</td>\n",
       "      <td>71.0</td>\n",
       "      <td>116.0</td>\n",
       "      <td>200.0</td>\n",
       "      <td>58.52</td>\n",
       "      <td>68.76</td>\n",
       "      <td>Low Risk</td>\n",
       "      <td>Yes</td>\n",
       "      <td>Deteriorated</td>\n",
       "    </tr>\n",
       "    <tr>\n",
       "      <th>3</th>\n",
       "      <td>P000004</td>\n",
       "      <td>Pediatrics</td>\n",
       "      <td>47.0</td>\n",
       "      <td>27.81</td>\n",
       "      <td>78.0</td>\n",
       "      <td>105.0</td>\n",
       "      <td>176.0</td>\n",
       "      <td>83.56</td>\n",
       "      <td>70.71</td>\n",
       "      <td>Medium Risk</td>\n",
       "      <td>Yes</td>\n",
       "      <td>Improved</td>\n",
       "    </tr>\n",
       "    <tr>\n",
       "      <th>4</th>\n",
       "      <td>P000005</td>\n",
       "      <td>Neurology</td>\n",
       "      <td>38.0</td>\n",
       "      <td>17.92</td>\n",
       "      <td>69.0</td>\n",
       "      <td>113.0</td>\n",
       "      <td>208.0</td>\n",
       "      <td>74.45</td>\n",
       "      <td>76.36</td>\n",
       "      <td>High Risk</td>\n",
       "      <td>No</td>\n",
       "      <td>Stable</td>\n",
       "    </tr>\n",
       "    <tr>\n",
       "      <th>...</th>\n",
       "      <td>...</td>\n",
       "      <td>...</td>\n",
       "      <td>...</td>\n",
       "      <td>...</td>\n",
       "      <td>...</td>\n",
       "      <td>...</td>\n",
       "      <td>...</td>\n",
       "      <td>...</td>\n",
       "      <td>...</td>\n",
       "      <td>...</td>\n",
       "      <td>...</td>\n",
       "      <td>...</td>\n",
       "    </tr>\n",
       "    <tr>\n",
       "      <th>29995</th>\n",
       "      <td>P029996</td>\n",
       "      <td>Cardiology</td>\n",
       "      <td>30.0</td>\n",
       "      <td>29.28</td>\n",
       "      <td>65.0</td>\n",
       "      <td>138.0</td>\n",
       "      <td>286.0</td>\n",
       "      <td>80.59</td>\n",
       "      <td>81.70</td>\n",
       "      <td>Medium Risk</td>\n",
       "      <td>No</td>\n",
       "      <td>Improved</td>\n",
       "    </tr>\n",
       "    <tr>\n",
       "      <th>29996</th>\n",
       "      <td>P029997</td>\n",
       "      <td>Orthopedics</td>\n",
       "      <td>42.0</td>\n",
       "      <td>34.00</td>\n",
       "      <td>68.0</td>\n",
       "      <td>117.0</td>\n",
       "      <td>190.0</td>\n",
       "      <td>62.90</td>\n",
       "      <td>69.58</td>\n",
       "      <td>Low Risk</td>\n",
       "      <td>No</td>\n",
       "      <td>Improved</td>\n",
       "    </tr>\n",
       "    <tr>\n",
       "      <th>29997</th>\n",
       "      <td>P029998</td>\n",
       "      <td>Pediatrics</td>\n",
       "      <td>69.0</td>\n",
       "      <td>22.87</td>\n",
       "      <td>59.0</td>\n",
       "      <td>107.0</td>\n",
       "      <td>212.0</td>\n",
       "      <td>82.72</td>\n",
       "      <td>50.81</td>\n",
       "      <td>Low Risk</td>\n",
       "      <td>No</td>\n",
       "      <td>Stable</td>\n",
       "    </tr>\n",
       "    <tr>\n",
       "      <th>29998</th>\n",
       "      <td>P029999</td>\n",
       "      <td>Pediatrics</td>\n",
       "      <td>42.0</td>\n",
       "      <td>29.74</td>\n",
       "      <td>74.0</td>\n",
       "      <td>115.0</td>\n",
       "      <td>191.0</td>\n",
       "      <td>74.63</td>\n",
       "      <td>63.08</td>\n",
       "      <td>High Risk</td>\n",
       "      <td>No</td>\n",
       "      <td>Improved</td>\n",
       "    </tr>\n",
       "    <tr>\n",
       "      <th>29999</th>\n",
       "      <td>P030000</td>\n",
       "      <td>Dermatology</td>\n",
       "      <td>30.0</td>\n",
       "      <td>18.45</td>\n",
       "      <td>71.0</td>\n",
       "      <td>118.0</td>\n",
       "      <td>252.0</td>\n",
       "      <td>82.75</td>\n",
       "      <td>59.05</td>\n",
       "      <td>Medium Risk</td>\n",
       "      <td>No</td>\n",
       "      <td>Improved</td>\n",
       "    </tr>\n",
       "  </tbody>\n",
       "</table>\n",
       "<p>30000 rows × 12 columns</p>\n",
       "</div>"
      ]
     },
     "execution_count": 7,
     "metadata": {},
     "output_type": "execute_result"
    }
   ],
   "execution_count": 7
  },
  {
   "cell_type": "code",
   "source": [
    "data.isna().sum()"
   ],
   "metadata": {
    "colab": {
     "base_uri": "https://localhost:8080/",
     "height": 460
    },
    "id": "yIWki3XuWCYN",
    "outputId": "b7892b44-f349-4cf8-aaca-d158fdc0bc1c",
    "ExecuteTime": {
     "end_time": "2024-12-26T13:56:53.286814Z",
     "start_time": "2024-12-26T13:56:53.273869Z"
    }
   },
   "outputs": [
    {
     "data": {
      "text/plain": [
       "PatientID                    0\n",
       "Domain                     200\n",
       "Age                        200\n",
       "BMI                        200\n",
       "HeartRate                   50\n",
       "BloodPressure              200\n",
       "Cholesterol                200\n",
       "CognitiveTestScore          50\n",
       "StressMobilityTestScore    200\n",
       "RiskLevel                    0\n",
       "FamilyHistoryDementia        0\n",
       "TreatmentResponse            0\n",
       "dtype: int64"
      ]
     },
     "execution_count": 8,
     "metadata": {},
     "output_type": "execute_result"
    }
   ],
   "execution_count": 8
  },
  {
   "cell_type": "code",
   "source": [
    "def drop_data(data:pd.DataFrame, columns:list):\n",
    "  data_copy = data.copy()\n",
    "  data_copy.drop(columns, axis=1, inplace=True)\n",
    "  return data_copy"
   ],
   "metadata": {
    "id": "kIPqLix94HaT",
    "ExecuteTime": {
     "end_time": "2024-12-26T13:56:53.498393Z",
     "start_time": "2024-12-26T13:56:53.496505Z"
    }
   },
   "outputs": [],
   "execution_count": 9
  },
  {
   "cell_type": "code",
   "source": [
    "def simple_impute_data(data:pd.DataFrame, columns:list, strategy:str):\n",
    "  imputer = SimpleImputer(strategy=strategy)\n",
    "  data_copy = data.copy()\n",
    "\n",
    "  for column in columns:\n",
    "    data_copy[column] = imputer.fit_transform(data_copy[[column]])\n",
    "  return data_copy"
   ],
   "metadata": {
    "id": "zsSlrOBz54FQ",
    "ExecuteTime": {
     "end_time": "2024-12-26T13:56:54.000822Z",
     "start_time": "2024-12-26T13:56:53.994909Z"
    }
   },
   "outputs": [],
   "execution_count": 10
  },
  {
   "cell_type": "code",
   "source": [
    "def label_data(data:pd.DataFrame, columns:list):\n",
    "  encoder = LabelEncoder()\n",
    "  data_copy = data.copy()\n",
    "\n",
    "  for column in columns:\n",
    "    data_copy[column] = encoder.fit_transform(data_copy[[column]].astype(str).values.ravel())\n",
    "\n",
    "    # if 'nan' in encoder.classes_:\n",
    "    #   data_copy.loc[data_copy[column] == -1, column] = np.nan\n",
    "  return data_copy"
   ],
   "metadata": {
    "id": "6WhgI2mN3sX6",
    "ExecuteTime": {
     "end_time": "2024-12-26T13:56:54.354730Z",
     "start_time": "2024-12-26T13:56:54.350936Z"
    }
   },
   "outputs": [],
   "execution_count": 11
  },
  {
   "cell_type": "code",
   "source": [
    "# def knn_impute_data(data:pd.DataFrame, columns:list, n_neighbors:int, weights:str):\n",
    "#   imputer = KNNImputer(n_neighbors=n_neighbors, weights=weights)\n",
    "#   data_copy = data.copy()\n",
    "\n",
    "#   for column in columns:\n",
    "#     data_copy[column] = imputer.fit_transform(data_copy[column].to_numpy().reshape(-1, 1))\n",
    "#   return data_copy"
   ],
   "metadata": {
    "id": "AdNFogKCm_61",
    "ExecuteTime": {
     "end_time": "2024-12-26T13:56:54.969774Z",
     "start_time": "2024-12-26T13:56:54.967374Z"
    }
   },
   "outputs": [],
   "execution_count": 12
  },
  {
   "cell_type": "code",
   "source": [
    "data = drop_data(data=data, columns=['PatientID', 'Domain'])\n",
    "\n",
    "data = simple_impute_data(data=data, columns=['Age', 'BMI', 'HeartRate', 'BloodPressure', 'Cholesterol', 'CognitiveTestScore', 'StressMobilityTestScore'], strategy='mean')\n",
    "data = label_data(data=data, columns=['RiskLevel', 'FamilyHistoryDementia', 'TreatmentResponse'])"
   ],
   "metadata": {
    "id": "ADr6_ZSH7U6l",
    "ExecuteTime": {
     "end_time": "2024-12-26T13:56:55.323840Z",
     "start_time": "2024-12-26T13:56:55.258483Z"
    }
   },
   "outputs": [],
   "execution_count": 13
  },
  {
   "cell_type": "code",
   "source": [
    "data.sample(5)"
   ],
   "metadata": {
    "colab": {
     "base_uri": "https://localhost:8080/",
     "height": 206
    },
    "id": "YZIQrKVC7aKQ",
    "outputId": "b5a19784-952d-47d0-c24e-7fe32e169386",
    "ExecuteTime": {
     "end_time": "2024-12-26T13:56:55.358646Z",
     "start_time": "2024-12-26T13:56:55.338468Z"
    }
   },
   "outputs": [
    {
     "data": {
      "text/plain": [
       "        Age    BMI  HeartRate  BloodPressure  Cholesterol  CognitiveTestScore  \\\n",
       "6318   75.0  33.24       95.0          122.0        216.0               60.83   \n",
       "5218   76.0  33.64       70.0          126.0        170.0               89.32   \n",
       "2507   37.0  22.43       92.0          118.0        172.0               92.16   \n",
       "18222  87.0  16.24       74.0          141.0        213.0               74.30   \n",
       "14273  75.0  28.83       51.0           99.0        148.0               76.31   \n",
       "\n",
       "       StressMobilityTestScore  RiskLevel  FamilyHistoryDementia  \\\n",
       "6318                     73.54          0                      1   \n",
       "5218                     59.19          2                      0   \n",
       "2507                     62.33          2                      0   \n",
       "18222                    73.71          1                      1   \n",
       "14273                    77.09          2                      1   \n",
       "\n",
       "       TreatmentResponse  \n",
       "6318                   2  \n",
       "5218                   1  \n",
       "2507                   1  \n",
       "18222                  1  \n",
       "14273                  0  "
      ],
      "text/html": [
       "<div>\n",
       "<style scoped>\n",
       "    .dataframe tbody tr th:only-of-type {\n",
       "        vertical-align: middle;\n",
       "    }\n",
       "\n",
       "    .dataframe tbody tr th {\n",
       "        vertical-align: top;\n",
       "    }\n",
       "\n",
       "    .dataframe thead th {\n",
       "        text-align: right;\n",
       "    }\n",
       "</style>\n",
       "<table border=\"1\" class=\"dataframe\">\n",
       "  <thead>\n",
       "    <tr style=\"text-align: right;\">\n",
       "      <th></th>\n",
       "      <th>Age</th>\n",
       "      <th>BMI</th>\n",
       "      <th>HeartRate</th>\n",
       "      <th>BloodPressure</th>\n",
       "      <th>Cholesterol</th>\n",
       "      <th>CognitiveTestScore</th>\n",
       "      <th>StressMobilityTestScore</th>\n",
       "      <th>RiskLevel</th>\n",
       "      <th>FamilyHistoryDementia</th>\n",
       "      <th>TreatmentResponse</th>\n",
       "    </tr>\n",
       "  </thead>\n",
       "  <tbody>\n",
       "    <tr>\n",
       "      <th>6318</th>\n",
       "      <td>75.0</td>\n",
       "      <td>33.24</td>\n",
       "      <td>95.0</td>\n",
       "      <td>122.0</td>\n",
       "      <td>216.0</td>\n",
       "      <td>60.83</td>\n",
       "      <td>73.54</td>\n",
       "      <td>0</td>\n",
       "      <td>1</td>\n",
       "      <td>2</td>\n",
       "    </tr>\n",
       "    <tr>\n",
       "      <th>5218</th>\n",
       "      <td>76.0</td>\n",
       "      <td>33.64</td>\n",
       "      <td>70.0</td>\n",
       "      <td>126.0</td>\n",
       "      <td>170.0</td>\n",
       "      <td>89.32</td>\n",
       "      <td>59.19</td>\n",
       "      <td>2</td>\n",
       "      <td>0</td>\n",
       "      <td>1</td>\n",
       "    </tr>\n",
       "    <tr>\n",
       "      <th>2507</th>\n",
       "      <td>37.0</td>\n",
       "      <td>22.43</td>\n",
       "      <td>92.0</td>\n",
       "      <td>118.0</td>\n",
       "      <td>172.0</td>\n",
       "      <td>92.16</td>\n",
       "      <td>62.33</td>\n",
       "      <td>2</td>\n",
       "      <td>0</td>\n",
       "      <td>1</td>\n",
       "    </tr>\n",
       "    <tr>\n",
       "      <th>18222</th>\n",
       "      <td>87.0</td>\n",
       "      <td>16.24</td>\n",
       "      <td>74.0</td>\n",
       "      <td>141.0</td>\n",
       "      <td>213.0</td>\n",
       "      <td>74.30</td>\n",
       "      <td>73.71</td>\n",
       "      <td>1</td>\n",
       "      <td>1</td>\n",
       "      <td>1</td>\n",
       "    </tr>\n",
       "    <tr>\n",
       "      <th>14273</th>\n",
       "      <td>75.0</td>\n",
       "      <td>28.83</td>\n",
       "      <td>51.0</td>\n",
       "      <td>99.0</td>\n",
       "      <td>148.0</td>\n",
       "      <td>76.31</td>\n",
       "      <td>77.09</td>\n",
       "      <td>2</td>\n",
       "      <td>1</td>\n",
       "      <td>0</td>\n",
       "    </tr>\n",
       "  </tbody>\n",
       "</table>\n",
       "</div>"
      ]
     },
     "execution_count": 14,
     "metadata": {},
     "output_type": "execute_result"
    }
   ],
   "execution_count": 14
  },
  {
   "cell_type": "code",
   "source": [
    "data.isna().sum()"
   ],
   "metadata": {
    "colab": {
     "base_uri": "https://localhost:8080/",
     "height": 398
    },
    "id": "o-DkvfBymB5J",
    "outputId": "5e95c910-bc45-432f-ff42-a6d3248c3da4",
    "ExecuteTime": {
     "end_time": "2024-12-26T13:56:55.463893Z",
     "start_time": "2024-12-26T13:56:55.460246Z"
    }
   },
   "outputs": [
    {
     "data": {
      "text/plain": [
       "Age                        0\n",
       "BMI                        0\n",
       "HeartRate                  0\n",
       "BloodPressure              0\n",
       "Cholesterol                0\n",
       "CognitiveTestScore         0\n",
       "StressMobilityTestScore    0\n",
       "RiskLevel                  0\n",
       "FamilyHistoryDementia      0\n",
       "TreatmentResponse          0\n",
       "dtype: int64"
      ]
     },
     "execution_count": 15,
     "metadata": {},
     "output_type": "execute_result"
    }
   ],
   "execution_count": 15
  },
  {
   "cell_type": "code",
   "source": [
    "input_data = data.copy()\n",
    "input_data = drop_data(data=input_data, columns=['RiskLevel'])\n",
    "input_data.sample(3)"
   ],
   "metadata": {
    "colab": {
     "base_uri": "https://localhost:8080/",
     "height": 143
    },
    "id": "b2ZHF4acXPu1",
    "outputId": "b6724d30-1888-4b9e-ce73-7aa8ec8f2963",
    "ExecuteTime": {
     "end_time": "2024-12-26T13:56:55.659127Z",
     "start_time": "2024-12-26T13:56:55.650643Z"
    }
   },
   "outputs": [
    {
     "data": {
      "text/plain": [
       "        Age    BMI  HeartRate  BloodPressure  Cholesterol  CognitiveTestScore  \\\n",
       "5970   21.0  31.03       72.0           95.0        182.0               69.45   \n",
       "1281   83.0  24.86       50.0          151.0        153.0               56.95   \n",
       "13854  89.0  25.40       67.0          140.0        213.0               68.03   \n",
       "\n",
       "       StressMobilityTestScore  FamilyHistoryDementia  TreatmentResponse  \n",
       "5970                     71.83                      1                  0  \n",
       "1281                     62.73                      0                  1  \n",
       "13854                    70.46                      0                  0  "
      ],
      "text/html": [
       "<div>\n",
       "<style scoped>\n",
       "    .dataframe tbody tr th:only-of-type {\n",
       "        vertical-align: middle;\n",
       "    }\n",
       "\n",
       "    .dataframe tbody tr th {\n",
       "        vertical-align: top;\n",
       "    }\n",
       "\n",
       "    .dataframe thead th {\n",
       "        text-align: right;\n",
       "    }\n",
       "</style>\n",
       "<table border=\"1\" class=\"dataframe\">\n",
       "  <thead>\n",
       "    <tr style=\"text-align: right;\">\n",
       "      <th></th>\n",
       "      <th>Age</th>\n",
       "      <th>BMI</th>\n",
       "      <th>HeartRate</th>\n",
       "      <th>BloodPressure</th>\n",
       "      <th>Cholesterol</th>\n",
       "      <th>CognitiveTestScore</th>\n",
       "      <th>StressMobilityTestScore</th>\n",
       "      <th>FamilyHistoryDementia</th>\n",
       "      <th>TreatmentResponse</th>\n",
       "    </tr>\n",
       "  </thead>\n",
       "  <tbody>\n",
       "    <tr>\n",
       "      <th>5970</th>\n",
       "      <td>21.0</td>\n",
       "      <td>31.03</td>\n",
       "      <td>72.0</td>\n",
       "      <td>95.0</td>\n",
       "      <td>182.0</td>\n",
       "      <td>69.45</td>\n",
       "      <td>71.83</td>\n",
       "      <td>1</td>\n",
       "      <td>0</td>\n",
       "    </tr>\n",
       "    <tr>\n",
       "      <th>1281</th>\n",
       "      <td>83.0</td>\n",
       "      <td>24.86</td>\n",
       "      <td>50.0</td>\n",
       "      <td>151.0</td>\n",
       "      <td>153.0</td>\n",
       "      <td>56.95</td>\n",
       "      <td>62.73</td>\n",
       "      <td>0</td>\n",
       "      <td>1</td>\n",
       "    </tr>\n",
       "    <tr>\n",
       "      <th>13854</th>\n",
       "      <td>89.0</td>\n",
       "      <td>25.40</td>\n",
       "      <td>67.0</td>\n",
       "      <td>140.0</td>\n",
       "      <td>213.0</td>\n",
       "      <td>68.03</td>\n",
       "      <td>70.46</td>\n",
       "      <td>0</td>\n",
       "      <td>0</td>\n",
       "    </tr>\n",
       "  </tbody>\n",
       "</table>\n",
       "</div>"
      ]
     },
     "execution_count": 16,
     "metadata": {},
     "output_type": "execute_result"
    }
   ],
   "execution_count": 16
  },
  {
   "cell_type": "code",
   "source": [
    "target_data = data.copy()['RiskLevel']\n",
    "target_data.sample(3)"
   ],
   "metadata": {
    "colab": {
     "base_uri": "https://localhost:8080/",
     "height": 178
    },
    "id": "KRh4MUKkXsDG",
    "outputId": "fb8eba73-f20f-4f18-bc7b-8cfd81f76f4b",
    "ExecuteTime": {
     "end_time": "2024-12-26T13:56:55.963089Z",
     "start_time": "2024-12-26T13:56:55.958395Z"
    }
   },
   "outputs": [
    {
     "data": {
      "text/plain": [
       "24179    2\n",
       "9783     1\n",
       "7921     2\n",
       "Name: RiskLevel, dtype: int64"
      ]
     },
     "execution_count": 17,
     "metadata": {},
     "output_type": "execute_result"
    }
   ],
   "execution_count": 17
  },
  {
   "cell_type": "code",
   "source": [
    "X_train, X_test, Y_train, Y_test = train_test_split(input_data, target_data, test_size=0.2)"
   ],
   "metadata": {
    "id": "9ve1dYzaYpnB",
    "ExecuteTime": {
     "end_time": "2024-12-26T13:56:56.272768Z",
     "start_time": "2024-12-26T13:56:56.268105Z"
    }
   },
   "outputs": [],
   "execution_count": 18
  },
  {
   "cell_type": "code",
   "source": [
    "model = XGBClassifier(max_depth=5, min_child_weight=1, n_estimators=100, n_jobs=-1, learning_rate=0.1)\n",
    "model.fit(X_train, Y_train)\n",
    "\n",
    "y_pred = model.predict(X_test)"
   ],
   "metadata": {
    "id": "W-o_oVgYZuhS",
    "ExecuteTime": {
     "end_time": "2024-12-26T13:56:58.003649Z",
     "start_time": "2024-12-26T13:56:56.621485Z"
    }
   },
   "outputs": [],
   "execution_count": 19
  },
  {
   "cell_type": "code",
   "source": [
    "print(\"Accuracy:\", metrics.accuracy_score(Y_test, y_pred))\n",
    "print(confusion_matrix(Y_test, y_pred))\n",
    "print(classification_report(Y_test, y_pred))"
   ],
   "metadata": {
    "colab": {
     "base_uri": "https://localhost:8080/"
    },
    "id": "mXf1nhWRZ_eO",
    "outputId": "a29d43d0-22ef-4e19-c5e8-21dc3b2491f7",
    "ExecuteTime": {
     "end_time": "2024-12-26T13:56:58.148571Z",
     "start_time": "2024-12-26T13:56:58.118389Z"
    }
   },
   "outputs": [
    {
     "name": "stdout",
     "output_type": "stream",
     "text": [
      "Accuracy: 0.333\n",
      "[[542 795 574]\n",
      " [575 840 687]\n",
      " [583 788 616]]\n",
      "              precision    recall  f1-score   support\n",
      "\n",
      "           0       0.32      0.28      0.30      1911\n",
      "           1       0.35      0.40      0.37      2102\n",
      "           2       0.33      0.31      0.32      1987\n",
      "\n",
      "    accuracy                           0.33      6000\n",
      "   macro avg       0.33      0.33      0.33      6000\n",
      "weighted avg       0.33      0.33      0.33      6000\n",
      "\n"
     ]
    }
   ],
   "execution_count": 20
  },
  {
   "cell_type": "code",
   "source": [
    "classifier = DecisionTreeClassifier(max_depth=3)\n",
    "classifier = classifier.fit(X_train,Y_train)\n",
    "\n",
    "y_pred = classifier.predict(X_test)"
   ],
   "metadata": {
    "id": "0TJ8BUdQjRxd",
    "ExecuteTime": {
     "end_time": "2024-12-26T13:56:58.453935Z",
     "start_time": "2024-12-26T13:56:58.373831Z"
    }
   },
   "outputs": [],
   "execution_count": 21
  },
  {
   "cell_type": "code",
   "source": [
    "print(\"Accuracy:\", metrics.accuracy_score(Y_test, y_pred))\n",
    "print(confusion_matrix(Y_test, y_pred))\n",
    "print(classification_report(Y_test, y_pred))"
   ],
   "metadata": {
    "colab": {
     "base_uri": "https://localhost:8080/"
    },
    "id": "0cac9kN9jaiw",
    "outputId": "b3298905-7084-48b2-d502-dc06e4acce0d",
    "ExecuteTime": {
     "end_time": "2024-12-26T13:56:58.600773Z",
     "start_time": "2024-12-26T13:56:58.587950Z"
    }
   },
   "outputs": [
    {
     "name": "stdout",
     "output_type": "stream",
     "text": [
      "Accuracy: 0.3455\n",
      "[[ 816  951  144]\n",
      " [ 830 1133  139]\n",
      " [ 838 1025  124]]\n",
      "              precision    recall  f1-score   support\n",
      "\n",
      "           0       0.33      0.43      0.37      1911\n",
      "           1       0.36      0.54      0.43      2102\n",
      "           2       0.30      0.06      0.10      1987\n",
      "\n",
      "    accuracy                           0.35      6000\n",
      "   macro avg       0.33      0.34      0.30      6000\n",
      "weighted avg       0.33      0.35      0.30      6000\n",
      "\n"
     ]
    }
   ],
   "execution_count": 22
  },
  {
   "cell_type": "code",
   "source": [],
   "metadata": {
    "id": "48KSJ8CSn6m3",
    "ExecuteTime": {
     "end_time": "2024-12-26T13:56:58.621197Z",
     "start_time": "2024-12-26T13:56:58.619229Z"
    }
   },
   "outputs": [],
   "execution_count": null
  }
 ]
}
