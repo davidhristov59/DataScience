{
 "cells": [
  {
   "cell_type": "code",
   "id": "1962a7fe-6518-4ebd-8cee-410d5877e24a",
   "metadata": {
    "ExecuteTime": {
     "end_time": "2025-01-20T01:08:53.933807Z",
     "start_time": "2025-01-20T01:08:44.321958Z"
    }
   },
   "source": [
    "import numpy as np \n",
    "import pandas as pd \n",
    "from datasets import Dataset, load_dataset\n",
    "from sklearn.preprocessing import LabelEncoder, MinMaxScaler\n",
    "from sklearn.model_selection import train_test_split\n",
    "from transformers import AutoTokenizer\n",
    "from transformers import DataCollatorWithPadding\n",
    "from transformers import TrainingArguments, Trainer\n",
    "import evaluate\n",
    "from transformers import AutoModelForSequenceClassification"
   ],
   "outputs": [
    {
     "name": "stderr",
     "output_type": "stream",
     "text": [
      "/Users/davidhristov/miniconda3/envs/myenvconda2/lib/python3.9/site-packages/tqdm/auto.py:21: TqdmWarning: IProgress not found. Please update jupyter and ipywidgets. See https://ipywidgets.readthedocs.io/en/stable/user_install.html\n",
      "  from .autonotebook import tqdm as notebook_tqdm\n"
     ]
    }
   ],
   "execution_count": 1
  },
  {
   "cell_type": "code",
   "id": "de836e07-f97f-450a-85fd-029f3d728485",
   "metadata": {
    "ExecuteTime": {
     "end_time": "2025-01-20T01:08:54.681882Z",
     "start_time": "2025-01-20T01:08:53.967716Z"
    }
   },
   "source": [
    "dataset = load_dataset(\n",
    "    'csv',\n",
    "    data_files='dataset/IMDB_1.csv'\n",
    ")"
   ],
   "outputs": [],
   "execution_count": 2
  },
  {
   "cell_type": "code",
   "id": "7b77cdc9-c982-4bed-aaab-9b4369fa82d3",
   "metadata": {
    "ExecuteTime": {
     "end_time": "2025-01-20T01:08:54.920210Z",
     "start_time": "2025-01-20T01:08:54.916319Z"
    }
   },
   "source": [
    "dataset"
   ],
   "outputs": [
    {
     "data": {
      "text/plain": [
       "DatasetDict({\n",
       "    train: Dataset({\n",
       "        features: ['review_es', 'sentiment'],\n",
       "        num_rows: 250\n",
       "    })\n",
       "})"
      ]
     },
     "execution_count": 3,
     "metadata": {},
     "output_type": "execute_result"
    }
   ],
   "execution_count": 3
  },
  {
   "cell_type": "code",
   "id": "9d06caa4-78a6-4f7d-831a-76305f5e2513",
   "metadata": {
    "ExecuteTime": {
     "end_time": "2025-01-20T01:08:55.002313Z",
     "start_time": "2025-01-20T01:08:54.999188Z"
    }
   },
   "source": [
    "dataset['train'].column_names"
   ],
   "outputs": [
    {
     "data": {
      "text/plain": [
       "['review_es', 'sentiment']"
      ]
     },
     "execution_count": 4,
     "metadata": {},
     "output_type": "execute_result"
    }
   ],
   "execution_count": 4
  },
  {
   "cell_type": "code",
   "id": "f6bd544b-a220-4008-bb01-a06a7e7a76e7",
   "metadata": {
    "ExecuteTime": {
     "end_time": "2025-01-20T01:08:55.135830Z",
     "start_time": "2025-01-20T01:08:55.112534Z"
    }
   },
   "source": [
    "df = pd.DataFrame(dataset['train'])"
   ],
   "outputs": [],
   "execution_count": 5
  },
  {
   "cell_type": "code",
   "id": "448b2f38-cabc-48ea-8c8b-7ff7b5023802",
   "metadata": {
    "ExecuteTime": {
     "end_time": "2025-01-20T01:08:55.375338Z",
     "start_time": "2025-01-20T01:08:55.184840Z"
    }
   },
   "source": [
    "df"
   ],
   "outputs": [
    {
     "data": {
      "text/plain": [
       "                                             review_es sentiment\n",
       "0    Uno de los otros críticos ha mencionado que de...  positive\n",
       "1    Una pequeña pequeña producción.La técnica de f...  positive\n",
       "2    Pensé que esta era una manera maravillosa de p...  positive\n",
       "3    Básicamente, hay una familia donde un niño peq...  negative\n",
       "4    El \"amor en el tiempo\" de Petter Mattei es una...  positive\n",
       "..                                                 ...       ...\n",
       "245  He visto esta película al menos 100 veces y to...  positive\n",
       "246  Este espectáculo no tiene absolutamente ningún...  negative\n",
       "247  ¡Esta película fue tan mala que fue divertido!...  negative\n",
       "248  Meryl Streep es un genio.Bueno, al menos como ...  positive\n",
       "249  'Airport 4' is basically a slopped together me...  negative\n",
       "\n",
       "[250 rows x 2 columns]"
      ],
      "text/html": [
       "<div>\n",
       "<style scoped>\n",
       "    .dataframe tbody tr th:only-of-type {\n",
       "        vertical-align: middle;\n",
       "    }\n",
       "\n",
       "    .dataframe tbody tr th {\n",
       "        vertical-align: top;\n",
       "    }\n",
       "\n",
       "    .dataframe thead th {\n",
       "        text-align: right;\n",
       "    }\n",
       "</style>\n",
       "<table border=\"1\" class=\"dataframe\">\n",
       "  <thead>\n",
       "    <tr style=\"text-align: right;\">\n",
       "      <th></th>\n",
       "      <th>review_es</th>\n",
       "      <th>sentiment</th>\n",
       "    </tr>\n",
       "  </thead>\n",
       "  <tbody>\n",
       "    <tr>\n",
       "      <th>0</th>\n",
       "      <td>Uno de los otros críticos ha mencionado que de...</td>\n",
       "      <td>positive</td>\n",
       "    </tr>\n",
       "    <tr>\n",
       "      <th>1</th>\n",
       "      <td>Una pequeña pequeña producción.La técnica de f...</td>\n",
       "      <td>positive</td>\n",
       "    </tr>\n",
       "    <tr>\n",
       "      <th>2</th>\n",
       "      <td>Pensé que esta era una manera maravillosa de p...</td>\n",
       "      <td>positive</td>\n",
       "    </tr>\n",
       "    <tr>\n",
       "      <th>3</th>\n",
       "      <td>Básicamente, hay una familia donde un niño peq...</td>\n",
       "      <td>negative</td>\n",
       "    </tr>\n",
       "    <tr>\n",
       "      <th>4</th>\n",
       "      <td>El \"amor en el tiempo\" de Petter Mattei es una...</td>\n",
       "      <td>positive</td>\n",
       "    </tr>\n",
       "    <tr>\n",
       "      <th>...</th>\n",
       "      <td>...</td>\n",
       "      <td>...</td>\n",
       "    </tr>\n",
       "    <tr>\n",
       "      <th>245</th>\n",
       "      <td>He visto esta película al menos 100 veces y to...</td>\n",
       "      <td>positive</td>\n",
       "    </tr>\n",
       "    <tr>\n",
       "      <th>246</th>\n",
       "      <td>Este espectáculo no tiene absolutamente ningún...</td>\n",
       "      <td>negative</td>\n",
       "    </tr>\n",
       "    <tr>\n",
       "      <th>247</th>\n",
       "      <td>¡Esta película fue tan mala que fue divertido!...</td>\n",
       "      <td>negative</td>\n",
       "    </tr>\n",
       "    <tr>\n",
       "      <th>248</th>\n",
       "      <td>Meryl Streep es un genio.Bueno, al menos como ...</td>\n",
       "      <td>positive</td>\n",
       "    </tr>\n",
       "    <tr>\n",
       "      <th>249</th>\n",
       "      <td>'Airport 4' is basically a slopped together me...</td>\n",
       "      <td>negative</td>\n",
       "    </tr>\n",
       "  </tbody>\n",
       "</table>\n",
       "<p>250 rows × 2 columns</p>\n",
       "</div>"
      ]
     },
     "execution_count": 6,
     "metadata": {},
     "output_type": "execute_result"
    }
   ],
   "execution_count": 6
  },
  {
   "cell_type": "code",
   "id": "95c60344-e0cf-48e3-89a5-dd7bb6d4976b",
   "metadata": {
    "ExecuteTime": {
     "end_time": "2025-01-20T01:08:55.394420Z",
     "start_time": "2025-01-20T01:08:55.388662Z"
    }
   },
   "source": [
    "df['sentiment'].unique()"
   ],
   "outputs": [
    {
     "data": {
      "text/plain": [
       "array(['positive', 'negative'], dtype=object)"
      ]
     },
     "execution_count": 7,
     "metadata": {},
     "output_type": "execute_result"
    }
   ],
   "execution_count": 7
  },
  {
   "cell_type": "code",
   "id": "465d9ea4-3082-4b0f-be71-4581596c68b7",
   "metadata": {
    "ExecuteTime": {
     "end_time": "2025-01-20T01:08:55.421563Z",
     "start_time": "2025-01-20T01:08:55.416765Z"
    }
   },
   "source": [
    "encoder = LabelEncoder()\n",
    "\n",
    "labels = encoder.fit_transform(dataset['train']['sentiment'])"
   ],
   "outputs": [],
   "execution_count": 8
  },
  {
   "cell_type": "code",
   "id": "4fa48d3b-c0f7-43d8-bcde-d70268a8cafd",
   "metadata": {
    "ExecuteTime": {
     "end_time": "2025-01-20T01:08:55.451552Z",
     "start_time": "2025-01-20T01:08:55.444485Z"
    }
   },
   "source": [
    "dataset['train'] = dataset['train'].add_column('label', labels)"
   ],
   "outputs": [],
   "execution_count": 9
  },
  {
   "cell_type": "code",
   "id": "8def42dc-a751-4882-b517-f5d354370999",
   "metadata": {
    "ExecuteTime": {
     "end_time": "2025-01-20T01:08:55.488456Z",
     "start_time": "2025-01-20T01:08:55.484628Z"
    }
   },
   "source": [
    "dataset['train'] = dataset['train'].remove_columns('sentiment')"
   ],
   "outputs": [],
   "execution_count": 10
  },
  {
   "cell_type": "code",
   "id": "5325cb3e-61ab-43c6-859b-892a8c46f819",
   "metadata": {
    "ExecuteTime": {
     "end_time": "2025-01-20T01:08:55.564912Z",
     "start_time": "2025-01-20T01:08:55.561847Z"
    }
   },
   "source": [
    "dataset = dataset.rename_column('review_es', 'text')"
   ],
   "outputs": [],
   "execution_count": 11
  },
  {
   "cell_type": "code",
   "id": "0d393970-d1a6-4e1d-ac91-22df7d74cd34",
   "metadata": {
    "ExecuteTime": {
     "end_time": "2025-01-20T01:08:55.606581Z",
     "start_time": "2025-01-20T01:08:55.603541Z"
    }
   },
   "source": [
    "dataset"
   ],
   "outputs": [
    {
     "data": {
      "text/plain": [
       "DatasetDict({\n",
       "    train: Dataset({\n",
       "        features: ['text', 'label'],\n",
       "        num_rows: 250\n",
       "    })\n",
       "})"
      ]
     },
     "execution_count": 12,
     "metadata": {},
     "output_type": "execute_result"
    }
   ],
   "execution_count": 12
  },
  {
   "cell_type": "code",
   "id": "b13eafb6-b9f8-4ba1-9889-c77c9a013997",
   "metadata": {
    "ExecuteTime": {
     "end_time": "2025-01-20T01:08:55.640303Z",
     "start_time": "2025-01-20T01:08:55.626845Z"
    }
   },
   "source": [
    "dataset = dataset['train'].train_test_split(test_size=0.2)"
   ],
   "outputs": [],
   "execution_count": 13
  },
  {
   "cell_type": "code",
   "id": "a8ebb9ee-764d-4384-94f1-38d9bf8ae50a",
   "metadata": {
    "ExecuteTime": {
     "end_time": "2025-01-20T01:08:55.663107Z",
     "start_time": "2025-01-20T01:08:55.660501Z"
    }
   },
   "source": [
    "dataset"
   ],
   "outputs": [
    {
     "data": {
      "text/plain": [
       "DatasetDict({\n",
       "    train: Dataset({\n",
       "        features: ['text', 'label'],\n",
       "        num_rows: 200\n",
       "    })\n",
       "    test: Dataset({\n",
       "        features: ['text', 'label'],\n",
       "        num_rows: 50\n",
       "    })\n",
       "})"
      ]
     },
     "execution_count": 14,
     "metadata": {},
     "output_type": "execute_result"
    }
   ],
   "execution_count": 14
  },
  {
   "cell_type": "code",
   "id": "18b27706-ceb5-408d-8391-28a7ac7cea7d",
   "metadata": {
    "ExecuteTime": {
     "end_time": "2025-01-20T01:08:55.692442Z",
     "start_time": "2025-01-20T01:08:55.689661Z"
    }
   },
   "source": [
    "dataset['train'].features"
   ],
   "outputs": [
    {
     "data": {
      "text/plain": [
       "{'text': Value(dtype='string', id=None),\n",
       " 'label': Value(dtype='int64', id=None)}"
      ]
     },
     "execution_count": 15,
     "metadata": {},
     "output_type": "execute_result"
    }
   ],
   "execution_count": 15
  },
  {
   "cell_type": "code",
   "id": "302a2857-cc0e-4990-957c-218a024d0b81",
   "metadata": {
    "ExecuteTime": {
     "end_time": "2025-01-20T01:08:56.356318Z",
     "start_time": "2025-01-20T01:08:55.706282Z"
    }
   },
   "source": [
    "tokenizer = AutoTokenizer.from_pretrained('bert-base-uncased')"
   ],
   "outputs": [],
   "execution_count": 16
  },
  {
   "cell_type": "code",
   "id": "7b1143f7-c261-4025-a639-9514adaa7359",
   "metadata": {
    "ExecuteTime": {
     "end_time": "2025-01-20T01:08:56.447995Z",
     "start_time": "2025-01-20T01:08:56.443751Z"
    }
   },
   "source": [
    "def tokenize(sample):\n",
    "    return tokenizer(sample[\"text\"], truncation=True)"
   ],
   "outputs": [],
   "execution_count": 17
  },
  {
   "cell_type": "code",
   "id": "a4fc262c-ee2b-4216-ba4a-229d79d13c7f",
   "metadata": {
    "ExecuteTime": {
     "end_time": "2025-01-20T01:08:56.656962Z",
     "start_time": "2025-01-20T01:08:56.471829Z"
    }
   },
   "source": [
    "tokenized_dataset = dataset.map(tokenize, batched=True)"
   ],
   "outputs": [
    {
     "name": "stderr",
     "output_type": "stream",
     "text": [
      "Map: 100%|██████████| 200/200 [00:00<00:00, 1413.82 examples/s]\n",
      "Map: 100%|██████████| 50/50 [00:00<00:00, 2525.65 examples/s]\n"
     ]
    }
   ],
   "execution_count": 18
  },
  {
   "cell_type": "code",
   "id": "af652f73-cdfe-449e-8c82-6a7e368fe0a0",
   "metadata": {
    "ExecuteTime": {
     "end_time": "2025-01-20T01:08:56.728331Z",
     "start_time": "2025-01-20T01:08:56.725896Z"
    }
   },
   "source": [
    "data_collator = DataCollatorWithPadding(tokenizer=tokenizer)"
   ],
   "outputs": [],
   "execution_count": 19
  },
  {
   "cell_type": "code",
   "id": "9293466d-ee66-488d-8bf2-5ecba2ffc1f2",
   "metadata": {
    "ExecuteTime": {
     "end_time": "2025-01-20T01:08:56.754629Z",
     "start_time": "2025-01-20T01:08:56.750431Z"
    }
   },
   "source": [
    "tokenized_dataset"
   ],
   "outputs": [
    {
     "data": {
      "text/plain": [
       "DatasetDict({\n",
       "    train: Dataset({\n",
       "        features: ['text', 'label', 'input_ids', 'token_type_ids', 'attention_mask'],\n",
       "        num_rows: 200\n",
       "    })\n",
       "    test: Dataset({\n",
       "        features: ['text', 'label', 'input_ids', 'token_type_ids', 'attention_mask'],\n",
       "        num_rows: 50\n",
       "    })\n",
       "})"
      ]
     },
     "execution_count": 20,
     "metadata": {},
     "output_type": "execute_result"
    }
   ],
   "execution_count": 20
  },
  {
   "cell_type": "code",
   "id": "b74bc8a1-5cf7-4f64-90f8-b44ff43c16a6",
   "metadata": {
    "ExecuteTime": {
     "end_time": "2025-01-20T01:08:56.861920Z",
     "start_time": "2025-01-20T01:08:56.800508Z"
    }
   },
   "source": [
    "# HYPER TUNE THE MODEL \n",
    "\n",
    "training_args = TrainingArguments(\n",
    "\n",
    "    output_dir = 'trainer',\n",
    "    eval_strategy='epoch',\n",
    "    per_device_train_batch_size=8, #batch size for training \n",
    "    per_device_eval_batch_size=8, # batch size for evaluation\n",
    "    metric_for_best_model='f1',\n",
    "    num_train_epochs=3\n",
    ")"
   ],
   "outputs": [],
   "execution_count": 21
  },
  {
   "cell_type": "code",
   "id": "23cdc32c-b6ef-44f4-b651-9fd8bb48e688",
   "metadata": {
    "ExecuteTime": {
     "end_time": "2025-01-20T01:08:57.440677Z",
     "start_time": "2025-01-20T01:08:56.875019Z"
    }
   },
   "source": [
    "model = AutoModelForSequenceClassification.from_pretrained('bert-base-uncased', num_labels=2)"
   ],
   "outputs": [
    {
     "name": "stderr",
     "output_type": "stream",
     "text": [
      "Some weights of BertForSequenceClassification were not initialized from the model checkpoint at bert-base-uncased and are newly initialized: ['classifier.bias', 'classifier.weight']\n",
      "You should probably TRAIN this model on a down-stream task to be able to use it for predictions and inference.\n"
     ]
    }
   ],
   "execution_count": 22
  },
  {
   "cell_type": "code",
   "id": "37c5af74-4ac6-434b-9e4e-b024931ce94b",
   "metadata": {
    "ExecuteTime": {
     "end_time": "2025-01-20T01:08:58.879262Z",
     "start_time": "2025-01-20T01:08:57.455202Z"
    }
   },
   "source": [
    "metrics = evaluate.load('f1')"
   ],
   "outputs": [],
   "execution_count": 23
  },
  {
   "cell_type": "code",
   "id": "56e1f59d-3ab0-4679-8514-9f6c15f784a9",
   "metadata": {
    "ExecuteTime": {
     "end_time": "2025-01-20T01:08:58.901321Z",
     "start_time": "2025-01-20T01:08:58.898945Z"
    }
   },
   "source": [
    "def compute_metrics(eval_pred):\n",
    "    logits, labels = eval_pred\n",
    "    predictions = np.argmax(logits, axis=-1)\n",
    "    return metric.compute(predictions=predictions, references=labels, average=\"weighted\")"
   ],
   "outputs": [],
   "execution_count": 24
  },
  {
   "cell_type": "code",
   "id": "57431bb5-49f5-4a6f-a248-61bdcd5f0e76",
   "metadata": {
    "ExecuteTime": {
     "end_time": "2025-01-20T01:08:59.885348Z",
     "start_time": "2025-01-20T01:08:58.911338Z"
    }
   },
   "source": [
    "trainer = Trainer(\n",
    "    model,\n",
    "    train_dataset=tokenized_dataset['train'],\n",
    "    eval_dataset=tokenized_dataset['test'],\n",
    "    compute_metrics = compute_metrics,\n",
    "    data_collator = data_collator\n",
    ")"
   ],
   "outputs": [],
   "execution_count": 25
  },
  {
   "metadata": {},
   "cell_type": "code",
   "outputs": [],
   "execution_count": null,
   "source": "trainer.train()",
   "id": "53fb924cf463f886"
  },
  {
   "metadata": {},
   "cell_type": "code",
   "outputs": [],
   "execution_count": null,
   "source": "trainer.evaluate()",
   "id": "374efa13736ea806"
  },
  {
   "metadata": {},
   "cell_type": "code",
   "outputs": [],
   "execution_count": null,
   "source": "predictions = model.predict(tokenized_dataset['test'])",
   "id": "95fe86645da5958c"
  },
  {
   "metadata": {},
   "cell_type": "code",
   "outputs": [],
   "execution_count": null,
   "source": [
    "logits, labels = predictions.predictions, predictions.label_ids\n",
    "preds = np.argmax(logits, axis=-1)"
   ],
   "id": "5de89a3a67487e95"
  },
  {
   "metadata": {},
   "cell_type": "code",
   "outputs": [],
   "execution_count": null,
   "source": [
    "from sklearn.metrics import classification_report\n",
    "\n",
    "print(classification_report(labels, preds))"
   ],
   "id": "72ba73377e1317a9"
  }
 ],
 "metadata": {
  "kernelspec": {
   "display_name": "Python (myenvconda2)",
   "language": "python",
   "name": "myenvconda2"
  },
  "language_info": {
   "codemirror_mode": {
    "name": "ipython",
    "version": 3
   },
   "file_extension": ".py",
   "mimetype": "text/x-python",
   "name": "python",
   "nbconvert_exporter": "python",
   "pygments_lexer": "ipython3",
   "version": "3.9.15"
  }
 },
 "nbformat": 4,
 "nbformat_minor": 5
}
